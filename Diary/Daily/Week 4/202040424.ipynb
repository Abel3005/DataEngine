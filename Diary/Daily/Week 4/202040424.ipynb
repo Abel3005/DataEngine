{
 "cells": [
  {
   "cell_type": "markdown",
   "metadata": {},
   "source": [
    "# 2024.04.24\n",
    "\n",
    "**EDA(Garbage In, Garbage out)**\n",
    ">   목적 \n",
    ">   - 데이터의 형태와 척도가 분석에 알맞게 되어 있는지 확인\n",
    ">   - 데이터의 평균, 분산, 분포, 패턴 등의 확인을 통해 데이터 특성 파악\n",
    ">   - 결측치, 이상치 파악\n",
    "- 변수 간의 관계성 파악(실제 현업에서는 어떻게 쓰일지 모른다. 선택하기 위해서는 통계적인 지식과 도메인 지식이 필요)\n",
    "> - 많은 정보와 기술을 교류를 통해서 협업해야 하기 때문에, 커뮤니케이션 역량도 필요하다.\n",
    "- 분석의 목적과 방향성을 가져야 한다.\n",
    "\n",
    "## 공분산과 상관분석\n",
    "-변수 Y와 변수 X와의 상관관계\n",
    "-실제로 변수를 설정하여 분석할 때, 데이터의 정성적 의미를 분석하기가 힘듭니다.\n",
    "-따라서 정량적으로 수치화된 데이터에 대해서 상관관계를 파악하는 지표가 필요한데, 이것을 상관분석이라 합니다.\n",
    "\n",
    "**공분산**\n",
    "- 변수간의 선형성을 파악하기 위해서 나온 통계 값\n",
    "$X_{1}, X_{2}$가 다음의 관계를 가질 때\n",
    "- 양의 상관 관계 : $X_{1}$이 커질 때  $X_{2}$이 커진다.\n",
    "- 음의 상관 관계 : $X_{1}$이 커질 때  $X_{2}$이 작아진다.\n",
    "- 무의 상관 관계 : $X_{1}$의 변화가 $X_{2}$과 일관적인 변화를 일으키지 않는다.\n",
    "\n",
    "*공분산의 값은 스케일링이 적용되지 않는 값이므로, 범위의 크기가 다른 값들과 비교할 수 없습니다.*\n",
    "\n",
    "그러므로 correlation 연산을 하는 것이 아닌가? 라는 의문을 가졌는이것이 상관계수이다.\n",
    "\n",
    "**상관계수**\n",
    "- 공분산의 문제를 해결하는 값으로 -1~1사이의 값을 가집니다.\n",
    "> - $r_{xy} = \\frac{cov(X,Y)}{\\sigma_{x}\\sigma_{y}}$  \n",
    "\n",
    "## 시계열 데이터 시각화\n",
    "### Box Plot\n",
    "중앙값,최대값,최소값, 이상치를 시각화 해주는 기법\n",
    "\n",
    "### ViolinPlot\n",
    "첨도: 확률분포의 뾰족한 정도를 나타내는 값.\n",
    "왜도: 확률분포의 비대칭을 나타내는 값 \n",
    "> - 왜도 값이 0인 경우에는 정규분포와 유사-\n",
    "\n",
    "### 회귀 모델 분석\n",
    "회귀 : 독립 변수로 이루어진 종속변수를 예측하기 위해서 만들어 낸 수식\n",
    "- 독립변수가 단수인 경우와 다수인 경우에 따라서, 단순 회귀, 다중 회귀로 나타낼 수 있습니다.\n",
    "- 또한 회귀 계수의 결합이 다중으로 일어나지 않을 때를 선형 회귀, 일어날 때를 비선형 회귀라고 말합니다.\n",
    ">   - **최소 제곱법**\n",
    "\n",
    "#### 추론\n",
    "- 모델을 통하여 예측한 결과\n",
    "- 이 추론된 결과를 통해서 모델의 성능을 평가합니다.\n",
    "\n",
    "**과대 적합**  \n",
    "훈련 데이터에 모델이 맞춰져 있는 경우\n",
    ">   - 일반적인 데이터에 대해서 좋지 않는 성능을 보임\n",
    ">   - 데이터를 추가적으로 보내는 방법이나, 모델을 더 단순하게 만들어야 한다.  \n",
    "\n",
    "**과소 적합**  \n",
    "모델이 너무 단순하여 성능을 내지 못해는 겅우\n",
    ">   - 일반적인 데이터 뿐만이 아니라 훈련된 데이터에 대해서도 좋지 않는 성능을 보임\n",
    ">   - 모델을 더 복잡하게 만들어야 한다.\n",
    "#### 일반화\n",
    "- 모델의 성능을 높이기 위해서 모델을 최적화 하는 작업\n",
    "\n",
    "#### 편향과 분산\n",
    "- 편향과 분산은 한쪽이 높으면, 한쪽이 낮은 관계인 trade-off 관계입니다.\n",
    "- **편향** : 예측 값이 정답 값과 떨어진 정도\n",
    "- **분산** : 예측 값이 자기들과 떨어진 정도\n",
    "\n",
    "비용함수\n",
    "- 규제를 쓰는 이유는 과적합을 맞추기 위해서 \n",
    "L1 : W의 절대값에 패널티를 주는 것.\n",
    "L2\n",
    "\n",
    "KNN의 한계\n",
    "모델에 들어가는 파라미터의 값들\n",
    "\n",
    "딥러닝은 비선형 패턴을 찾아야 한다.\n",
    "로지스틱 함수를 가져온다.\n",
    "\n",
    "머신러닝은 수학적 모델을 기반으로 해야 한다.\n",
    "\n",
    "SPARK, HAdOOP 현업 시니어\n",
    "\n",
    "\n",
    "---\n",
    "*Y값을 예측하기 위하여 상관성을 본다.*\n",
    "\n",
    "데이터가 없는 데, 특성이 늘어나면 학습이 잘 안된다.\n",
    "협상을 해야한다. - 변수를 선택해야 한다.\n",
    "\n",
    "**변수 선택**\n",
    "1. Y값과의 상관 계수가 높은 것\n",
    "2. Diction Tree에서 변수들이 가지는 정보성을 파악(엔트로피)\n",
    "\n",
    "분석가 프리랜서\n",
    "기업 프레젠테이션 기 싸움: 전쟁터 -> 학력\n",
    "ex) 하버드, 카이스트 분석 공학\n",
    "\n",
    "-> 엔지니어와 다르다.\n",
    "\n",
    "*데이터 사이언티스트를 위한 엔지니어링은 기술이 필요하다.*\n",
    "->실제로 유용한 데이터를 주기 위해서는 어느정도의 데이터 분석 기술도 필요할 것 같다.\n",
    "\n",
    "오래 살아남는 것은 능력과 별개다.\n",
    "-> 목적을 분명히 해야 한다.\n",
    "\n",
    "체력관리 필수!\n",
    "\n",
    "방법론\n",
    "*과제 선정 -> 데이터 추출 -> 모델링 및 평가 -> 모델 평가 -> 모델 전개*\n",
    "\n",
    "모델은 음식과 같다. 시간이 지나면 상한다.\n",
    "- 회와 우유, 건빵의 상하는 시간이 다른 것처럼 모델 역시도 유효성이 다르다.\n",
    "- 이를 위해서 MlOps 같은 것들이 나온다. (Airflow?)\n",
    "\n",
    "엔지니어는 실시간성이 없다.\n",
    "\n",
    "\n",
    "엘라스틱 서치, 카프카를 쓰면 실시간성이 있는지? -> 공부 필요\n",
    "\n",
    "비즈니스 이해 = 도메인 이해\n",
    "기법들: \n",
    "\n",
    "**회귀분석**\n",
    "\n",
    "자연어 처리\n",
    "\n",
    "검색 엔진은 전세계 데이터를 크롤링 한다.\n",
    "구글은 데이터를 통해서 만드는 모든 것에 있어서 우선순위를 가진다라고 말할 수 있다.\n",
    "\n",
    "전통적인 NLP -> Modern NLP\n",
    "연구했던 것이 휴지조각\n",
    "\n",
    "NLM -> 발전 속도가 빠르다.\n",
    "BERT : 거대 언어 모델에서 중요한 위치를 가진다.\n",
    "\n",
    "데이터 시각화 쪽을 하는 것은 BI 툴을 다뤄야 한다.\n",
    "\n",
    "**NAS**  \n",
    "네트워크 지식\n",
    "\n",
    "Huggingface\n",
    "\n",
    "내가 하는 얘기가 긍정인지 부정인지를 분류하는 모델\n",
    "\n",
    "FastAPI: \n",
    "WebFramework \n",
    "Backend를 할 때 선택권은 Java springboot\n",
    "파이썬 프레임워크 -모델 서빙가능,\n",
    "\n",
    "도커, 배포까지\n",
    "\n",
    "AWS 환경으로 배포까지 해봤다.\n",
    "\n",
    "\n"
   ]
  },
  {
   "cell_type": "code",
   "execution_count": 104,
   "metadata": {},
   "outputs": [],
   "source": [
    " #시간별 주문 건수\n",
    "\n",
    "order = pd.read_csv('../../../../instacart_dataset/orders.csv')\n",
    "order.groupby(by=['order_hour_of_day'], as_index=False)[['order_id']].count()\n",
    "\n",
    "#첫 구매 후 다음 구매까지 걸린 평균 일수\n",
    "order[order.order_number == 2]['days_since_prior_order'].mean()"
   ]
  },
  {
   "cell_type": "code",
   "execution_count": 125,
   "metadata": {},
   "outputs": [],
   "source": [
    "order_products__prior = pd.read_csv('../../../../instacart_dataset/order_products__prior.csv')\n",
    "# 주문 건당 평균 구매 수\n",
    "order_products__prior.groupby(by=['order_id'])['order_id'].unique().size"
   ]
  },
  {
   "cell_type": "code",
   "execution_count": 139,
   "metadata": {},
   "outputs": [],
   "source": [
    "order_products__prior['ratio']= order_products__prior.groupby(by=['product_id'])['reordered'].sum() / order_products__prior.groupby(by=['product_id'])['reordered'].count()"
   ]
  },
  {
   "cell_type": "code",
   "execution_count": 146,
   "metadata": {},
   "outputs": [
    {
     "data": {
      "text/html": [
       "<div>\n",
       "<style scoped>\n",
       "    .dataframe tbody tr th:only-of-type {\n",
       "        vertical-align: middle;\n",
       "    }\n",
       "\n",
       "    .dataframe tbody tr th {\n",
       "        vertical-align: top;\n",
       "    }\n",
       "\n",
       "    .dataframe thead th {\n",
       "        text-align: right;\n",
       "    }\n",
       "</style>\n",
       "<table border=\"1\" class=\"dataframe\">\n",
       "  <thead>\n",
       "    <tr style=\"text-align: right;\">\n",
       "      <th></th>\n",
       "      <th>product_name</th>\n",
       "      <th>ratio</th>\n",
       "    </tr>\n",
       "  </thead>\n",
       "  <tbody>\n",
       "    <tr>\n",
       "      <th>25893</th>\n",
       "      <td>Coconut Cookie Thins</td>\n",
       "      <td>0.0</td>\n",
       "    </tr>\n",
       "    <tr>\n",
       "      <th>13980</th>\n",
       "      <td>Organic Chili Powder Blend</td>\n",
       "      <td>0.0</td>\n",
       "    </tr>\n",
       "    <tr>\n",
       "      <th>20944</th>\n",
       "      <td>Poppy Seed Dressing</td>\n",
       "      <td>0.0</td>\n",
       "    </tr>\n",
       "    <tr>\n",
       "      <th>8324</th>\n",
       "      <td>Provolone Slices</td>\n",
       "      <td>0.0</td>\n",
       "    </tr>\n",
       "    <tr>\n",
       "      <th>8326</th>\n",
       "      <td>Golden Sweet Potato</td>\n",
       "      <td>0.0</td>\n",
       "    </tr>\n",
       "    <tr>\n",
       "      <th>8329</th>\n",
       "      <td>Original Almond Milk Creamer</td>\n",
       "      <td>0.0</td>\n",
       "    </tr>\n",
       "    <tr>\n",
       "      <th>8334</th>\n",
       "      <td>Mineral Water</td>\n",
       "      <td>0.0</td>\n",
       "    </tr>\n",
       "    <tr>\n",
       "      <th>8342</th>\n",
       "      <td>Caramel Almond and Sea Salt Nut Bar</td>\n",
       "      <td>0.0</td>\n",
       "    </tr>\n",
       "    <tr>\n",
       "      <th>8352</th>\n",
       "      <td>Roma Tomato</td>\n",
       "      <td>0.0</td>\n",
       "    </tr>\n",
       "    <tr>\n",
       "      <th>21085</th>\n",
       "      <td>Creamy Deluxe Macaroni Dinner Elbows &amp; Four Ch...</td>\n",
       "      <td>0.0</td>\n",
       "    </tr>\n",
       "  </tbody>\n",
       "</table>\n",
       "</div>"
      ],
      "text/plain": [
       "                                            product_name  ratio\n",
       "25893                               Coconut Cookie Thins    0.0\n",
       "13980                         Organic Chili Powder Blend    0.0\n",
       "20944                                Poppy Seed Dressing    0.0\n",
       "8324                                    Provolone Slices    0.0\n",
       "8326                                 Golden Sweet Potato    0.0\n",
       "8329                        Original Almond Milk Creamer    0.0\n",
       "8334                                       Mineral Water    0.0\n",
       "8342                 Caramel Almond and Sea Salt Nut Bar    0.0\n",
       "8352                                         Roma Tomato    0.0\n",
       "21085  Creamy Deluxe Macaroni Dinner Elbows & Four Ch...    0.0"
      ]
     },
     "execution_count": 146,
     "metadata": {},
     "output_type": "execute_result"
    }
   ],
   "source": [
    "#상품별 재 구매율 계산 & 상품명\n",
    "pd.merge(order_products__prior,pd.read_csv('../../../../instacart_dataset/products.csv'),how='left', on='product_id')[['product_name','ratio']].sort_values(by=['ratio']).head(10)"
   ]
  },
  {
   "cell_type": "code",
   "execution_count": 126,
   "metadata": {},
   "outputs": [
    {
     "data": {
      "text/html": [
       "<div>\n",
       "<style scoped>\n",
       "    .dataframe tbody tr th:only-of-type {\n",
       "        vertical-align: middle;\n",
       "    }\n",
       "\n",
       "    .dataframe tbody tr th {\n",
       "        vertical-align: top;\n",
       "    }\n",
       "\n",
       "    .dataframe thead th {\n",
       "        text-align: right;\n",
       "    }\n",
       "</style>\n",
       "<table border=\"1\" class=\"dataframe\">\n",
       "  <thead>\n",
       "    <tr style=\"text-align: right;\">\n",
       "      <th></th>\n",
       "      <th>order_id</th>\n",
       "      <th>product_id</th>\n",
       "      <th>add_to_cart_order</th>\n",
       "      <th>reordered</th>\n",
       "    </tr>\n",
       "  </thead>\n",
       "  <tbody>\n",
       "    <tr>\n",
       "      <th>0</th>\n",
       "      <td>2581</td>\n",
       "      <td>40174</td>\n",
       "      <td>1</td>\n",
       "      <td>0</td>\n",
       "    </tr>\n",
       "    <tr>\n",
       "      <th>1</th>\n",
       "      <td>2581</td>\n",
       "      <td>17461</td>\n",
       "      <td>2</td>\n",
       "      <td>0</td>\n",
       "    </tr>\n",
       "    <tr>\n",
       "      <th>2</th>\n",
       "      <td>2581</td>\n",
       "      <td>19731</td>\n",
       "      <td>3</td>\n",
       "      <td>1</td>\n",
       "    </tr>\n",
       "    <tr>\n",
       "      <th>3</th>\n",
       "      <td>5880</td>\n",
       "      <td>24838</td>\n",
       "      <td>1</td>\n",
       "      <td>1</td>\n",
       "    </tr>\n",
       "    <tr>\n",
       "      <th>4</th>\n",
       "      <td>5880</td>\n",
       "      <td>24852</td>\n",
       "      <td>2</td>\n",
       "      <td>1</td>\n",
       "    </tr>\n",
       "  </tbody>\n",
       "</table>\n",
       "</div>"
      ],
      "text/plain": [
       "   order_id  product_id  add_to_cart_order  reordered\n",
       "0      2581       40174                  1          0\n",
       "1      2581       17461                  2          0\n",
       "2      2581       19731                  3          1\n",
       "3      5880       24838                  1          1\n",
       "4      5880       24852                  2          1"
      ]
     },
     "execution_count": 126,
     "metadata": {},
     "output_type": "execute_result"
    }
   ],
   "source": [
    "order_products__prior.head()"
   ]
  },
  {
   "cell_type": "markdown",
   "metadata": {},
   "source": [
    "----"
   ]
  },
  {
   "cell_type": "code",
   "execution_count": 102,
   "metadata": {},
   "outputs": [
    {
     "data": {
      "text/plain": [
       "<Axes: >"
      ]
     },
     "execution_count": 102,
     "metadata": {},
     "output_type": "execute_result"
    },
    {
     "data": {
      "image/png": "[encoded data removed]",
      "text/plain": [
       "<Figure size 1920x1440 with 1 Axes>"
      ]
     },
     "metadata": {},
     "output_type": "display_data"
    }
   ],
   "source": [
    "df_line.boxplot()"
   ]
  },
  {
   "cell_type": "markdown",
   "metadata": {
    "vscode": {
     "languageId": "plaintext"
    }
   },
   "source": [
    "> - 탐색적 데이터 분석(EDA), 상관성 분석, 데이터 시각화"
   ]
  },
  {
   "cell_type": "code",
   "execution_count": 3,
   "metadata": {},
   "outputs": [],
   "source": [
    "import seaborn as sns\n",
    "import matplotlib.pyplot as plt\n",
    "import pandas as pd"
   ]
  },
  {
   "cell_type": "code",
   "execution_count": 7,
   "metadata": {},
   "outputs": [],
   "source": [
    "with open('./EDA_data_path.txt','r') as f:\n",
    "    data_path = f.readline()\n",
    "data_path = data_path.strip()"
   ]
  },
  {
   "cell_type": "code",
   "execution_count": 12,
   "metadata": {},
   "outputs": [],
   "source": [
    "df =pd.read_csv(data_path +'/datasets/wine-quality.csv')"
   ]
  },
  {
   "cell_type": "markdown",
   "metadata": {},
   "source": [
    "> - Python 버전이 변하면서, Pandas 라이브러리에 있는 공학적 연산에 있는 옵션이 일부 변경\n",
    "> - Pandas 라이브러리 공학적 연산은 숫자 값만을 필요로 하기 때문에 nemeric_only 옵션을 켜주어야 한다."
   ]
  },
  {
   "cell_type": "code",
   "execution_count": 21,
   "metadata": {},
   "outputs": [
    {
     "data": {
      "text/plain": [
       "<seaborn.matrix.ClusterGrid at 0x7fda0a682530>"
      ]
     },
     "execution_count": 21,
     "metadata": {},
     "output_type": "execute_result"
    },
    {
     "data": {
      "image/png": "[encoded data removed]",
      "text/plain": [
       "<Figure size 1000x1000 with 4 Axes>"
      ]
     },
     "metadata": {},
     "output_type": "display_data"
    }
   ],
   "source": [
    "sns.clustermap(df.corr(numeric_only=True))"
   ]
  },
  {
   "cell_type": "code",
   "execution_count": 32,
   "metadata": {},
   "outputs": [],
   "source": [
    "# 시계열 데이터 로드\n",
    "plt.rcParams['figure.dpi'] = 300\n",
    "df = pd.read_csv(data_path+'/datasets/superstore.csv')"
   ]
  },
  {
   "cell_type": "code",
   "execution_count": 35,
   "metadata": {},
   "outputs": [
    {
     "data": {
      "text/html": [
       "<div>\n",
       "<style scoped>\n",
       "    .dataframe tbody tr th:only-of-type {\n",
       "        vertical-align: middle;\n",
       "    }\n",
       "\n",
       "    .dataframe tbody tr th {\n",
       "        vertical-align: top;\n",
       "    }\n",
       "\n",
       "    .dataframe thead th {\n",
       "        text-align: right;\n",
       "    }\n",
       "</style>\n",
       "<table border=\"1\" class=\"dataframe\">\n",
       "  <thead>\n",
       "    <tr style=\"text-align: right;\">\n",
       "      <th></th>\n",
       "      <th>Row ID</th>\n",
       "      <th>Order ID</th>\n",
       "      <th>Order Date</th>\n",
       "      <th>Ship Date</th>\n",
       "      <th>Ship Mode</th>\n",
       "      <th>Customer ID</th>\n",
       "      <th>Customer Name</th>\n",
       "      <th>Segment</th>\n",
       "      <th>Country</th>\n",
       "      <th>City</th>\n",
       "      <th>State</th>\n",
       "      <th>Postal Code</th>\n",
       "      <th>Region</th>\n",
       "      <th>Product ID</th>\n",
       "      <th>Category</th>\n",
       "      <th>Sub-Category</th>\n",
       "      <th>Product Name</th>\n",
       "      <th>Sales</th>\n",
       "      <th>Date2</th>\n",
       "    </tr>\n",
       "  </thead>\n",
       "  <tbody>\n",
       "    <tr>\n",
       "      <th>0</th>\n",
       "      <td>1</td>\n",
       "      <td>CA-2017-152156</td>\n",
       "      <td>08/11/2017</td>\n",
       "      <td>11/11/2017</td>\n",
       "      <td>Second Class</td>\n",
       "      <td>CG-12520</td>\n",
       "      <td>Claire Gute</td>\n",
       "      <td>Consumer</td>\n",
       "      <td>United States</td>\n",
       "      <td>Henderson</td>\n",
       "      <td>Kentucky</td>\n",
       "      <td>42420.0</td>\n",
       "      <td>South</td>\n",
       "      <td>FUR-BO-10001798</td>\n",
       "      <td>Furniture</td>\n",
       "      <td>Bookcases</td>\n",
       "      <td>Bush Somerset Collection Bookcase</td>\n",
       "      <td>261.9600</td>\n",
       "      <td>2017-11-08</td>\n",
       "    </tr>\n",
       "    <tr>\n",
       "      <th>1</th>\n",
       "      <td>2</td>\n",
       "      <td>CA-2017-152156</td>\n",
       "      <td>08/11/2017</td>\n",
       "      <td>11/11/2017</td>\n",
       "      <td>Second Class</td>\n",
       "      <td>CG-12520</td>\n",
       "      <td>Claire Gute</td>\n",
       "      <td>Consumer</td>\n",
       "      <td>United States</td>\n",
       "      <td>Henderson</td>\n",
       "      <td>Kentucky</td>\n",
       "      <td>42420.0</td>\n",
       "      <td>South</td>\n",
       "      <td>FUR-CH-10000454</td>\n",
       "      <td>Furniture</td>\n",
       "      <td>Chairs</td>\n",
       "      <td>Hon Deluxe Fabric Upholstered Stacking Chairs,...</td>\n",
       "      <td>731.9400</td>\n",
       "      <td>2017-11-08</td>\n",
       "    </tr>\n",
       "    <tr>\n",
       "      <th>2</th>\n",
       "      <td>3</td>\n",
       "      <td>CA-2017-138688</td>\n",
       "      <td>12/06/2017</td>\n",
       "      <td>16/06/2017</td>\n",
       "      <td>Second Class</td>\n",
       "      <td>DV-13045</td>\n",
       "      <td>Darrin Van Huff</td>\n",
       "      <td>Corporate</td>\n",
       "      <td>United States</td>\n",
       "      <td>Los Angeles</td>\n",
       "      <td>California</td>\n",
       "      <td>90036.0</td>\n",
       "      <td>West</td>\n",
       "      <td>OFF-LA-10000240</td>\n",
       "      <td>Office Supplies</td>\n",
       "      <td>Labels</td>\n",
       "      <td>Self-Adhesive Address Labels for Typewriters b...</td>\n",
       "      <td>14.6200</td>\n",
       "      <td>2017-06-12</td>\n",
       "    </tr>\n",
       "    <tr>\n",
       "      <th>3</th>\n",
       "      <td>4</td>\n",
       "      <td>US-2016-108966</td>\n",
       "      <td>11/10/2016</td>\n",
       "      <td>18/10/2016</td>\n",
       "      <td>Standard Class</td>\n",
       "      <td>SO-20335</td>\n",
       "      <td>Sean O'Donnell</td>\n",
       "      <td>Consumer</td>\n",
       "      <td>United States</td>\n",
       "      <td>Fort Lauderdale</td>\n",
       "      <td>Florida</td>\n",
       "      <td>33311.0</td>\n",
       "      <td>South</td>\n",
       "      <td>FUR-TA-10000577</td>\n",
       "      <td>Furniture</td>\n",
       "      <td>Tables</td>\n",
       "      <td>Bretford CR4500 Series Slim Rectangular Table</td>\n",
       "      <td>957.5775</td>\n",
       "      <td>2016-10-11</td>\n",
       "    </tr>\n",
       "    <tr>\n",
       "      <th>4</th>\n",
       "      <td>5</td>\n",
       "      <td>US-2016-108966</td>\n",
       "      <td>11/10/2016</td>\n",
       "      <td>18/10/2016</td>\n",
       "      <td>Standard Class</td>\n",
       "      <td>SO-20335</td>\n",
       "      <td>Sean O'Donnell</td>\n",
       "      <td>Consumer</td>\n",
       "      <td>United States</td>\n",
       "      <td>Fort Lauderdale</td>\n",
       "      <td>Florida</td>\n",
       "      <td>33311.0</td>\n",
       "      <td>South</td>\n",
       "      <td>OFF-ST-10000760</td>\n",
       "      <td>Office Supplies</td>\n",
       "      <td>Storage</td>\n",
       "      <td>Eldon Fold 'N Roll Cart System</td>\n",
       "      <td>22.3680</td>\n",
       "      <td>2016-10-11</td>\n",
       "    </tr>\n",
       "  </tbody>\n",
       "</table>\n",
       "</div>"
      ],
      "text/plain": [
       "   Row ID        Order ID  Order Date   Ship Date       Ship Mode Customer ID  \\\n",
       "0       1  CA-2017-152156  08/11/2017  11/11/2017    Second Class    CG-12520   \n",
       "1       2  CA-2017-152156  08/11/2017  11/11/2017    Second Class    CG-12520   \n",
       "2       3  CA-2017-138688  12/06/2017  16/06/2017    Second Class    DV-13045   \n",
       "3       4  US-2016-108966  11/10/2016  18/10/2016  Standard Class    SO-20335   \n",
       "4       5  US-2016-108966  11/10/2016  18/10/2016  Standard Class    SO-20335   \n",
       "\n",
       "     Customer Name    Segment        Country             City       State  \\\n",
       "0      Claire Gute   Consumer  United States        Henderson    Kentucky   \n",
       "1      Claire Gute   Consumer  United States        Henderson    Kentucky   \n",
       "2  Darrin Van Huff  Corporate  United States      Los Angeles  California   \n",
       "3   Sean O'Donnell   Consumer  United States  Fort Lauderdale     Florida   \n",
       "4   Sean O'Donnell   Consumer  United States  Fort Lauderdale     Florida   \n",
       "\n",
       "   Postal Code Region       Product ID         Category Sub-Category  \\\n",
       "0      42420.0  South  FUR-BO-10001798        Furniture    Bookcases   \n",
       "1      42420.0  South  FUR-CH-10000454        Furniture       Chairs   \n",
       "2      90036.0   West  OFF-LA-10000240  Office Supplies       Labels   \n",
       "3      33311.0  South  FUR-TA-10000577        Furniture       Tables   \n",
       "4      33311.0  South  OFF-ST-10000760  Office Supplies      Storage   \n",
       "\n",
       "                                        Product Name     Sales      Date2  \n",
       "0                  Bush Somerset Collection Bookcase  261.9600 2017-11-08  \n",
       "1  Hon Deluxe Fabric Upholstered Stacking Chairs,...  731.9400 2017-11-08  \n",
       "2  Self-Adhesive Address Labels for Typewriters b...   14.6200 2017-06-12  \n",
       "3      Bretford CR4500 Series Slim Rectangular Table  957.5775 2016-10-11  \n",
       "4                     Eldon Fold 'N Roll Cart System   22.3680 2016-10-11  "
      ]
     },
     "execution_count": 35,
     "metadata": {},
     "output_type": "execute_result"
    }
   ],
   "source": [
    "df.head()"
   ]
  },
  {
   "cell_type": "code",
   "execution_count": 46,
   "metadata": {},
   "outputs": [
    {
     "data": {
      "text/plain": [
       "0       2\n",
       "1       2\n",
       "2       0\n",
       "3       1\n",
       "4       1\n",
       "       ..\n",
       "9795    6\n",
       "9796    1\n",
       "9797    1\n",
       "9798    1\n",
       "9799    1\n",
       "Name: Date2, Length: 9800, dtype: int64"
      ]
     },
     "execution_count": 46,
     "metadata": {},
     "output_type": "execute_result"
    }
   ],
   "source": [
    "df['Date2'].apply(lambda x : x.weekday())"
   ]
  },
  {
   "cell_type": "code",
   "execution_count": null,
   "metadata": {},
   "outputs": [],
   "source": [
    "import datetime"
   ]
  },
  {
   "cell_type": "code",
   "execution_count": 91,
   "metadata": {},
   "outputs": [],
   "source": [
    "\n",
    "#날짜 형식 변환 - 시간 객체로 변환 \n",
    "df['Date2'] = pd.to_datetime(df['Order Date'], format=\"%d/%m/%Y\")\n",
    "#정렬\n",
    "df = df.sort_values(by=['Date2'])\n",
    "#연- 파생변수 생성\n",
    "df['Year']= df['Date2'].apply(lambda x: x.year)\n",
    "#2018년 일별 매출액 가공, df_line\n",
    "df_line=df[df['Year'] == 2018].groupby(by=['Date2'], as_index= False)[['Sales']].mean().reset_index(drop=True)"
   ]
  },
  {
   "cell_type": "code",
   "execution_count": 92,
   "metadata": {},
   "outputs": [
    {
     "data": {
      "text/plain": [
       "DatetimeIndex(['2020-01-01', '2020-01-02', '2020-01-03', '2020-01-04',\n",
       "               '2020-01-05', '2020-01-06', '2020-01-07', '2020-01-08',\n",
       "               '2020-01-09', '2020-01-10',\n",
       "               ...\n",
       "               '2023-12-22', '2023-12-23', '2023-12-24', '2023-12-25',\n",
       "               '2023-12-26', '2023-12-27', '2023-12-28', '2023-12-29',\n",
       "               '2023-12-30', '2023-12-31'],\n",
       "              dtype='datetime64[ns]', length=1461, freq='D')"
      ]
     },
     "execution_count": 92,
     "metadata": {},
     "output_type": "execute_result"
    }
   ],
   "source": [
    "pd.date_range('2020-01-01','2023-12-31')"
   ]
  },
  {
   "cell_type": "code",
   "execution_count": 93,
   "metadata": {},
   "outputs": [
    {
     "name": "stderr",
     "output_type": "stream",
     "text": [
      "/tmp/ipykernel_1893/3655374956.py:2: FutureWarning: Series.fillna with 'method' is deprecated and will raise in a future version. Use obj.ffill() or obj.bfill() instead.\n",
      "  df['Month']= df_line['Sales'].rolling(30).sum().fillna(method='bfill')\n"
     ]
    }
   ],
   "source": [
    "#30일 이동 평균 생성\n",
    "df['Month']= df_line['Sales'].rolling(30).sum().fillna(method='bfill')\n"
   ]
  },
  {
   "cell_type": "code",
   "execution_count": 94,
   "metadata": {},
   "outputs": [],
   "source": [
    "import numpy as np"
   ]
  },
  {
   "cell_type": "code",
   "execution_count": 100,
   "metadata": {},
   "outputs": [
    {
     "data": {
      "text/plain": [
       "690.0906666666666"
      ]
     },
     "execution_count": 100,
     "metadata": {},
     "output_type": "execute_result"
    }
   ],
   "source": [
    "df_line.Sales[2]"
   ]
  },
  {
   "cell_type": "code",
   "execution_count": null,
   "metadata": {},
   "outputs": [],
   "source": [
    "df_line.loc"
   ]
  },
  {
   "cell_type": "code",
   "execution_count": 98,
   "metadata": {},
   "outputs": [
    {
     "data": {
      "text/plain": [
       "14.62"
      ]
     },
     "execution_count": 98,
     "metadata": {},
     "output_type": "execute_result"
    }
   ],
   "source": [
    "df.Sales.interpolate(method='linear')[2]\n"
   ]
  },
  {
   "cell_type": "code",
   "execution_count": null,
   "metadata": {},
   "outputs": [],
   "source": []
  }
 ],
 "metadata": {
  "kernelspec": {
   "display_name": "Python 3",
   "language": "python",
   "name": "python3"
  },
  "language_info": {
   "codemirror_mode": {
    "name": "ipython",
    "version": 3
   },
   "file_extension": ".py",
   "mimetype": "text/x-python",
   "name": "python",
   "nbconvert_exporter": "python",
   "pygments_lexer": "ipython3",
   "version": "3.10.12"
  }
 },
 "nbformat": 4,
 "nbformat_minor": 2
}
