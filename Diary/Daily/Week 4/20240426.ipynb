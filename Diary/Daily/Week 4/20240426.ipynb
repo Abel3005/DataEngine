{
 "cells": [
  {
   "cell_type": "markdown",
   "metadata": {},
   "source": [
    "## 데이터 전처리\n",
    "### **범주형데이터 처리**\n",
    ">   **one-hot encoder** \n",
    ">   >   - 이진으로 데이터 범주를 표시함으로 해당 데이터의 범주를 나타내는 방법  \n",
    ">   >   - 데이터의 범주 값에 따라서 데이터 컬럼이 증가하게 됩니다.\n",
    "\n",
    ">   **label encoding**\n",
    ">   >   - 데이터 범주를 어떠한 규칙에 따른 순서대로 라벨링 하는 방법\n",
    ">   >   - 라벨의 크기의 차이로 인해서 의도하지 않은 가중치가 생길 수 있습니다.\n",
    "###   **이상치 제거**\n",
    ">   - 값의 분포에 따라 백분율로 데이터가 있을 확률을 계산한 후 이상치를 탐색\n",
    ">   - 25%~75% 에 있는 값의 최대 최소로 잡고 그** 차이의 1.5배 \n",
    "\n",
    "### **데이터 스플릿**\n",
    ">   - 학습을 시킬 때 Train 데이터에 overfitting 되는 것을 방지하기 위해서 Test 데이터를 사용합니다.\n",
    ">   - 학습을 진행하며, Test 데이터에 대해서 높은 성능을 보이기 위해서 간접적으로 Test 데이터 Overfit 될 수 있습니다.\n",
    ">   - 그러므로 이것을 방지하기 위해서 validation 데이터도 병행해서 사용합니다.\n",
    "\n",
    "### **데이터 스케일링**\n",
    "각각의 변수들에 대해서 의도하지 않은 가중치가 섞이는 것을 방지하고 학습의 수렴 속도를 빠르게 하기 위한 데이터 전처리 방법입니다.\n",
    "\n",
    ">   **정규화 방식**\n",
    ">   >   - 평균 0, 표준편차 1\n",
    ">   >   - 최솟값, 최대값의 제한이 없기 때문에 이상치에 민감하다\n",
    ">   >   - 회귀모델보다 분류모델에 유용하다고 알려짐\n",
    "\n",
    ">   **최소 최대 방식**\n",
    ">   >   - 데이터의 최소,최대값의 차이에 따라서, 최솟값과 최대값이 각각 0과 1이 되도록 스케일링하는 방식\n",
    ">   >   - 이상치에 매우 민감\n",
    ">   >   - 분류보다 회귀에 유용하다.\n",
    "\n",
    ">   **MaxAbs**\n",
    ">   >   - 최대 절대값이 0과 1이 되도록 스케일링\n",
    ">   >   - 모든 값이 -1 ~ 1 사이에 표현\n",
    ">   >   - 데이터가 양수만 있을 경우 Min-Max와 동일\n",
    ">   >   - 분류보다 회귀에 사용\n",
    "\n",
    ">   **RobustScaler**\n",
    ">   >   - 중앙값과 사분위 값을 활용\n",
    ">   >   - 중앙값을 0으로 설정 IQR을 사용하여 이상치 영향을 최소화시킵니다.\n",
    ">   >   - quantile_range 파라미터를 조정하여 이상치를 제어할 수 있습니다.\n",
    ">   >   - 이상치에 민감하지 않다.\n",
    "\n",
    "*주의해야 할 점: Train과 Test 데이터의 스케일링은 동일해야 한다.*\n",
    "\n",
    "### **차원의 저주**\n",
    ">   **정의**\n",
    ">   >   차원은 feature의 개수이고, 컬럼의 개수라고 보면되는데, 컬럼의 개수에 따라 학습에 필요한 데이터의 양이 급격히 증가합니다.\n",
    ">   >   이를 해결하기 위해서 feature의 개수를 줄여야 합니다.\n",
    ">   **엔트로피**\n",
    ">   >   - 같은 형태의 데이터는 정보량이 낮고 다른 형태의 데이터는 정보량이 높다.\n",
    ">   **PCA**\n",
    ">   >   - 고유값과 고유벡터를 사용해서 변수를 축소하는 방법\n",
    ">   >   - 각 피쳐의 정보를 혼합시키기 때문에 의미성을 찾기가 힘들어진다.\n",
    ">   >   - 분산량의 변화량이 적어지기 시작한 지점까지로 변수를 축소하는 것이 효과적이다.\n",
    ">   >   - 시각화를 통하여 PCA 방법을 검증할 수 있습니다.\n",
    "\n",
    ">   **계수 축소법**\n",
    ">   >   - 변수가 영향력이 없을 때, 0으로 판단하게되면\n",
    ">   >   - 다중 공선성 문제를 제거해 모형의 해석능력을 향상\n",
    ">   >   - Lidge: 정규화 항이 회귀계수의 제곱의 합을 더하는 것, \n",
    ">   >   - Lasso: 정규화 항이 절대값의 합으로 더함.\n",
    "\n",
    "**상관관계와 인과관계**\n",
    ">   - 상관관계: 두 변수가 어떠한 선형적 관계를 가지는지 분석\n",
    ">   - 인과관계: 외부 요인을 통제한 상황에서 원인과 결과의 관계를 맺고 있는지.\n",
    "\n",
    "### **$R^2$**  \n",
    "입력변수 X에 대하여 Y가 변동되는 정도에 대해서 나타내기 위해 사용하는 변수\n",
    "\n",
    "## ToDo List\n",
    ">   **지금까지 배운 것들 활용하여 프로젝트 만들기**\n",
    ">   >   - 청년 정책(금융 관련) 데이터 분석관련 API 만들기\n",
    ">   >   - Django 프레임워크 사용해서 서비스 만들기 \n",
    "\n",
    ">   **Daily Report 문서 정리**\n",
    ">   > - SQL, Linux, Pandas, 통계(머신러닝) 카테고리로 글 정리\n",
    ">   > - 자주 사용하는 함수 및 변수에 대한 첨부\n",
    "\n",
    ">   **과제 및 프로젝트에 대한 문서 정리**\n",
    ">   > - 수업 때, 그리고 미니 프로젝트 때 한 내용에 대해서 정리\n",
    ">   > - 목적,구조,시스템 흐름에 대해서 정리\n",
    "\n",
    ">   **추가로 학습이 필요한 사항 정리 후 학습**\n",
    ">   > - 프로젝트를 만들면서, Daily 문서를 정리하면서 추가로 학습이 필요한 사항 정리\n",
    ">   > - 필요한 사항에 대해서 학습\n"
   ]
  },
  {
   "cell_type": "code",
   "execution_count": null,
   "metadata": {},
   "outputs": [],
   "source": [
    "import pandas as pd\n",
    "from sklearn.datasets import load_iris\n",
    "\n",
    "iris = load_iris()\n",
    "from sklearn.model_selection import train_test_split\n",
    "\n",
    "# 8:2 -> Train : Test\n",
    "# 7 : 2 : 1 -> Train : test : valid\n",
    "# cross-validation\n",
    "iris_df = pd.DataFrame(iris.data,columns=iris.feature_names)\n",
    "iris_df = iris_df.assign(Class= iris.target)\n",
    "iris_df.Class.map(dict(enumerate(iris.target_names)))\n",
    "iris_df['Class'] = pd.Categorical(iris_df['Class'])\n",
    "pd.get_dummies(iris_df,columns=['Class'])\n",
    "x_train,x_test, y_train, y_test = train_test_split(iris_df.drop(columns='Class'),iris_df['Class'],test_size=0.2)\n",
    "\n",
    "StdScaler = StandardScaler()\n",
    "StdScaler.fit(x_train) \n",
    "x_train_sc = StdScaler.transform(x_train)\n",
    "x_test_sc = StdScaler.transform(x_test)\n",
    "x_train = StdScaler.inverse_transform(x_train_sc)"
   ]
  },
  {
   "cell_type": "markdown",
   "metadata": {},
   "source": [
    "<link href=\"./basic.css\", rel=\"stylesheet\">\n",
    "\n",
    "#### 파이썬 라이브러리\n",
    "<table class=simple_table>\n",
    "<tr style=\"font-weight:bold;\"><th>용어</th><td>범주</td><td>기능</td></tr>\n",
    "<tr><th>asign</th><td>DataFrame</td><td>데이터 프레임에 새로운 컬럼을 할당하는 함수<br>(예시) wine.assign(class=wine_load.target) </td></tr>\n",
    "<tr><th>map</th><td>DataFrame</td><td>key-value 값의 데이터 형태(dictionary)에 따라서 key 값에 따라서 value 값으로 일괄 변환</td></tr>\n",
    "<tr><th>get_dummies</th><td>DataFrame</td><td>범주형 데이터를 one-hot encoding을 거친 데이터로 변환해 줍니다.</td></tr>\n",
    "<tr><th>train_test_split</th><td>sklearn.model_selection</td><td>데이터를 Train 데이터와 Test 데이터로 나눠준다.</td></tr>\n",
    "<tr><th>PCA</th><td>sklearn.decomposition</td><td>고유값을 사용하여 투영하는 알고리즘</td></tr>\n",
    "\n",
    "</table>"
   ]
  },
  {
   "cell_type": "code",
   "execution_count": 1,
   "metadata": {},
   "outputs": [],
   "source": [
    "import pandas as pd\n",
    "import matplotlib.pyplot as plt\n",
    "from sklearn.datasets import load_wine\n",
    "\n",
    "\n",
    "wine_load = load_wine()\n",
    "wine = pd.DataFrame(wine_load.data,columns= wine_load.feature_names)\n",
    "wine['Class'] = wine_load.target\n",
    "wine.Class = wine['Class'].map({0:'class_0', 1:'class_1', 2:'class_2'})"
   ]
  },
  {
   "cell_type": "markdown",
   "metadata": {},
   "source": []
  },
  {
   "cell_type": "code",
   "execution_count": 28,
   "metadata": {},
   "outputs": [
    {
     "data": {
      "text/plain": [
       "{'whiskers': [<matplotlib.lines.Line2D at 0x7fac6f38b610>,\n",
       "  <matplotlib.lines.Line2D at 0x7fac6f38b8b0>],\n",
       " 'caps': [<matplotlib.lines.Line2D at 0x7fac6f38bb50>,\n",
       "  <matplotlib.lines.Line2D at 0x7fac6f38bdf0>],\n",
       " 'boxes': [<matplotlib.lines.Line2D at 0x7fac6f38b370>],\n",
       " 'medians': [<matplotlib.lines.Line2D at 0x7fac6f3c00d0>],\n",
       " 'fliers': [<matplotlib.lines.Line2D at 0x7fac6f3c0370>],\n",
       " 'means': []}"
      ]
     },
     "execution_count": 28,
     "metadata": {},
     "output_type": "execute_result"
    },
    {
     "data": {
      "image/png": "[encoded data removed]",
      "text/plain": [
       "<Figure size 640x480 with 1 Axes>"
      ]
     },
     "metadata": {},
     "output_type": "display_data"
    }
   ],
   "source": [
    "import matplotlib.pyplot as plt\n",
    "\n",
    "plt.boxplot(wine['color_intensity'], whis=1.5)\n"
   ]
  },
  {
   "cell_type": "code",
   "execution_count": 33,
   "metadata": {},
   "outputs": [],
   "source": [
    "import numpy as np\n",
    "\n",
    "def outliers_iqr(dt,col):\n",
    "    #백분율에 따른 값을 출력\n",
    "    quartile1, quartile3 = np.percentile(dt[col],[25,75])\n",
    "    iqr = quartile3 -quartile1\n",
    "    lower_whis = quartile1 - (iqr *1.5)\n",
    "    upper_whis = quartile3 + (iqr * 1.5)\n",
    "    outliers = dt[(dt[col] < lower_whis) | (dt[col] > upper_whis)]\n",
    "    return outliers[[col]]"
   ]
  },
  {
   "cell_type": "code",
   "execution_count": 34,
   "metadata": {},
   "outputs": [
    {
     "data": {
      "text/html": [
       "<div>\n",
       "<style scoped>\n",
       "    .dataframe tbody tr th:only-of-type {\n",
       "        vertical-align: middle;\n",
       "    }\n",
       "\n",
       "    .dataframe tbody tr th {\n",
       "        vertical-align: top;\n",
       "    }\n",
       "\n",
       "    .dataframe thead th {\n",
       "        text-align: right;\n",
       "    }\n",
       "</style>\n",
       "<table border=\"1\" class=\"dataframe\">\n",
       "  <thead>\n",
       "    <tr style=\"text-align: right;\">\n",
       "      <th></th>\n",
       "      <th>color_intensity</th>\n",
       "    </tr>\n",
       "  </thead>\n",
       "  <tbody>\n",
       "    <tr>\n",
       "      <th>151</th>\n",
       "      <td>10.80</td>\n",
       "    </tr>\n",
       "    <tr>\n",
       "      <th>158</th>\n",
       "      <td>13.00</td>\n",
       "    </tr>\n",
       "    <tr>\n",
       "      <th>159</th>\n",
       "      <td>11.75</td>\n",
       "    </tr>\n",
       "    <tr>\n",
       "      <th>166</th>\n",
       "      <td>10.68</td>\n",
       "    </tr>\n",
       "  </tbody>\n",
       "</table>\n",
       "</div>"
      ],
      "text/plain": [
       "     color_intensity\n",
       "151            10.80\n",
       "158            13.00\n",
       "159            11.75\n",
       "166            10.68"
      ]
     },
     "execution_count": 34,
     "metadata": {},
     "output_type": "execute_result"
    }
   ],
   "source": [
    "outliers_iqr(wine,'color_intensity')\n",
    "wine.drop(index=outliers_iqr(wine,'color_intensity').index)"
   ]
  },
  {
   "cell_type": "code",
   "execution_count": 38,
   "metadata": {},
   "outputs": [],
   "source": [
    "wine_outlier = wine.copy()"
   ]
  },
  {
   "cell_type": "markdown",
   "metadata": {},
   "source": [
    "**이상치를 처리하는 방법**\n",
    "- 결측치로 처리하는 것.\n",
    "- 다른 통계 수치적 수치로 보간하는 방법"
   ]
  },
  {
   "cell_type": "code",
   "execution_count": 65,
   "metadata": {},
   "outputs": [
    {
     "data": {
      "text/plain": [
       "4.908678155172414"
      ]
     },
     "execution_count": 65,
     "metadata": {},
     "output_type": "execute_result"
    }
   ],
   "source": [
    "wine.loc[outliers_iqr(wine,'color_intensity').index, 'color_intensity']  = np.NaN\n",
    "wine['color_intensity'].mean()\n",
    "wine['color_intensity'].fillna(wine['color_intensity'].mean()).mean()"
   ]
  },
  {
   "cell_type": "markdown",
   "metadata": {},
   "source": [
    "## 범주형 데이터 처리"
   ]
  },
  {
   "cell_type": "code",
   "execution_count": 39,
   "metadata": {},
   "outputs": [],
   "source": []
  },
  {
   "cell_type": "code",
   "execution_count": 42,
   "metadata": {},
   "outputs": [
    {
     "data": {
      "text/plain": [
       "dict_keys(['data', 'target', 'frame', 'target_names', 'DESCR', 'feature_names', 'filename', 'data_module'])"
      ]
     },
     "execution_count": 42,
     "metadata": {},
     "output_type": "execute_result"
    }
   ],
   "source": [
    "iris.keys()"
   ]
  },
  {
   "cell_type": "code",
   "execution_count": 54,
   "metadata": {},
   "outputs": [],
   "source": []
  },
  {
   "cell_type": "code",
   "execution_count": 75,
   "metadata": {},
   "outputs": [],
   "source": []
  },
  {
   "cell_type": "code",
   "execution_count": 76,
   "metadata": {},
   "outputs": [
    {
     "data": {
      "text/plain": [
       "Class\n",
       "1    0.433333\n",
       "0    0.300000\n",
       "2    0.266667\n",
       "Name: proportion, dtype: float64"
      ]
     },
     "execution_count": 76,
     "metadata": {},
     "output_type": "execute_result"
    }
   ],
   "source": [
    "y_test.value_counts(normalize=True)"
   ]
  },
  {
   "cell_type": "markdown",
   "metadata": {},
   "source": [
    "## 데이터 스케일링"
   ]
  },
  {
   "cell_type": "code",
   "execution_count": 80,
   "metadata": {},
   "outputs": [],
   "source": [
    "from sklearn.preprocessing import StandardScaler, MinMaxScaler, MaxAbsScaler, RobustScaler"
   ]
  },
  {
   "cell_type": "code",
   "execution_count": 85,
   "metadata": {},
   "outputs": [],
   "source": [
    "from sklearn.decomposition import PCA\n",
    "\n",
    "pca = PCA(n_components=3)\n",
    "iris_df.drop(columns=\"Class\")"
   ]
  },
  {
   "cell_type": "code",
   "execution_count": null,
   "metadata": {},
   "outputs": [],
   "source": [
    "ㅇㅇ"
   ]
  }
 ],
 "metadata": {
  "kernelspec": {
   "display_name": "Python 3",
   "language": "python",
   "name": "python3"
  },
  "language_info": {
   "codemirror_mode": {
    "name": "ipython",
    "version": 3
   },
   "file_extension": ".py",
   "mimetype": "text/x-python",
   "name": "python",
   "nbconvert_exporter": "python",
   "pygments_lexer": "ipython3",
   "version": "3.10.12"
  }
 },
 "nbformat": 4,
 "nbformat_minor": 2
}
