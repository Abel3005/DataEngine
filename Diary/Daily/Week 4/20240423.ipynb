{
 "cells": [
  {
   "cell_type": "markdown",
   "metadata": {},
   "source": [
    "## 2024.04.23 PlayData Data Engineering\n",
    "\n",
    "### 머신러닝 기초  \n",
    "\n",
    "#### 모집단과 통계적 추정\n",
    "- 관측을 충분히 많이 하면 모집단의 모습을 상당히 선명하게 파악할 수 있다.\n",
    ">   - 그렇지만 많은 관측을 하지 않고 모집단의 모습을 추측할 수 있어야 한다.\n",
    ">   - 이것을 <span style=\"color:green;font-weight:bold\">통계적 추정</span>이라고 말한다.\n",
    "\n",
    "#### 통계적 추청\n",
    "- 모집단이 정규 분포를 이룰 때 모집단에서 추출한 표본집단 역시 정규분포를 따르며 그 평균도 정규분포를 그대로 유지합니다.\n",
    ">   - 표본평균 $ \\bar x $  = 평균 $ u $ , 표본 표준 편차: $ \\frac{\\sigma}{\\sqrt n} $\n",
    ">   - 표본 분산은 정규분포를 따르지 않는다. (카이제곱 분포)\n",
    "\n",
    "### 카이제곱 분포\n",
    "- 표준 모 정규 분포에서 추출한 값과 모 평균과의 편차의 제곱의 합이 가지는 분포\n",
    "- 추출한 값의 개수가 n이라고 할 때 자유도가 n-1 자유도인 카이제곱 분포를 따르게 됩니다.\n",
    "\n",
    "### t분포\n",
    "- 모집단이 정규분포 한다는 지식만 가지고 모수를 추정하였다.\n",
    "- 모평균을 추정하기 위해서 나온 분포\n",
    "- 데이터 샘플이 많아질 수록 정규분포를 따른다.\n",
    ">   - $ T = \\frac{x-u * \\sqrt (n-1)}{s} $\n",
    "\n",
    "### 가설검정\n",
    "#### 가설검정의 절차**\n",
    "\n",
    "    1. 가설 설정(귀무가설/대립가설)\n",
    "    2. 가설 유의 수준 설정\n",
    "    3. 가설 검증\n",
    "    \n",
    "####  t-test\n",
    "   - 두 모집단 간의 평균의 차이가 없다는 귀무가설을 검증하는 테스트입니다.\n",
    "   - 모 평균을 추정하기 위해서 나온 분포인 t 분포를 이용합니다.\n",
    "\n",
    "---\n",
    "깊이 있게 공부를 하기에는 시간이 부족하다는 것을 느꼈과\n",
    "분포가 어떻게 쓰이는 지를 확인하고 검증된 지식을 가지고, 컴퓨터 공학에 맞는 기술을 갖추는 것이 필요합니다.\n",
    "\n",
    "### To DO\n",
    "- 부동산 데이터)t-test를 통하여 각각의 지역에서의 전 월세 데이터 값의 평균의 차이가 있다는 점을 확인\n",
    "- 부동산 데이터)KNN 알고리즘을 통하여 주택 유형 분류(안심,LH&SH,) 모델을 구현\n",
    "\n",
    "\n"
   ]
  },
  {
   "cell_type": "code",
   "execution_count": 247,
   "metadata": {},
   "outputs": [
    {
     "data": {
      "text/plain": [
       "0        True\n",
       "1        True\n",
       "2        True\n",
       "3        True\n",
       "4        True\n",
       "         ... \n",
       "91119    True\n",
       "91120    True\n",
       "91121    True\n",
       "91122    True\n",
       "91123    True\n",
       "Name: 상호, Length: 181714, dtype: bool"
      ]
     },
     "execution_count": 247,
     "metadata": {},
     "output_type": "execute_result"
    }
   ],
   "source": [
    "#t-test example : 주유소\n",
    "\n",
    "import pandas as pd\n",
    "import numpy as np # 계산 자체에 초점\n",
    "import scipy as sc # 응용에 초점) numpy 선형대수 변환 이후 과학/공학적 계산을 위한 라이브러리\n",
    "\n",
    "import glob\n",
    "\n",
    "csv_list = list(glob.glob('./data/*.csv'))\n",
    "\n",
    "engine_dfs = [pd.read_csv(x, encoding='cp949') for x in csv_list]\n",
    "주유소 = pd.concat([engine_dfs[0],engine_dfs[1]])\n",
    "주유소.상호.isin((주유소.groupby(by=['상호'])[['번호']].count() == 365).index)"
   ]
  },
  {
   "cell_type": "code",
   "execution_count": 228,
   "metadata": {},
   "outputs": [
    {
     "data": {
      "text/html": [
       "<div>\n",
       "<style scoped>\n",
       "    .dataframe tbody tr th:only-of-type {\n",
       "        vertical-align: middle;\n",
       "    }\n",
       "\n",
       "    .dataframe tbody tr th {\n",
       "        vertical-align: top;\n",
       "    }\n",
       "\n",
       "    .dataframe thead th {\n",
       "        text-align: right;\n",
       "    }\n",
       "</style>\n",
       "<table border=\"1\" class=\"dataframe\">\n",
       "  <thead>\n",
       "    <tr style=\"text-align: right;\">\n",
       "      <th></th>\n",
       "      <th>월</th>\n",
       "      <th>집계</th>\n",
       "      <th>폐업갯수</th>\n",
       "    </tr>\n",
       "  </thead>\n",
       "  <tbody>\n",
       "    <tr>\n",
       "      <th>0</th>\n",
       "      <td>01</td>\n",
       "      <td>508</td>\n",
       "      <td>0.0</td>\n",
       "    </tr>\n",
       "    <tr>\n",
       "      <th>1</th>\n",
       "      <td>02</td>\n",
       "      <td>508</td>\n",
       "      <td>0.0</td>\n",
       "    </tr>\n",
       "    <tr>\n",
       "      <th>2</th>\n",
       "      <td>03</td>\n",
       "      <td>503</td>\n",
       "      <td>-5.0</td>\n",
       "    </tr>\n",
       "    <tr>\n",
       "      <th>3</th>\n",
       "      <td>04</td>\n",
       "      <td>501</td>\n",
       "      <td>-2.0</td>\n",
       "    </tr>\n",
       "    <tr>\n",
       "      <th>4</th>\n",
       "      <td>05</td>\n",
       "      <td>501</td>\n",
       "      <td>0.0</td>\n",
       "    </tr>\n",
       "    <tr>\n",
       "      <th>5</th>\n",
       "      <td>06</td>\n",
       "      <td>499</td>\n",
       "      <td>-2.0</td>\n",
       "    </tr>\n",
       "    <tr>\n",
       "      <th>6</th>\n",
       "      <td>07</td>\n",
       "      <td>500</td>\n",
       "      <td>1.0</td>\n",
       "    </tr>\n",
       "    <tr>\n",
       "      <th>7</th>\n",
       "      <td>08</td>\n",
       "      <td>499</td>\n",
       "      <td>-1.0</td>\n",
       "    </tr>\n",
       "    <tr>\n",
       "      <th>8</th>\n",
       "      <td>09</td>\n",
       "      <td>499</td>\n",
       "      <td>0.0</td>\n",
       "    </tr>\n",
       "    <tr>\n",
       "      <th>9</th>\n",
       "      <td>10</td>\n",
       "      <td>499</td>\n",
       "      <td>0.0</td>\n",
       "    </tr>\n",
       "    <tr>\n",
       "      <th>10</th>\n",
       "      <td>11</td>\n",
       "      <td>496</td>\n",
       "      <td>-3.0</td>\n",
       "    </tr>\n",
       "    <tr>\n",
       "      <th>11</th>\n",
       "      <td>12</td>\n",
       "      <td>495</td>\n",
       "      <td>-1.0</td>\n",
       "    </tr>\n",
       "  </tbody>\n",
       "</table>\n",
       "</div>"
      ],
      "text/plain": [
       "     월   집계  폐업갯수\n",
       "0   01  508   0.0\n",
       "1   02  508   0.0\n",
       "2   03  503  -5.0\n",
       "3   04  501  -2.0\n",
       "4   05  501   0.0\n",
       "5   06  499  -2.0\n",
       "6   07  500   1.0\n",
       "7   08  499  -1.0\n",
       "8   09  499   0.0\n",
       "9   10  499   0.0\n",
       "10  11  496  -3.0\n",
       "11  12  495  -1.0"
      ]
     },
     "execution_count": 228,
     "metadata": {},
     "output_type": "execute_result"
    }
   ],
   "source": [
    "주유소['월'] = 주유소['기간'].apply(lambda x: str(x)[4:6])\n",
    "\n",
    "폐업 = 주유소[['월','주소']].drop_duplicates().groupby(by=['월'])[['주소']].count()\n",
    "\n",
    "폐업['현황'] = 폐업.주소 - 폐업.주소.shift(1)\n",
    "\n",
    "폐업.fillna(0).rename(columns={'주소':'집계', '현황':'폐업갯수'}).reset_index()"
   ]
  },
  {
   "cell_type": "code",
   "execution_count": 230,
   "metadata": {},
   "outputs": [
    {
     "data": {
      "text/html": [
       "<div>\n",
       "<style scoped>\n",
       "    .dataframe tbody tr th:only-of-type {\n",
       "        vertical-align: middle;\n",
       "    }\n",
       "\n",
       "    .dataframe tbody tr th {\n",
       "        vertical-align: top;\n",
       "    }\n",
       "\n",
       "    .dataframe thead th {\n",
       "        text-align: right;\n",
       "    }\n",
       "</style>\n",
       "<table border=\"1\" class=\"dataframe\">\n",
       "  <thead>\n",
       "    <tr style=\"text-align: right;\">\n",
       "      <th></th>\n",
       "      <th>지역</th>\n",
       "      <th>휘발유</th>\n",
       "    </tr>\n",
       "  </thead>\n",
       "  <tbody>\n",
       "    <tr>\n",
       "      <th>0</th>\n",
       "      <td>서울 강남구</td>\n",
       "      <td>1713.093581</td>\n",
       "    </tr>\n",
       "    <tr>\n",
       "      <th>1</th>\n",
       "      <td>서울 강동구</td>\n",
       "      <td>1576.685264</td>\n",
       "    </tr>\n",
       "    <tr>\n",
       "      <th>2</th>\n",
       "      <td>서울 강북구</td>\n",
       "      <td>1453.517525</td>\n",
       "    </tr>\n",
       "    <tr>\n",
       "      <th>3</th>\n",
       "      <td>서울 강서구</td>\n",
       "      <td>1488.818088</td>\n",
       "    </tr>\n",
       "    <tr>\n",
       "      <th>4</th>\n",
       "      <td>서울 관악구</td>\n",
       "      <td>1518.128564</td>\n",
       "    </tr>\n",
       "    <tr>\n",
       "      <th>5</th>\n",
       "      <td>서울 광진구</td>\n",
       "      <td>1490.597054</td>\n",
       "    </tr>\n",
       "    <tr>\n",
       "      <th>6</th>\n",
       "      <td>서울 구로구</td>\n",
       "      <td>1525.410383</td>\n",
       "    </tr>\n",
       "    <tr>\n",
       "      <th>7</th>\n",
       "      <td>서울 금천구</td>\n",
       "      <td>1477.121992</td>\n",
       "    </tr>\n",
       "    <tr>\n",
       "      <th>8</th>\n",
       "      <td>서울 노원구</td>\n",
       "      <td>1531.221551</td>\n",
       "    </tr>\n",
       "    <tr>\n",
       "      <th>9</th>\n",
       "      <td>서울 도봉구</td>\n",
       "      <td>1494.171062</td>\n",
       "    </tr>\n",
       "    <tr>\n",
       "      <th>10</th>\n",
       "      <td>서울 동대문구</td>\n",
       "      <td>1506.833542</td>\n",
       "    </tr>\n",
       "    <tr>\n",
       "      <th>11</th>\n",
       "      <td>서울 동작구</td>\n",
       "      <td>1512.470911</td>\n",
       "    </tr>\n",
       "    <tr>\n",
       "      <th>12</th>\n",
       "      <td>서울 마포구</td>\n",
       "      <td>1689.755616</td>\n",
       "    </tr>\n",
       "    <tr>\n",
       "      <th>13</th>\n",
       "      <td>서울 서대문구</td>\n",
       "      <td>1528.943332</td>\n",
       "    </tr>\n",
       "    <tr>\n",
       "      <th>14</th>\n",
       "      <td>서울 서초구</td>\n",
       "      <td>1577.131304</td>\n",
       "    </tr>\n",
       "    <tr>\n",
       "      <th>15</th>\n",
       "      <td>서울 성동구</td>\n",
       "      <td>1583.659561</td>\n",
       "    </tr>\n",
       "    <tr>\n",
       "      <th>16</th>\n",
       "      <td>서울 성북구</td>\n",
       "      <td>1507.948267</td>\n",
       "    </tr>\n",
       "    <tr>\n",
       "      <th>17</th>\n",
       "      <td>서울 송파구</td>\n",
       "      <td>1518.957954</td>\n",
       "    </tr>\n",
       "    <tr>\n",
       "      <th>18</th>\n",
       "      <td>서울 양천구</td>\n",
       "      <td>1512.890261</td>\n",
       "    </tr>\n",
       "    <tr>\n",
       "      <th>19</th>\n",
       "      <td>서울 영등포구</td>\n",
       "      <td>1568.279506</td>\n",
       "    </tr>\n",
       "    <tr>\n",
       "      <th>20</th>\n",
       "      <td>서울 용산구</td>\n",
       "      <td>1882.049825</td>\n",
       "    </tr>\n",
       "    <tr>\n",
       "      <th>21</th>\n",
       "      <td>서울 은평구</td>\n",
       "      <td>1481.964026</td>\n",
       "    </tr>\n",
       "    <tr>\n",
       "      <th>22</th>\n",
       "      <td>서울 종로구</td>\n",
       "      <td>1838.554945</td>\n",
       "    </tr>\n",
       "    <tr>\n",
       "      <th>23</th>\n",
       "      <td>서울 중구</td>\n",
       "      <td>1976.948052</td>\n",
       "    </tr>\n",
       "    <tr>\n",
       "      <th>24</th>\n",
       "      <td>서울 중랑구</td>\n",
       "      <td>1469.009092</td>\n",
       "    </tr>\n",
       "  </tbody>\n",
       "</table>\n",
       "</div>"
      ],
      "text/plain": [
       "         지역          휘발유\n",
       "0    서울 강남구  1713.093581\n",
       "1    서울 강동구  1576.685264\n",
       "2    서울 강북구  1453.517525\n",
       "3    서울 강서구  1488.818088\n",
       "4    서울 관악구  1518.128564\n",
       "5    서울 광진구  1490.597054\n",
       "6    서울 구로구  1525.410383\n",
       "7    서울 금천구  1477.121992\n",
       "8    서울 노원구  1531.221551\n",
       "9    서울 도봉구  1494.171062\n",
       "10  서울 동대문구  1506.833542\n",
       "11   서울 동작구  1512.470911\n",
       "12   서울 마포구  1689.755616\n",
       "13  서울 서대문구  1528.943332\n",
       "14   서울 서초구  1577.131304\n",
       "15   서울 성동구  1583.659561\n",
       "16   서울 성북구  1507.948267\n",
       "17   서울 송파구  1518.957954\n",
       "18   서울 양천구  1512.890261\n",
       "19  서울 영등포구  1568.279506\n",
       "20   서울 용산구  1882.049825\n",
       "21   서울 은평구  1481.964026\n",
       "22   서울 종로구  1838.554945\n",
       "23    서울 중구  1976.948052\n",
       "24   서울 중랑구  1469.009092"
      ]
     },
     "execution_count": 230,
     "metadata": {},
     "output_type": "execute_result"
    }
   ],
   "source": [
    "# 각 지역별 휘발유 평균 가격\n",
    "주유소.groupby(by=['지역'])[['휘발유']].mean().reset_index()\n"
   ]
  },
  {
   "cell_type": "code",
   "execution_count": 252,
   "metadata": {},
   "outputs": [
    {
     "data": {
      "text/html": [
       "<div>\n",
       "<style scoped>\n",
       "    .dataframe tbody tr th:only-of-type {\n",
       "        vertical-align: middle;\n",
       "    }\n",
       "\n",
       "    .dataframe tbody tr th {\n",
       "        vertical-align: top;\n",
       "    }\n",
       "\n",
       "    .dataframe thead th {\n",
       "        text-align: right;\n",
       "    }\n",
       "</style>\n",
       "<table border=\"1\" class=\"dataframe\">\n",
       "  <thead>\n",
       "    <tr style=\"text-align: right;\">\n",
       "      <th></th>\n",
       "      <th>번호</th>\n",
       "      <th>지역</th>\n",
       "      <th>상호</th>\n",
       "      <th>주소</th>\n",
       "      <th>기간</th>\n",
       "      <th>상표</th>\n",
       "      <th>셀프여부</th>\n",
       "      <th>고급휘발유</th>\n",
       "      <th>휘발유</th>\n",
       "      <th>경유</th>\n",
       "      <th>실내등유</th>\n",
       "    </tr>\n",
       "  </thead>\n",
       "  <tbody>\n",
       "    <tr>\n",
       "      <th>34210</th>\n",
       "      <td>A0009647</td>\n",
       "      <td>서울 도봉구</td>\n",
       "      <td>(주)소모에너지엔테크놀러지 신중계주유소</td>\n",
       "      <td>서울 도봉구 방학로 21 (방학동)</td>\n",
       "      <td>20190101</td>\n",
       "      <td>GS칼텍스</td>\n",
       "      <td>일반</td>\n",
       "      <td>0</td>\n",
       "      <td>1398</td>\n",
       "      <td>1296</td>\n",
       "      <td>1200</td>\n",
       "    </tr>\n",
       "    <tr>\n",
       "      <th>34211</th>\n",
       "      <td>A0009647</td>\n",
       "      <td>서울 도봉구</td>\n",
       "      <td>(주)소모에너지엔테크놀러지 신중계주유소</td>\n",
       "      <td>서울 도봉구 방학로 21 (방학동)</td>\n",
       "      <td>20190102</td>\n",
       "      <td>GS칼텍스</td>\n",
       "      <td>일반</td>\n",
       "      <td>0</td>\n",
       "      <td>1398</td>\n",
       "      <td>1296</td>\n",
       "      <td>1200</td>\n",
       "    </tr>\n",
       "    <tr>\n",
       "      <th>34212</th>\n",
       "      <td>A0009647</td>\n",
       "      <td>서울 도봉구</td>\n",
       "      <td>(주)소모에너지엔테크놀러지 신중계주유소</td>\n",
       "      <td>서울 도봉구 방학로 21 (방학동)</td>\n",
       "      <td>20190103</td>\n",
       "      <td>GS칼텍스</td>\n",
       "      <td>일반</td>\n",
       "      <td>0</td>\n",
       "      <td>1398</td>\n",
       "      <td>1296</td>\n",
       "      <td>1200</td>\n",
       "    </tr>\n",
       "  </tbody>\n",
       "</table>\n",
       "</div>"
      ],
      "text/plain": [
       "             번호      지역                     상호                   주소        기간  \\\n",
       "34210  A0009647  서울 도봉구  (주)소모에너지엔테크놀러지 신중계주유소  서울 도봉구 방학로 21 (방학동)  20190101   \n",
       "34211  A0009647  서울 도봉구  (주)소모에너지엔테크놀러지 신중계주유소  서울 도봉구 방학로 21 (방학동)  20190102   \n",
       "34212  A0009647  서울 도봉구  (주)소모에너지엔테크놀러지 신중계주유소  서울 도봉구 방학로 21 (방학동)  20190103   \n",
       "\n",
       "          상표 셀프여부  고급휘발유   휘발유    경유  실내등유  \n",
       "34210  GS칼텍스   일반      0  1398  1296  1200  \n",
       "34211  GS칼텍스   일반      0  1398  1296  1200  \n",
       "34212  GS칼텍스   일반      0  1398  1296  1200  "
      ]
     },
     "execution_count": 252,
     "metadata": {},
     "output_type": "execute_result"
    }
   ],
   "source": [
    "강남구 = 주유소[주유소['지역'] == '서울 강남구']\n",
    "도봉구 = 주유소[주유소['지역'] == '서울 도봉구']\n",
    "\n",
    "도봉구.head(3)"
   ]
  },
  {
   "cell_type": "code",
   "execution_count": 250,
   "metadata": {},
   "outputs": [
    {
     "data": {
      "text/plain": [
       "TtestResult(statistic=array([4.88857177]), pvalue=array([8.39772049e-06]), df=array([58.]))"
      ]
     },
     "execution_count": 250,
     "metadata": {},
     "output_type": "execute_result"
    }
   ],
   "source": [
    "sc.stats.ttest_ind(a = 강남구.groupby(by=['상호'])[['휘발유']].mean().values, b = 도봉구.groupby(by=['상호'])[['휘발유']].mean().values)"
   ]
  },
  {
   "cell_type": "code",
   "execution_count": null,
   "metadata": {},
   "outputs": [],
   "source": [
    "sc.stats.ttest_ind(a = 강남구.groupby(by=['상호'])[['휘발유']].mean().values, b = 도봉구.groupby(by=['상호'])[['휘발유']].mean().values)"
   ]
  },
  {
   "cell_type": "code",
   "execution_count": 80,
   "metadata": {},
   "outputs": [
    {
     "data": {
      "text/html": [
       "<div>\n",
       "<style scoped>\n",
       "    .dataframe tbody tr th:only-of-type {\n",
       "        vertical-align: middle;\n",
       "    }\n",
       "\n",
       "    .dataframe tbody tr th {\n",
       "        vertical-align: top;\n",
       "    }\n",
       "\n",
       "    .dataframe thead th {\n",
       "        text-align: right;\n",
       "    }\n",
       "</style>\n",
       "<table border=\"1\" class=\"dataframe\">\n",
       "  <thead>\n",
       "    <tr style=\"text-align: right;\">\n",
       "      <th></th>\n",
       "      <th>번호</th>\n",
       "      <th>지역</th>\n",
       "      <th>상호</th>\n",
       "      <th>주소</th>\n",
       "      <th>기간</th>\n",
       "      <th>상표</th>\n",
       "      <th>셀프여부</th>\n",
       "      <th>고급휘발유</th>\n",
       "      <th>휘발유</th>\n",
       "      <th>경유</th>\n",
       "      <th>실내등유</th>\n",
       "    </tr>\n",
       "  </thead>\n",
       "  <tbody>\n",
       "    <tr>\n",
       "      <th>0</th>\n",
       "      <td>A0006039</td>\n",
       "      <td>서울 강남구</td>\n",
       "      <td>(주)동하힐탑셀프주유소</td>\n",
       "      <td>서울 강남구 논현로 640</td>\n",
       "      <td>20190101</td>\n",
       "      <td>SK에너지</td>\n",
       "      <td>셀프</td>\n",
       "      <td>1673</td>\n",
       "      <td>1465</td>\n",
       "      <td>1365</td>\n",
       "      <td>0</td>\n",
       "    </tr>\n",
       "    <tr>\n",
       "      <th>1</th>\n",
       "      <td>A0006039</td>\n",
       "      <td>서울 강남구</td>\n",
       "      <td>(주)동하힐탑셀프주유소</td>\n",
       "      <td>서울 강남구 논현로 640</td>\n",
       "      <td>20190102</td>\n",
       "      <td>SK에너지</td>\n",
       "      <td>셀프</td>\n",
       "      <td>1673</td>\n",
       "      <td>1465</td>\n",
       "      <td>1365</td>\n",
       "      <td>0</td>\n",
       "    </tr>\n",
       "    <tr>\n",
       "      <th>2</th>\n",
       "      <td>A0006039</td>\n",
       "      <td>서울 강남구</td>\n",
       "      <td>(주)동하힐탑셀프주유소</td>\n",
       "      <td>서울 강남구 논현로 640</td>\n",
       "      <td>20190103</td>\n",
       "      <td>SK에너지</td>\n",
       "      <td>셀프</td>\n",
       "      <td>1673</td>\n",
       "      <td>1465</td>\n",
       "      <td>1365</td>\n",
       "      <td>0</td>\n",
       "    </tr>\n",
       "  </tbody>\n",
       "</table>\n",
       "</div>"
      ],
      "text/plain": [
       "         번호      지역            상호              주소        기간     상표 셀프여부  \\\n",
       "0  A0006039  서울 강남구  (주)동하힐탑셀프주유소  서울 강남구 논현로 640  20190101  SK에너지   셀프   \n",
       "1  A0006039  서울 강남구  (주)동하힐탑셀프주유소  서울 강남구 논현로 640  20190102  SK에너지   셀프   \n",
       "2  A0006039  서울 강남구  (주)동하힐탑셀프주유소  서울 강남구 논현로 640  20190103  SK에너지   셀프   \n",
       "\n",
       "   고급휘발유   휘발유    경유  실내등유  \n",
       "0   1673  1465  1365     0  \n",
       "1   1673  1465  1365     0  \n",
       "2   1673  1465  1365     0  "
      ]
     },
     "execution_count": 80,
     "metadata": {},
     "output_type": "execute_result"
    }
   ],
   "source": [
    "주유소.head(3)"
   ]
  },
  {
   "cell_type": "code",
   "execution_count": 3,
   "metadata": {},
   "outputs": [],
   "source": [
    "import sqlalchemy\n",
    "from urllib import parse\n",
    "import pandas as pd\n",
    "\n",
    "user = 'david'\n",
    "password = '392766'\n",
    "host='172.30.240.1'\n",
    "port = 3306\n",
    "database = 'encore'\n",
    "password = parse.quote_plus(password)\n",
    "\n",
    "engine = sqlalchemy.create_engine(f\"mysql://{user}:{password}@{host}:{port}/{database}\")"
   ]
  },
  {
   "cell_type": "code",
   "execution_count": 40,
   "metadata": {},
   "outputs": [],
   "source": [
    "df = pd.read_sql('select * from order_products__prior',con=engine)\n",
    "df['first'] = df['add_to_cart_order'].apply(lambda x : 1 if x == 1 else 0)\n",
    "df2 = df.groupby(by=['product_id'], as_index=False)[['first']].sum()\n",
    "df3 = df2.sort_values(by=['first'], ascending=False).reset_index(drop=True)\n",
    "df3['rank'] = df3['first'].rank(ascending=False)"
   ]
  },
  {
   "cell_type": "code",
   "execution_count": 41,
   "metadata": {},
   "outputs": [
    {
     "data": {
      "text/html": [
       "<div>\n",
       "<style scoped>\n",
       "    .dataframe tbody tr th:only-of-type {\n",
       "        vertical-align: middle;\n",
       "    }\n",
       "\n",
       "    .dataframe tbody tr th {\n",
       "        vertical-align: top;\n",
       "    }\n",
       "\n",
       "    .dataframe thead th {\n",
       "        text-align: right;\n",
       "    }\n",
       "</style>\n",
       "<table border=\"1\" class=\"dataframe\">\n",
       "  <thead>\n",
       "    <tr style=\"text-align: right;\">\n",
       "      <th></th>\n",
       "      <th>product_id</th>\n",
       "      <th>first</th>\n",
       "      <th>rank</th>\n",
       "    </tr>\n",
       "  </thead>\n",
       "  <tbody>\n",
       "    <tr>\n",
       "      <th>0</th>\n",
       "      <td>24852</td>\n",
       "      <td>117</td>\n",
       "      <td>1.0</td>\n",
       "    </tr>\n",
       "    <tr>\n",
       "      <th>1</th>\n",
       "      <td>13176</td>\n",
       "      <td>62</td>\n",
       "      <td>2.0</td>\n",
       "    </tr>\n",
       "    <tr>\n",
       "      <th>2</th>\n",
       "      <td>27845</td>\n",
       "      <td>37</td>\n",
       "      <td>3.0</td>\n",
       "    </tr>\n",
       "    <tr>\n",
       "      <th>3</th>\n",
       "      <td>21137</td>\n",
       "      <td>31</td>\n",
       "      <td>4.0</td>\n",
       "    </tr>\n",
       "    <tr>\n",
       "      <th>4</th>\n",
       "      <td>21903</td>\n",
       "      <td>27</td>\n",
       "      <td>5.0</td>\n",
       "    </tr>\n",
       "    <tr>\n",
       "      <th>...</th>\n",
       "      <td>...</td>\n",
       "      <td>...</td>\n",
       "      <td>...</td>\n",
       "    </tr>\n",
       "    <tr>\n",
       "      <th>9283</th>\n",
       "      <td>18206</td>\n",
       "      <td>0</td>\n",
       "      <td>5587.0</td>\n",
       "    </tr>\n",
       "    <tr>\n",
       "      <th>9284</th>\n",
       "      <td>18208</td>\n",
       "      <td>0</td>\n",
       "      <td>5587.0</td>\n",
       "    </tr>\n",
       "    <tr>\n",
       "      <th>9285</th>\n",
       "      <td>18218</td>\n",
       "      <td>0</td>\n",
       "      <td>5587.0</td>\n",
       "    </tr>\n",
       "    <tr>\n",
       "      <th>9286</th>\n",
       "      <td>18226</td>\n",
       "      <td>0</td>\n",
       "      <td>5587.0</td>\n",
       "    </tr>\n",
       "    <tr>\n",
       "      <th>9287</th>\n",
       "      <td>18176</td>\n",
       "      <td>0</td>\n",
       "      <td>5587.0</td>\n",
       "    </tr>\n",
       "  </tbody>\n",
       "</table>\n",
       "<p>9288 rows × 3 columns</p>\n",
       "</div>"
      ],
      "text/plain": [
       "      product_id  first    rank\n",
       "0          24852    117     1.0\n",
       "1          13176     62     2.0\n",
       "2          27845     37     3.0\n",
       "3          21137     31     4.0\n",
       "4          21903     27     5.0\n",
       "...          ...    ...     ...\n",
       "9283       18206      0  5587.0\n",
       "9284       18208      0  5587.0\n",
       "9285       18218      0  5587.0\n",
       "9286       18226      0  5587.0\n",
       "9287       18176      0  5587.0\n",
       "\n",
       "[9288 rows x 3 columns]"
      ]
     },
     "execution_count": 41,
     "metadata": {},
     "output_type": "execute_result"
    }
   ],
   "source": [
    "df3"
   ]
  },
  {
   "cell_type": "code",
   "execution_count": 42,
   "metadata": {},
   "outputs": [],
   "source": [
    "fish_length = [25.4, 26.3, 26.5, 29.0, 29.0, 29.7, 29.7, 30.0, 30.0, 30.7, 31.0, 31.0,\n",
    "                31.5, 32.0, 32.0, 32.0, 33.0, 33.0, 33.5, 33.5, 34.0, 34.0, 34.5, 35.0,\n",
    "                35.0, 35.0, 35.0, 36.0, 36.0, 37.0, 38.5, 38.5, 39.5, 41.0, 41.0, 9.8,\n",
    "                10.5, 10.6, 11.0, 11.2, 11.3, 11.8, 11.8, 12.0, 12.2, 12.4, 13.0, 14.3, 15.0]\n",
    "fish_weight = [242.0, 290.0, 340.0, 363.0, 430.0, 450.0, 500.0, 390.0, 450.0, 500.0, 475.0, 500.0,\n",
    "                500.0, 340.0, 600.0, 600.0, 700.0, 700.0, 610.0, 650.0, 575.0, 685.0, 620.0, 680.0,\n",
    "                700.0, 725.0, 720.0, 714.0, 850.0, 1000.0, 920.0, 955.0, 925.0, 975.0, 950.0, 6.7,\n",
    "                7.5, 7.0, 9.7, 9.8, 8.7, 10.0, 9.9, 9.8, 12.2, 13.4, 12.2, 19.7, 19.9]"
   ]
  },
  {
   "cell_type": "code",
   "execution_count": 43,
   "metadata": {},
   "outputs": [],
   "source": [
    "fish_data = [ [l,w] for l, w in zip(fish_length,fish_weight)]\n",
    "fish_target = [1] * 35 + [0] * 14"
   ]
  },
  {
   "cell_type": "code",
   "execution_count": 46,
   "metadata": {},
   "outputs": [],
   "source": [
    "from sklearn.neighbors import KNeighborsClassifier\n",
    "\n",
    "kn = KNeighborsClassifier()"
   ]
  },
  {
   "cell_type": "code",
   "execution_count": 49,
   "metadata": {},
   "outputs": [],
   "source": [
    "train_input = fish_data[:35]\n",
    "train_target = fish_target[:35]\n",
    "\n",
    "test_input = fish_data[35:]\n",
    "test_target = fish_target[35:]"
   ]
  },
  {
   "cell_type": "code",
   "execution_count": 50,
   "metadata": {},
   "outputs": [
    {
     "data": {
      "text/plain": [
       "0.0"
      ]
     },
     "execution_count": 50,
     "metadata": {},
     "output_type": "execute_result"
    }
   ],
   "source": [
    "kn.fit(train_input,train_target)\n",
    "kn.score(test_input,test_target)"
   ]
  },
  {
   "cell_type": "code",
   "execution_count": 55,
   "metadata": {},
   "outputs": [],
   "source": [
    "import numpy as np\n",
    "np.random.seed(42)\n",
    "index = np.arange(49)\n",
    "np.random.shuffle(index)\n",
    "\n",
    "input_arr = np.array(fish_data)\n",
    "target_arr = np.array(fish_target)"
   ]
  },
  {
   "cell_type": "code",
   "execution_count": 56,
   "metadata": {},
   "outputs": [],
   "source": [
    "train_input = input_arr[:35]\n",
    "train_target = target_arr[:35]\n",
    "\n",
    "test_input =  input_arr[35:]\n",
    "test_target = input_arr[35:]"
   ]
  },
  {
   "cell_type": "code",
   "execution_count": 57,
   "metadata": {},
   "outputs": [
    {
     "data": {
      "image/png": "[encoded data removed]",
      "text/plain": [
       "<Figure size 640x480 with 1 Axes>"
      ]
     },
     "metadata": {},
     "output_type": "display_data"
    }
   ],
   "source": [
    "import matplotlib.pyplot as plt\n",
    "\n",
    "plt.scatter(train_input[:, 0], train_input[:, 1])\n",
    "plt.scatter(test_input[:, 0], test_input[:, 1])\n",
    "plt.xlabel('length')\n",
    "plt.ylabel('weight')\n",
    "plt.show()"
   ]
  },
  {
   "cell_type": "code",
   "execution_count": 64,
   "metadata": {},
   "outputs": [],
   "source": [
    "fish_data = np.array(fish_data)"
   ]
  },
  {
   "cell_type": "code",
   "execution_count": 62,
   "metadata": {},
   "outputs": [],
   "source": [
    "fish_target = np.concatenate((np.ones(35),np.zeros(14))) "
   ]
  },
  {
   "cell_type": "code",
   "execution_count": 66,
   "metadata": {},
   "outputs": [],
   "source": [
    "from sklearn.model_selection import train_test_split"
   ]
  },
  {
   "cell_type": "code",
   "execution_count": 67,
   "metadata": {},
   "outputs": [],
   "source": [
    "train_input, test_input, train_target, test_target = train_test_split(\n",
    "    fish_data, fish_target, random_state=42)"
   ]
  },
  {
   "cell_type": "code",
   "execution_count": 68,
   "metadata": {},
   "outputs": [
    {
     "name": "stdout",
     "output_type": "stream",
     "text": [
      "(36, 2) (13, 2)\n"
     ]
    }
   ],
   "source": [
    "print(train_input.shape, test_input.shape)"
   ]
  },
  {
   "cell_type": "code",
   "execution_count": 69,
   "metadata": {},
   "outputs": [],
   "source": [
    "train_input, test_input, train_target, test_target = train_test_split(\n",
    "    fish_data, fish_target, stratify=fish_target, random_state=42)"
   ]
  },
  {
   "cell_type": "code",
   "execution_count": 70,
   "metadata": {},
   "outputs": [],
   "source": [
    "import matplotlib.pyplot as plt"
   ]
  },
  {
   "cell_type": "code",
   "execution_count": 79,
   "metadata": {},
   "outputs": [
    {
     "data": {
      "text/plain": [
       "array([1, 1, 1, 1, 1, 1, 1, 1, 1, 1, 1, 1, 1])"
      ]
     },
     "execution_count": 79,
     "metadata": {},
     "output_type": "execute_result"
    }
   ],
   "source": [
    "kn.predict(test_input)"
   ]
  },
  {
   "cell_type": "code",
   "execution_count": 77,
   "metadata": {},
   "outputs": [
    {
     "data": {
      "image/png": "[encoded data removed]",
      "text/plain": [
       "<Figure size 640x480 with 1 Axes>"
      ]
     },
     "metadata": {},
     "output_type": "display_data"
    }
   ],
   "source": [
    "plt.scatter(test_input[:,0], test_input[:,1], marker='^')\n",
    "plt.xlabel(\"legth\")\n",
    "plt.ylabel(\"weight\")\n",
    "plt.show()"
   ]
  },
  {
   "cell_type": "markdown",
   "metadata": {},
   "source": [
    "회귀문제  \n",
    "분류문제 -> 이진분류 문제  \n",
    "knn 알고리즘 -> 하이퍼 파라미터  \n"
   ]
  },
  {
   "cell_type": "markdown",
   "metadata": {},
   "source": [
    "KNN - 회귀 문제를 풀 수도 있다.\n",
    "\n",
    ">   - 그런데 거의 안쓸듯..\n",
    "\n",
    "EDA는 문제를 해결하기 이전에 사용한다.\n",
    "> - 데이터를 숫자로만 보면 잘 보이지 않는다.\n",
    "> - 그렇기 때문에 반드시 시각화 작업을 필요로 한다."
   ]
  },
  {
   "cell_type": "code",
   "execution_count": 89,
   "metadata": {},
   "outputs": [
    {
     "data": {
      "text/plain": [
       "2"
      ]
     },
     "execution_count": 89,
     "metadata": {},
     "output_type": "execute_result"
    }
   ],
   "source": [
    "import numpy as np\n",
    "# -1은 자유도가 없는 차원을 코드 상에서 정해준다.\n",
    "np.arange(6).reshape(3,-1).ndim"
   ]
  },
  {
   "cell_type": "markdown",
   "metadata": {},
   "source": [
    "결정계수\n",
    "> - 실제 수식이 데이터를 얼마나 잘 표현되있는지를 점검하는 평가 지표 중 하나\n",
    "> - R sqare 값이라 불린다.\n",
    "> - Feature을 추가할 때마다 square 값이 올라간다.(종속변수와의 연관성이 없더라도 올라간다.)\n",
    "\n",
    "> - $ 1 - \\frac {(타깃-예측)^2의 합}{(타깃-평균)^2의 합} $\n",
    "\n",
    "> - "
   ]
  },
  {
   "cell_type": "code",
   "execution_count": null,
   "metadata": {},
   "outputs": [],
   "source": []
  }
 ],
 "metadata": {
  "kernelspec": {
   "display_name": "Python 3",
   "language": "python",
   "name": "python3"
  },
  "language_info": {
   "codemirror_mode": {
    "name": "ipython",
    "version": 3
   },
   "file_extension": ".py",
   "mimetype": "text/x-python",
   "name": "python",
   "nbconvert_exporter": "python",
   "pygments_lexer": "ipython3",
   "version": "3.10.12"
  }
 },
 "nbformat": 4,
 "nbformat_minor": 2
}
