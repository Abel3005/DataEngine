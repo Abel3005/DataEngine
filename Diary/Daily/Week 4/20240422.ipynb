{
 "cells": [
  {
   "cell_type": "code",
   "execution_count": null,
   "metadata": {},
   "outputs": [],
   "source": []
  },
  {
   "cell_type": "code",
   "execution_count": null,
   "metadata": {},
   "outputs": [],
   "source": [
    "import sqlalchemy\n",
    "from urllib import parse\n",
    "\n",
    "_host = db_data['DB_HOST']\n",
    "_user = db_data['DB_USER']\n",
    "_password = db_data['DB_PASSWORD']\n",
    "_name = db_data['DB_NAME']\n",
    "\n",
    "_password = parse.quote_plus(_password)\n",
    "engine = sqlalchemy.create_engine(f\"mysql://{_user}:{_password}@{_host}:{3306}/{_name}\")"
   ]
  },
  {
   "cell_type": "code",
   "execution_count": null,
   "metadata": {},
   "outputs": [
    {
     "data": {
      "text/plain": [
       "['./instacart_dataset/aisles.csv',\n",
       " './instacart_dataset/departments.csv',\n",
       " './instacart_dataset/orders.csv',\n",
       " './instacart_dataset/order_products__prior.csv',\n",
       " './instacart_dataset/products.csv']"
      ]
     },
     "execution_count": 51,
     "metadata": {},
     "output_type": "execute_result"
    }
   ],
   "source": [
    "from sqlalchemy import create_engine, MetaData, Table, Column, Integer, String, BigInteger, DateTime, Date\n",
    "\n",
    "metadata = MetaData()\n",
    "\n",
    "Table('order_products__prior',metadata,\n",
    "      Column('order_id', Integer),\n",
    "      Column('product_id', Integer),\n",
    "      Column('add_to_cart_order',Integer),\n",
    "      Column('reordered',Integer),)\n",
    "\n",
    "order_products__prior.to_sql('order_pro',con=engine)\n",
    "\n",
    "metadata.create_all(engine)\n"
   ]
  },
  {
   "cell_type": "code",
   "execution_count": null,
   "metadata": {},
   "outputs": [],
   "source": []
  }
 ],
 "metadata": {
  "kernelspec": {
   "display_name": "Python 3",
   "language": "python",
   "name": "python3"
  },
  "language_info": {
   "codemirror_mode": {
    "name": "ipython",
    "version": 3
   },
   "file_extension": ".py",
   "mimetype": "text/x-python",
   "name": "python",
   "nbconvert_exporter": "python",
   "pygments_lexer": "ipython3",
   "version": "3.10.12"
  }
 },
 "nbformat": 4,
 "nbformat_minor": 2
}
