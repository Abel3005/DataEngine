{
 "cells": [
  {
   "cell_type": "code",
   "execution_count": null,
   "metadata": {},
   "outputs": [],
   "source": []
  },
  {
   "cell_type": "code",
   "execution_count": null,
   "metadata": {},
   "outputs": [],
   "source": [
    "import sqlalchemy\n",
    "from urllib import parse\n",
    "\n",
    "_host = db_data['DB_HOST']\n",
    "_user = db_data['DB_USER']\n",
    "_password = db_data['DB_PASSWORD']\n",
    "_name = db_data['DB_NAME']\n",
    "\n",
    "_password = parse.quote_plus(_password)\n",
    "engine = sqlalchemy.create_engine(f\"mysql://{_user}:{_password}@{_host}:{3306}/{_name}\")"
   ]
  },
  {
   "cell_type": "code",
   "execution_count": null,
   "metadata": {},
   "outputs": [
    {
     "data": {
      "text/plain": [
       "['./instacart_dataset/aisles.csv',\n",
       " './instacart_dataset/departments.csv',\n",
       " './instacart_dataset/orders.csv',\n",
       " './instacart_dataset/order_products__prior.csv',\n",
       " './instacart_dataset/products.csv']"
      ]
     },
     "execution_count": 51,
     "metadata": {},
     "output_type": "execute_result"
    }
   ],
   "source": [
    "from sqlalchemy import create_engine, MetaData, Table, Column, Integer, String, BigInteger, DateTime, Date\n",
    "\n",
    "metadata = MetaData()\n",
    "\n",
    "Table('order_products__prior',metadata,\n",
    "      Column('order_id', Integer),\n",
    "      Column('product_id', Integer),\n",
    "      Column('add_to_cart_order',Integer),\n",
    "      Column('reordered',Integer),)\n",
    "\n",
    "order_products__prior.to_sql('order_pro',con=engine)\n",
    "\n",
    "metadata.create_all(engine)\n"
   ]
  },
  {
   "cell_type": "markdown",
   "metadata": {},
   "source": [
    "```sh\n",
    "#!/bin/bash\n",
    "\n",
    "# Find all directories containing a 'pyvenv.cfg' file, which is a good indicator of a Python venv\n",
    "find . -name \"pyvenv.cfg\" -type f -print | while read venv_path; do\n",
    "    # Get the directory of the venv as absolute path\n",
    "    venv_dir=$(realpath \"$(dirname \"$venv_path\")\")\n",
    "    echo \"Found Python venv at $venv_dir\"\n",
    "    # activate script is in the bin directory\n",
    "    activate_script=\"$venv_dir/bin/activate\"\n",
    "    echo \"Using activate script at $activate_script\"\n",
    "    # Activate the venv\n",
    "    . \"$activate_script\"\n",
    "    # make pip freeze output to requirements.txt\n",
    "    pip list --format=freeze > \"$venv_dir/requirements.txt\"\n",
    "    # Deactivate the venv\n",
    "    echo \"Deactivating Python venv at $venv_dir\"\n",
    "    deactivate\n",
    "    # Remove python venv components\n",
    "    rm -rf \"$venv_dir/bin\" \"$venv_dir/include\" \"$venv_dir/lib\" \"$venv_dir/pyvenv.cfg\" \"$venv_dir/share\" \"$venv_dir/lib64\"\n",
    "done\n",
    "```"
   ]
  },
  {
   "cell_type": "markdown",
   "metadata": {},
   "source": []
  },
  {
   "cell_type": "markdown",
   "metadata": {},
   "source": []
  }
 ],
 "metadata": {
  "kernelspec": {
   "display_name": "Python 3",
   "language": "python",
   "name": "python3"
  },
  "language_info": {
   "codemirror_mode": {
    "name": "ipython",
    "version": 3
   },
   "file_extension": ".py",
   "mimetype": "text/x-python",
   "name": "python",
   "nbconvert_exporter": "python",
   "pygments_lexer": "ipython3",
   "version": "3.10.12"
  }
 },
 "nbformat": 4,
 "nbformat_minor": 2
}
