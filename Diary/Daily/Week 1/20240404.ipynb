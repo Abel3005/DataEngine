{
 "cells": [
  {
   "cell_type": "code",
   "execution_count": 3,
   "metadata": {},
   "outputs": [
    {
     "ename": "SessionNotCreatedException",
     "evalue": "Message: session not created: Chrome failed to start: exited normally.\n  (session not created: DevToolsActivePort file doesn't exist)\n  (The process started from chrome location /opt/google/chrome/chrome is no longer running, so ChromeDriver is assuming that Chrome has crashed.)\nStacktrace:\n#0 0x7ff6b98ec873 <unknown>\n#1 0x7ff6b95e28c6 <unknown>\n#2 0x7ff6b9616d34 <unknown>\n#3 0x7ff6b9612d3d <unknown>\n#4 0x7ff6b965baed <unknown>\n#5 0x7ff6b964f343 <unknown>\n#6 0x7ff6b9620593 <unknown>\n#7 0x7ff6b9620f5e <unknown>\n#8 0x7ff6b98b085b <unknown>\n#9 0x7ff6b98b47b5 <unknown>\n#10 0x7ff6b989e581 <unknown>\n#11 0x7ff6b98b5342 <unknown>\n#12 0x7ff6b988388f <unknown>\n#13 0x7ff6b98db738 <unknown>\n#14 0x7ff6b98db90b <unknown>\n#15 0x7ff6b98eb9c4 <unknown>\n#16 0x7ff6b8b44ac3 <unknown>\n",
     "output_type": "error",
     "traceback": [
      "\u001b[0;31m---------------------------------------------------------------------------\u001b[0m",
      "\u001b[0;31mSessionNotCreatedException\u001b[0m                Traceback (most recent call last)",
      "Cell \u001b[0;32mIn[3], line 4\u001b[0m\n\u001b[1;32m      2\u001b[0m \u001b[38;5;28;01mfrom\u001b[39;00m \u001b[38;5;21;01mwebdriver_manager\u001b[39;00m\u001b[38;5;21;01m.\u001b[39;00m\u001b[38;5;21;01mchrome\u001b[39;00m \u001b[38;5;28;01mimport\u001b[39;00m ChromeDriverManager\n\u001b[1;32m      3\u001b[0m \u001b[38;5;28;01mfrom\u001b[39;00m \u001b[38;5;21;01mselenium\u001b[39;00m\u001b[38;5;21;01m.\u001b[39;00m\u001b[38;5;21;01mwebdriver\u001b[39;00m\u001b[38;5;21;01m.\u001b[39;00m\u001b[38;5;21;01mchrome\u001b[39;00m\u001b[38;5;21;01m.\u001b[39;00m\u001b[38;5;21;01mservice\u001b[39;00m \u001b[38;5;28;01mimport\u001b[39;00m Service\n\u001b[0;32m----> 4\u001b[0m driver \u001b[38;5;241m=\u001b[39m \u001b[43mwebdriver\u001b[49m\u001b[38;5;241;43m.\u001b[39;49m\u001b[43mChrome\u001b[49m\u001b[43m(\u001b[49m\u001b[43mservice\u001b[49m\u001b[38;5;241;43m=\u001b[39;49m\u001b[43mService\u001b[49m\u001b[43m(\u001b[49m\u001b[43mChromeDriverManager\u001b[49m\u001b[43m(\u001b[49m\u001b[43mdriver_version\u001b[49m\u001b[38;5;241;43m=\u001b[39;49m\u001b[38;5;124;43m\"\u001b[39;49m\u001b[38;5;124;43m123.0.6312.105\u001b[39;49m\u001b[38;5;124;43m\"\u001b[39;49m\u001b[43m)\u001b[49m\u001b[38;5;241;43m.\u001b[39;49m\u001b[43minstall\u001b[49m\u001b[43m(\u001b[49m\u001b[43m)\u001b[49m\u001b[43m)\u001b[49m\u001b[43m)\u001b[49m\n",
      "File \u001b[0;32m~/.local/lib/python3.10/site-packages/selenium/webdriver/chrome/webdriver.py:45\u001b[0m, in \u001b[0;36mWebDriver.__init__\u001b[0;34m(self, options, service, keep_alive)\u001b[0m\n\u001b[1;32m     42\u001b[0m service \u001b[38;5;241m=\u001b[39m service \u001b[38;5;28;01mif\u001b[39;00m service \u001b[38;5;28;01melse\u001b[39;00m Service()\n\u001b[1;32m     43\u001b[0m options \u001b[38;5;241m=\u001b[39m options \u001b[38;5;28;01mif\u001b[39;00m options \u001b[38;5;28;01melse\u001b[39;00m Options()\n\u001b[0;32m---> 45\u001b[0m \u001b[38;5;28;43msuper\u001b[39;49m\u001b[43m(\u001b[49m\u001b[43m)\u001b[49m\u001b[38;5;241;43m.\u001b[39;49m\u001b[38;5;21;43m__init__\u001b[39;49m\u001b[43m(\u001b[49m\n\u001b[1;32m     46\u001b[0m \u001b[43m    \u001b[49m\u001b[43mbrowser_name\u001b[49m\u001b[38;5;241;43m=\u001b[39;49m\u001b[43mDesiredCapabilities\u001b[49m\u001b[38;5;241;43m.\u001b[39;49m\u001b[43mCHROME\u001b[49m\u001b[43m[\u001b[49m\u001b[38;5;124;43m\"\u001b[39;49m\u001b[38;5;124;43mbrowserName\u001b[39;49m\u001b[38;5;124;43m\"\u001b[39;49m\u001b[43m]\u001b[49m\u001b[43m,\u001b[49m\n\u001b[1;32m     47\u001b[0m \u001b[43m    \u001b[49m\u001b[43mvendor_prefix\u001b[49m\u001b[38;5;241;43m=\u001b[39;49m\u001b[38;5;124;43m\"\u001b[39;49m\u001b[38;5;124;43mgoog\u001b[39;49m\u001b[38;5;124;43m\"\u001b[39;49m\u001b[43m,\u001b[49m\n\u001b[1;32m     48\u001b[0m \u001b[43m    \u001b[49m\u001b[43moptions\u001b[49m\u001b[38;5;241;43m=\u001b[39;49m\u001b[43moptions\u001b[49m\u001b[43m,\u001b[49m\n\u001b[1;32m     49\u001b[0m \u001b[43m    \u001b[49m\u001b[43mservice\u001b[49m\u001b[38;5;241;43m=\u001b[39;49m\u001b[43mservice\u001b[49m\u001b[43m,\u001b[49m\n\u001b[1;32m     50\u001b[0m \u001b[43m    \u001b[49m\u001b[43mkeep_alive\u001b[49m\u001b[38;5;241;43m=\u001b[39;49m\u001b[43mkeep_alive\u001b[49m\u001b[43m,\u001b[49m\n\u001b[1;32m     51\u001b[0m \u001b[43m\u001b[49m\u001b[43m)\u001b[49m\n",
      "File \u001b[0;32m~/.local/lib/python3.10/site-packages/selenium/webdriver/chromium/webdriver.py:61\u001b[0m, in \u001b[0;36mChromiumDriver.__init__\u001b[0;34m(self, browser_name, vendor_prefix, options, service, keep_alive)\u001b[0m\n\u001b[1;32m     52\u001b[0m executor \u001b[38;5;241m=\u001b[39m ChromiumRemoteConnection(\n\u001b[1;32m     53\u001b[0m     remote_server_addr\u001b[38;5;241m=\u001b[39m\u001b[38;5;28mself\u001b[39m\u001b[38;5;241m.\u001b[39mservice\u001b[38;5;241m.\u001b[39mservice_url,\n\u001b[1;32m     54\u001b[0m     browser_name\u001b[38;5;241m=\u001b[39mbrowser_name,\n\u001b[0;32m   (...)\u001b[0m\n\u001b[1;32m     57\u001b[0m     ignore_proxy\u001b[38;5;241m=\u001b[39moptions\u001b[38;5;241m.\u001b[39m_ignore_local_proxy,\n\u001b[1;32m     58\u001b[0m )\n\u001b[1;32m     60\u001b[0m \u001b[38;5;28;01mtry\u001b[39;00m:\n\u001b[0;32m---> 61\u001b[0m     \u001b[38;5;28;43msuper\u001b[39;49m\u001b[43m(\u001b[49m\u001b[43m)\u001b[49m\u001b[38;5;241;43m.\u001b[39;49m\u001b[38;5;21;43m__init__\u001b[39;49m\u001b[43m(\u001b[49m\u001b[43mcommand_executor\u001b[49m\u001b[38;5;241;43m=\u001b[39;49m\u001b[43mexecutor\u001b[49m\u001b[43m,\u001b[49m\u001b[43m \u001b[49m\u001b[43moptions\u001b[49m\u001b[38;5;241;43m=\u001b[39;49m\u001b[43moptions\u001b[49m\u001b[43m)\u001b[49m\n\u001b[1;32m     62\u001b[0m \u001b[38;5;28;01mexcept\u001b[39;00m \u001b[38;5;167;01mException\u001b[39;00m:\n\u001b[1;32m     63\u001b[0m     \u001b[38;5;28mself\u001b[39m\u001b[38;5;241m.\u001b[39mquit()\n",
      "File \u001b[0;32m~/.local/lib/python3.10/site-packages/selenium/webdriver/remote/webdriver.py:208\u001b[0m, in \u001b[0;36mWebDriver.__init__\u001b[0;34m(self, command_executor, keep_alive, file_detector, options)\u001b[0m\n\u001b[1;32m    206\u001b[0m \u001b[38;5;28mself\u001b[39m\u001b[38;5;241m.\u001b[39m_authenticator_id \u001b[38;5;241m=\u001b[39m \u001b[38;5;28;01mNone\u001b[39;00m\n\u001b[1;32m    207\u001b[0m \u001b[38;5;28mself\u001b[39m\u001b[38;5;241m.\u001b[39mstart_client()\n\u001b[0;32m--> 208\u001b[0m \u001b[38;5;28;43mself\u001b[39;49m\u001b[38;5;241;43m.\u001b[39;49m\u001b[43mstart_session\u001b[49m\u001b[43m(\u001b[49m\u001b[43mcapabilities\u001b[49m\u001b[43m)\u001b[49m\n",
      "File \u001b[0;32m~/.local/lib/python3.10/site-packages/selenium/webdriver/remote/webdriver.py:292\u001b[0m, in \u001b[0;36mWebDriver.start_session\u001b[0;34m(self, capabilities)\u001b[0m\n\u001b[1;32m    285\u001b[0m \u001b[38;5;250m\u001b[39m\u001b[38;5;124;03m\"\"\"Creates a new session with the desired capabilities.\u001b[39;00m\n\u001b[1;32m    286\u001b[0m \n\u001b[1;32m    287\u001b[0m \u001b[38;5;124;03m:Args:\u001b[39;00m\n\u001b[1;32m    288\u001b[0m \u001b[38;5;124;03m - capabilities - a capabilities dict to start the session with.\u001b[39;00m\n\u001b[1;32m    289\u001b[0m \u001b[38;5;124;03m\"\"\"\u001b[39;00m\n\u001b[1;32m    291\u001b[0m caps \u001b[38;5;241m=\u001b[39m _create_caps(capabilities)\n\u001b[0;32m--> 292\u001b[0m response \u001b[38;5;241m=\u001b[39m \u001b[38;5;28;43mself\u001b[39;49m\u001b[38;5;241;43m.\u001b[39;49m\u001b[43mexecute\u001b[49m\u001b[43m(\u001b[49m\u001b[43mCommand\u001b[49m\u001b[38;5;241;43m.\u001b[39;49m\u001b[43mNEW_SESSION\u001b[49m\u001b[43m,\u001b[49m\u001b[43m \u001b[49m\u001b[43mcaps\u001b[49m\u001b[43m)\u001b[49m[\u001b[38;5;124m\"\u001b[39m\u001b[38;5;124mvalue\u001b[39m\u001b[38;5;124m\"\u001b[39m]\n\u001b[1;32m    293\u001b[0m \u001b[38;5;28mself\u001b[39m\u001b[38;5;241m.\u001b[39msession_id \u001b[38;5;241m=\u001b[39m response\u001b[38;5;241m.\u001b[39mget(\u001b[38;5;124m\"\u001b[39m\u001b[38;5;124msessionId\u001b[39m\u001b[38;5;124m\"\u001b[39m)\n\u001b[1;32m    294\u001b[0m \u001b[38;5;28mself\u001b[39m\u001b[38;5;241m.\u001b[39mcaps \u001b[38;5;241m=\u001b[39m response\u001b[38;5;241m.\u001b[39mget(\u001b[38;5;124m\"\u001b[39m\u001b[38;5;124mcapabilities\u001b[39m\u001b[38;5;124m\"\u001b[39m)\n",
      "File \u001b[0;32m~/.local/lib/python3.10/site-packages/selenium/webdriver/remote/webdriver.py:347\u001b[0m, in \u001b[0;36mWebDriver.execute\u001b[0;34m(self, driver_command, params)\u001b[0m\n\u001b[1;32m    345\u001b[0m response \u001b[38;5;241m=\u001b[39m \u001b[38;5;28mself\u001b[39m\u001b[38;5;241m.\u001b[39mcommand_executor\u001b[38;5;241m.\u001b[39mexecute(driver_command, params)\n\u001b[1;32m    346\u001b[0m \u001b[38;5;28;01mif\u001b[39;00m response:\n\u001b[0;32m--> 347\u001b[0m     \u001b[38;5;28;43mself\u001b[39;49m\u001b[38;5;241;43m.\u001b[39;49m\u001b[43merror_handler\u001b[49m\u001b[38;5;241;43m.\u001b[39;49m\u001b[43mcheck_response\u001b[49m\u001b[43m(\u001b[49m\u001b[43mresponse\u001b[49m\u001b[43m)\u001b[49m\n\u001b[1;32m    348\u001b[0m     response[\u001b[38;5;124m\"\u001b[39m\u001b[38;5;124mvalue\u001b[39m\u001b[38;5;124m\"\u001b[39m] \u001b[38;5;241m=\u001b[39m \u001b[38;5;28mself\u001b[39m\u001b[38;5;241m.\u001b[39m_unwrap_value(response\u001b[38;5;241m.\u001b[39mget(\u001b[38;5;124m\"\u001b[39m\u001b[38;5;124mvalue\u001b[39m\u001b[38;5;124m\"\u001b[39m, \u001b[38;5;28;01mNone\u001b[39;00m))\n\u001b[1;32m    349\u001b[0m     \u001b[38;5;28;01mreturn\u001b[39;00m response\n",
      "File \u001b[0;32m~/.local/lib/python3.10/site-packages/selenium/webdriver/remote/errorhandler.py:229\u001b[0m, in \u001b[0;36mErrorHandler.check_response\u001b[0;34m(self, response)\u001b[0m\n\u001b[1;32m    227\u001b[0m         alert_text \u001b[38;5;241m=\u001b[39m value[\u001b[38;5;124m\"\u001b[39m\u001b[38;5;124malert\u001b[39m\u001b[38;5;124m\"\u001b[39m]\u001b[38;5;241m.\u001b[39mget(\u001b[38;5;124m\"\u001b[39m\u001b[38;5;124mtext\u001b[39m\u001b[38;5;124m\"\u001b[39m)\n\u001b[1;32m    228\u001b[0m     \u001b[38;5;28;01mraise\u001b[39;00m exception_class(message, screen, stacktrace, alert_text)  \u001b[38;5;66;03m# type: ignore[call-arg]  # mypy is not smart enough here\u001b[39;00m\n\u001b[0;32m--> 229\u001b[0m \u001b[38;5;28;01mraise\u001b[39;00m exception_class(message, screen, stacktrace)\n",
      "\u001b[0;31mSessionNotCreatedException\u001b[0m: Message: session not created: Chrome failed to start: exited normally.\n  (session not created: DevToolsActivePort file doesn't exist)\n  (The process started from chrome location /opt/google/chrome/chrome is no longer running, so ChromeDriver is assuming that Chrome has crashed.)\nStacktrace:\n#0 0x7ff6b98ec873 <unknown>\n#1 0x7ff6b95e28c6 <unknown>\n#2 0x7ff6b9616d34 <unknown>\n#3 0x7ff6b9612d3d <unknown>\n#4 0x7ff6b965baed <unknown>\n#5 0x7ff6b964f343 <unknown>\n#6 0x7ff6b9620593 <unknown>\n#7 0x7ff6b9620f5e <unknown>\n#8 0x7ff6b98b085b <unknown>\n#9 0x7ff6b98b47b5 <unknown>\n#10 0x7ff6b989e581 <unknown>\n#11 0x7ff6b98b5342 <unknown>\n#12 0x7ff6b988388f <unknown>\n#13 0x7ff6b98db738 <unknown>\n#14 0x7ff6b98db90b <unknown>\n#15 0x7ff6b98eb9c4 <unknown>\n#16 0x7ff6b8b44ac3 <unknown>\n"
     ]
    }
   ],
   "source": [
    "from selenium import webdriver\n",
    "from webdriver_manager.chrome import ChromeDriverManager\n",
    "from selenium.webdriver.chrome.service import Service\n",
    "driver = webdriver.Chrome(service=Service(ChromeDriverManager(driver_version=\"123.0.6312.105\").install()))\n"
   ]
  },
  {
   "cell_type": "code",
   "execution_count": 73,
   "metadata": {},
   "outputs": [
    {
     "name": "stderr",
     "output_type": "stream",
     "text": [
      "100%|██████████| 844/844 [03:18<00:00,  4.24it/s]\n"
     ]
    }
   ],
   "source": [
    "import pickle as pk\n",
    "import requests\n",
    "from bs4 import BeautifulSoup as BS\n",
    "from tqdm import tqdm\n",
    "\n",
    "head = {\"User-Agent\":\n",
    "\"Mozilla/5.0 (Windows NT 10.0; Win64; x64) AppleWebKit/537.36 (KHTML, like Gecko) Chrome/123.0.0.0 Safari/537.36\"}\n",
    "with open(\"./kbo.pkl\",\"rb\") as f:\n",
    "    abc = pk.load(f)\n",
    "    kbo = []\n",
    "    for idx in tqdm(abc):\n",
    "        url = f\"https://www.koreabaseball.com/Futures/Player/HitterDetail.aspx?playerId={idx}\"\n",
    "        bs = BS(requests.get(url,headers=head).text).find('div',{'class':\"player_basic\"})\n",
    "        team = BS(requests.get(url,headers=head).text).find('h4',{'id':\"h4Team\"})\n",
    "        _key = []\n",
    "        _values = []\n",
    "        for i in bs.text.strip().split(\"\\n\"):\n",
    "            a = list(map(lambda x: x.strip(),i.split(\":\")))\n",
    "            _key.append(a[0])\n",
    "            _values.append(a[1])\n",
    "        b = dict(zip(_key,_values))\n",
    "        b['팀'] = team.text.strip() \n",
    "        kbo.append(b)\n",
    "    "
   ]
  },
  {
   "cell_type": "code",
   "execution_count": 82,
   "metadata": {},
   "outputs": [],
   "source": [
    "def get_kbo(player_id):\n",
    "    url = f\"https://www.koreabaseball.com/Futures/Player/HitterDetail.aspx?playerId={player_id}\"\n",
    "    bs= BS(requests.get(url).text).find('div',{'class':'player_basic'})\n",
    "    team = BS(requests.get(url).text).find('h4',{'id':\"h4Team\"})\n",
    "    _keys = []\n",
    "    _values = []\n",
    "    for i in bs.text.strip().split(\"\\n\"):\n",
    "        a = list(map(lambda x: x.strip(),i.split(\":\")))\n",
    "        _key.append(a[0])\n",
    "        _values.append(a[1])\n",
    "    b = dict(zip(_key,_values))\n",
    "    b['팀'] = team.text.strip()\n",
    "    return b"
   ]
  },
  {
   "cell_type": "code",
   "execution_count": 85,
   "metadata": {},
   "outputs": [
    {
     "name": "stderr",
     "output_type": "stream",
     "text": [
      "100%|██████████| 844/844 [03:37<00:00,  3.88it/s]\n"
     ]
    }
   ],
   "source": [
    "import pandas as pd\n",
    "df = pd.DataFrame([get_kbo(x) for x in tqdm(abc)])"
   ]
  },
  {
   "cell_type": "code",
   "execution_count": 94,
   "metadata": {},
   "outputs": [
    {
     "data": {
      "text/plain": [
       "20"
      ]
     },
     "execution_count": 94,
     "metadata": {},
     "output_type": "execute_result"
    }
   ],
   "source": [
    "df.duplicated().sum()"
   ]
  },
  {
   "cell_type": "code",
   "execution_count": 95,
   "metadata": {},
   "outputs": [],
   "source": [
    "df.drop_duplicates(inplace=True)"
   ]
  },
  {
   "cell_type": "code",
   "execution_count": null,
   "metadata": {},
   "outputs": [],
   "source": []
  },
  {
   "cell_type": "code",
   "execution_count": 87,
   "metadata": {},
   "outputs": [],
   "source": [
    "import pickle\n",
    "with open(\"./kbo_player.pkl\",'wb') as f:\n",
    "    pickle.dump(df,f)"
   ]
  },
  {
   "cell_type": "code",
   "execution_count": 109,
   "metadata": {},
   "outputs": [
    {
     "name": "stdout",
     "output_type": "stream",
     "text": [
      "False    824\n",
      "True      20\n",
      "Name: count, dtype: int64\n"
     ]
    }
   ],
   "source": [
    "with open(\"./kbo_player.pkl\",'rb') as f:\n",
    "    df1 = pickle.load(f)\n",
    "    print(df1.duplicated().value_counts())"
   ]
  },
  {
   "cell_type": "code",
   "execution_count": 142,
   "metadata": {},
   "outputs": [
    {
     "ename": "KeyError",
     "evalue": "'팀'",
     "output_type": "error",
     "traceback": [
      "\u001b[0;31m---------------------------------------------------------------------------\u001b[0m",
      "\u001b[0;31mKeyError\u001b[0m                                  Traceback (most recent call last)",
      "File \u001b[0;32m~/.local/lib/python3.10/site-packages/pandas/core/indexes/base.py:3805\u001b[0m, in \u001b[0;36mIndex.get_loc\u001b[0;34m(self, key)\u001b[0m\n\u001b[1;32m   3804\u001b[0m \u001b[38;5;28;01mtry\u001b[39;00m:\n\u001b[0;32m-> 3805\u001b[0m     \u001b[38;5;28;01mreturn\u001b[39;00m \u001b[38;5;28;43mself\u001b[39;49m\u001b[38;5;241;43m.\u001b[39;49m\u001b[43m_engine\u001b[49m\u001b[38;5;241;43m.\u001b[39;49m\u001b[43mget_loc\u001b[49m\u001b[43m(\u001b[49m\u001b[43mcasted_key\u001b[49m\u001b[43m)\u001b[49m\n\u001b[1;32m   3806\u001b[0m \u001b[38;5;28;01mexcept\u001b[39;00m \u001b[38;5;167;01mKeyError\u001b[39;00m \u001b[38;5;28;01mas\u001b[39;00m err:\n",
      "File \u001b[0;32mindex.pyx:167\u001b[0m, in \u001b[0;36mpandas._libs.index.IndexEngine.get_loc\u001b[0;34m()\u001b[0m\n",
      "File \u001b[0;32mindex.pyx:196\u001b[0m, in \u001b[0;36mpandas._libs.index.IndexEngine.get_loc\u001b[0;34m()\u001b[0m\n",
      "File \u001b[0;32mpandas/_libs/hashtable_class_helper.pxi:7081\u001b[0m, in \u001b[0;36mpandas._libs.hashtable.PyObjectHashTable.get_item\u001b[0;34m()\u001b[0m\n",
      "File \u001b[0;32mpandas/_libs/hashtable_class_helper.pxi:7089\u001b[0m, in \u001b[0;36mpandas._libs.hashtable.PyObjectHashTable.get_item\u001b[0;34m()\u001b[0m\n",
      "\u001b[0;31mKeyError\u001b[0m: '팀'",
      "\nThe above exception was the direct cause of the following exception:\n",
      "\u001b[0;31mKeyError\u001b[0m                                  Traceback (most recent call last)",
      "Cell \u001b[0;32mIn[142], line 1\u001b[0m\n\u001b[0;32m----> 1\u001b[0m \u001b[43mdf1\u001b[49m\u001b[43m[\u001b[49m\u001b[38;5;124;43m'\u001b[39;49m\u001b[38;5;124;43m팀\u001b[39;49m\u001b[38;5;124;43m'\u001b[39;49m\u001b[43m]\u001b[49m\u001b[38;5;241;43m.\u001b[39;49m\u001b[43mvalue_counts\u001b[49m\u001b[43m(\u001b[49m\u001b[43m)\u001b[49m\u001b[43m[\u001b[49m\u001b[38;5;124;43m'\u001b[39;49m\u001b[38;5;124;43m팀\u001b[39;49m\u001b[38;5;124;43m'\u001b[39;49m\u001b[43m]\u001b[49m\n",
      "File \u001b[0;32m~/.local/lib/python3.10/site-packages/pandas/core/series.py:1112\u001b[0m, in \u001b[0;36mSeries.__getitem__\u001b[0;34m(self, key)\u001b[0m\n\u001b[1;32m   1109\u001b[0m     \u001b[38;5;28;01mreturn\u001b[39;00m \u001b[38;5;28mself\u001b[39m\u001b[38;5;241m.\u001b[39m_values[key]\n\u001b[1;32m   1111\u001b[0m \u001b[38;5;28;01melif\u001b[39;00m key_is_scalar:\n\u001b[0;32m-> 1112\u001b[0m     \u001b[38;5;28;01mreturn\u001b[39;00m \u001b[38;5;28;43mself\u001b[39;49m\u001b[38;5;241;43m.\u001b[39;49m\u001b[43m_get_value\u001b[49m\u001b[43m(\u001b[49m\u001b[43mkey\u001b[49m\u001b[43m)\u001b[49m\n\u001b[1;32m   1114\u001b[0m \u001b[38;5;66;03m# Convert generator to list before going through hashable part\u001b[39;00m\n\u001b[1;32m   1115\u001b[0m \u001b[38;5;66;03m# (We will iterate through the generator there to check for slices)\u001b[39;00m\n\u001b[1;32m   1116\u001b[0m \u001b[38;5;28;01mif\u001b[39;00m is_iterator(key):\n",
      "File \u001b[0;32m~/.local/lib/python3.10/site-packages/pandas/core/series.py:1228\u001b[0m, in \u001b[0;36mSeries._get_value\u001b[0;34m(self, label, takeable)\u001b[0m\n\u001b[1;32m   1225\u001b[0m     \u001b[38;5;28;01mreturn\u001b[39;00m \u001b[38;5;28mself\u001b[39m\u001b[38;5;241m.\u001b[39m_values[label]\n\u001b[1;32m   1227\u001b[0m \u001b[38;5;66;03m# Similar to Index.get_value, but we do not fall back to positional\u001b[39;00m\n\u001b[0;32m-> 1228\u001b[0m loc \u001b[38;5;241m=\u001b[39m \u001b[38;5;28;43mself\u001b[39;49m\u001b[38;5;241;43m.\u001b[39;49m\u001b[43mindex\u001b[49m\u001b[38;5;241;43m.\u001b[39;49m\u001b[43mget_loc\u001b[49m\u001b[43m(\u001b[49m\u001b[43mlabel\u001b[49m\u001b[43m)\u001b[49m\n\u001b[1;32m   1230\u001b[0m \u001b[38;5;28;01mif\u001b[39;00m is_integer(loc):\n\u001b[1;32m   1231\u001b[0m     \u001b[38;5;28;01mreturn\u001b[39;00m \u001b[38;5;28mself\u001b[39m\u001b[38;5;241m.\u001b[39m_values[loc]\n",
      "File \u001b[0;32m~/.local/lib/python3.10/site-packages/pandas/core/indexes/base.py:3812\u001b[0m, in \u001b[0;36mIndex.get_loc\u001b[0;34m(self, key)\u001b[0m\n\u001b[1;32m   3807\u001b[0m     \u001b[38;5;28;01mif\u001b[39;00m \u001b[38;5;28misinstance\u001b[39m(casted_key, \u001b[38;5;28mslice\u001b[39m) \u001b[38;5;129;01mor\u001b[39;00m (\n\u001b[1;32m   3808\u001b[0m         \u001b[38;5;28misinstance\u001b[39m(casted_key, abc\u001b[38;5;241m.\u001b[39mIterable)\n\u001b[1;32m   3809\u001b[0m         \u001b[38;5;129;01mand\u001b[39;00m \u001b[38;5;28many\u001b[39m(\u001b[38;5;28misinstance\u001b[39m(x, \u001b[38;5;28mslice\u001b[39m) \u001b[38;5;28;01mfor\u001b[39;00m x \u001b[38;5;129;01min\u001b[39;00m casted_key)\n\u001b[1;32m   3810\u001b[0m     ):\n\u001b[1;32m   3811\u001b[0m         \u001b[38;5;28;01mraise\u001b[39;00m InvalidIndexError(key)\n\u001b[0;32m-> 3812\u001b[0m     \u001b[38;5;28;01mraise\u001b[39;00m \u001b[38;5;167;01mKeyError\u001b[39;00m(key) \u001b[38;5;28;01mfrom\u001b[39;00m \u001b[38;5;21;01merr\u001b[39;00m\n\u001b[1;32m   3813\u001b[0m \u001b[38;5;28;01mexcept\u001b[39;00m \u001b[38;5;167;01mTypeError\u001b[39;00m:\n\u001b[1;32m   3814\u001b[0m     \u001b[38;5;66;03m# If we have a listlike key, _check_indexing_error will raise\u001b[39;00m\n\u001b[1;32m   3815\u001b[0m     \u001b[38;5;66;03m#  InvalidIndexError. Otherwise we fall through and re-raise\u001b[39;00m\n\u001b[1;32m   3816\u001b[0m     \u001b[38;5;66;03m#  the TypeError.\u001b[39;00m\n\u001b[1;32m   3817\u001b[0m     \u001b[38;5;28mself\u001b[39m\u001b[38;5;241m.\u001b[39m_check_indexing_error(key)\n",
      "\u001b[0;31mKeyError\u001b[0m: '팀'"
     ]
    }
   ],
   "source": [
    "df1['팀'].value_counts()"
   ]
  },
  {
   "cell_type": "code",
   "execution_count": 116,
   "metadata": {},
   "outputs": [
    {
     "name": "stdout",
     "output_type": "stream",
     "text": [
      "Index(['선수명', '등번호', '생년월일', '포지션', '신장/체중', '경력', '입단 계약금', '연봉', '지명순위',\n",
      "       '입단년도', 'team'],\n",
      "      dtype='object')\n"
     ]
    }
   ],
   "source": [
    "with open(\"./kbo_detail.pkl\",'rb') as f:\n",
    "    df2 = pickle.load(f)\n",
    "    df2 = pd.DataFrame(df2)\n",
    "    print(df2.keys())\n",
    "    df2['포지션'].value_counts()"
   ]
  },
  {
   "cell_type": "code",
   "execution_count": 127,
   "metadata": {},
   "outputs": [
    {
     "data": {
      "text/plain": [
       "pandas.core.series.Series"
      ]
     },
     "execution_count": 127,
     "metadata": {},
     "output_type": "execute_result"
    }
   ],
   "source": [
    "type(df2['포지션'].value_counts())"
   ]
  },
  {
   "cell_type": "code",
   "execution_count": 131,
   "metadata": {},
   "outputs": [
    {
     "data": {
      "text/plain": [
       "Index([' 투수(우투우타)', ' 내야수(우투우타)', ' 투수(좌투좌타)', ' 포수(우투우타)', ' 내야수(우투좌타)',\n",
       "       ' 외야수(우투우타)', ' 외야수(우투좌타)', ' 투수(우언우타)', ' 외야수(좌투좌타)', ' 투수(우투좌타)',\n",
       "       ' 포수(우투좌타)', ' 내야수(좌투좌타)', ' 외야수(우투양타)', ' 투수(좌투우타)', ' 투수(우투양타)',\n",
       "       ' 내야수(우투양타)', ' 투수(우언좌타)', ' 외야수(좌투우타)', ' 포수(우투양타)'],\n",
       "      dtype='object', name='포지션')"
      ]
     },
     "execution_count": 131,
     "metadata": {},
     "output_type": "execute_result"
    }
   ],
   "source": [
    "df2['포지션'].value_counts().index"
   ]
  },
  {
   "cell_type": "code",
   "execution_count": 122,
   "metadata": {},
   "outputs": [
    {
     "data": {
      "text/plain": [
       "19"
      ]
     },
     "execution_count": 122,
     "metadata": {},
     "output_type": "execute_result"
    }
   ],
   "source": [
    "df2['포지션'].unique().size"
   ]
  },
  {
   "cell_type": "code",
   "execution_count": 146,
   "metadata": {},
   "outputs": [],
   "source": [
    "df2['신장'] = df2['신장/체중'].apply(lambda x : x.split('/')[0].replace(\"cm\",\"\")).apply(int)\n",
    "df2['체중'] = df2['신장/체중'].apply(lambda x : x.split('/')[1].replace(\"kg\",\"\")).apply(int)"
   ]
  },
  {
   "cell_type": "code",
   "execution_count": 147,
   "metadata": {},
   "outputs": [],
   "source": [
    "df2['bmi'] = (df2['신장']/100)**2 / df2['체중']"
   ]
  },
  {
   "cell_type": "code",
   "execution_count": 148,
   "metadata": {},
   "outputs": [
    {
     "data": {
      "text/html": [
       "<div>\n",
       "<style scoped>\n",
       "    .dataframe tbody tr th:only-of-type {\n",
       "        vertical-align: middle;\n",
       "    }\n",
       "\n",
       "    .dataframe tbody tr th {\n",
       "        vertical-align: top;\n",
       "    }\n",
       "\n",
       "    .dataframe thead th {\n",
       "        text-align: right;\n",
       "    }\n",
       "</style>\n",
       "<table border=\"1\" class=\"dataframe\">\n",
       "  <thead>\n",
       "    <tr style=\"text-align: right;\">\n",
       "      <th></th>\n",
       "      <th>선수명</th>\n",
       "      <th>등번호</th>\n",
       "      <th>생년월일</th>\n",
       "      <th>포지션</th>\n",
       "      <th>신장/체중</th>\n",
       "      <th>경력</th>\n",
       "      <th>입단 계약금</th>\n",
       "      <th>연봉</th>\n",
       "      <th>지명순위</th>\n",
       "      <th>입단년도</th>\n",
       "      <th>team</th>\n",
       "      <th>신장</th>\n",
       "      <th>체중</th>\n",
       "      <th>bmi</th>\n",
       "    </tr>\n",
       "  </thead>\n",
       "  <tbody>\n",
       "    <tr>\n",
       "      <th>673</th>\n",
       "      <td>강한울</td>\n",
       "      <td>No.6</td>\n",
       "      <td>1991년 09월 12일</td>\n",
       "      <td>내야수(우투좌타)</td>\n",
       "      <td>181cm/66kg</td>\n",
       "      <td>사당초-중앙중-안산공고-원광대-KIA-삼성-상무</td>\n",
       "      <td>14000만원</td>\n",
       "      <td>10000만원</td>\n",
       "      <td>14 KIA 2차 1라운드 5순위</td>\n",
       "      <td>14KIA</td>\n",
       "      <td>삼성 라이온즈</td>\n",
       "      <td>181</td>\n",
       "      <td>66</td>\n",
       "      <td>0.049638</td>\n",
       "    </tr>\n",
       "    <tr>\n",
       "      <th>379</th>\n",
       "      <td>백선기</td>\n",
       "      <td>No.114</td>\n",
       "      <td>1998년 08월 27일</td>\n",
       "      <td>투수(좌투좌타)</td>\n",
       "      <td>186cm/70kg</td>\n",
       "      <td>남도초-경상중-대구상원고-KT</td>\n",
       "      <td>5000만원</td>\n",
       "      <td>3000만원</td>\n",
       "      <td>18 KT 2차 7라운드 61순위</td>\n",
       "      <td></td>\n",
       "      <td>LG 트윈스</td>\n",
       "      <td>186</td>\n",
       "      <td>70</td>\n",
       "      <td>0.049423</td>\n",
       "    </tr>\n",
       "    <tr>\n",
       "      <th>821</th>\n",
       "      <td>이태규</td>\n",
       "      <td>No.45</td>\n",
       "      <td>2000년 02월 21일</td>\n",
       "      <td>투수(우투좌타)</td>\n",
       "      <td>188cm/72kg</td>\n",
       "      <td>희망대초-매향중-장안고-KIA</td>\n",
       "      <td>8000만원</td>\n",
       "      <td>3000만원</td>\n",
       "      <td>19 KIA 2차 3라운드 30순위</td>\n",
       "      <td>23KIA</td>\n",
       "      <td>KT 위즈</td>\n",
       "      <td>188</td>\n",
       "      <td>72</td>\n",
       "      <td>0.049089</td>\n",
       "    </tr>\n",
       "    <tr>\n",
       "      <th>804</th>\n",
       "      <td>엄상백</td>\n",
       "      <td>No.18</td>\n",
       "      <td>1996년 10월 04일</td>\n",
       "      <td>투수(우언우타)</td>\n",
       "      <td>187cm/72kg</td>\n",
       "      <td>역삼초-언북중-덕수고-KT-상무</td>\n",
       "      <td>23000만원</td>\n",
       "      <td>25000만원</td>\n",
       "      <td>15 KT 1차</td>\n",
       "      <td>15KT</td>\n",
       "      <td>KT 위즈</td>\n",
       "      <td>187</td>\n",
       "      <td>72</td>\n",
       "      <td>0.048568</td>\n",
       "    </tr>\n",
       "    <tr>\n",
       "      <th>35</th>\n",
       "      <td>성지훈</td>\n",
       "      <td>No.97</td>\n",
       "      <td>2000년 01월 29일</td>\n",
       "      <td>투수(좌투좌타)</td>\n",
       "      <td>181cm/68kg</td>\n",
       "      <td>송정동초-무등중-광주제일고-동아대</td>\n",
       "      <td></td>\n",
       "      <td>3000만원</td>\n",
       "      <td>23 한화 육성선수</td>\n",
       "      <td>24한화</td>\n",
       "      <td>한화 이글스</td>\n",
       "      <td>181</td>\n",
       "      <td>68</td>\n",
       "      <td>0.048178</td>\n",
       "    </tr>\n",
       "    <tr>\n",
       "      <th>...</th>\n",
       "      <td>...</td>\n",
       "      <td>...</td>\n",
       "      <td>...</td>\n",
       "      <td>...</td>\n",
       "      <td>...</td>\n",
       "      <td>...</td>\n",
       "      <td>...</td>\n",
       "      <td>...</td>\n",
       "      <td>...</td>\n",
       "      <td>...</td>\n",
       "      <td>...</td>\n",
       "      <td>...</td>\n",
       "      <td>...</td>\n",
       "      <td>...</td>\n",
       "    </tr>\n",
       "    <tr>\n",
       "      <th>509</th>\n",
       "      <td>김기연</td>\n",
       "      <td>No.45</td>\n",
       "      <td>1997년 09월 07일</td>\n",
       "      <td>포수(우투우타)</td>\n",
       "      <td>178cm/106kg</td>\n",
       "      <td>광주수창초-진흥중-진흥고-LG</td>\n",
       "      <td>7000만원</td>\n",
       "      <td>4000만원</td>\n",
       "      <td>16 LG 2차 4라운드 34순위</td>\n",
       "      <td>17LG</td>\n",
       "      <td>두산 베어스</td>\n",
       "      <td>178</td>\n",
       "      <td>106</td>\n",
       "      <td>0.029891</td>\n",
       "    </tr>\n",
       "    <tr>\n",
       "      <th>57</th>\n",
       "      <td>이성원</td>\n",
       "      <td>No.98</td>\n",
       "      <td>1999년 11월 02일</td>\n",
       "      <td>내야수(우투우타)</td>\n",
       "      <td>185cm/115kg</td>\n",
       "      <td>수원신곡초-매향중-장안고</td>\n",
       "      <td>6000만원</td>\n",
       "      <td>3000만원</td>\n",
       "      <td>18 한화 2차 6라운드 54순위</td>\n",
       "      <td></td>\n",
       "      <td>한화 이글스</td>\n",
       "      <td>185</td>\n",
       "      <td>115</td>\n",
       "      <td>0.029761</td>\n",
       "    </tr>\n",
       "    <tr>\n",
       "      <th>30</th>\n",
       "      <td>박성웅</td>\n",
       "      <td>No.63</td>\n",
       "      <td>1999년 08월 20일</td>\n",
       "      <td>투수(좌투좌타)</td>\n",
       "      <td>178cm/109kg</td>\n",
       "      <td>광주서석초-충장중-광주제일고</td>\n",
       "      <td>10000만원</td>\n",
       "      <td>3300만원</td>\n",
       "      <td>18 한화 2차 2라운드 14순위</td>\n",
       "      <td>18한화</td>\n",
       "      <td>한화 이글스</td>\n",
       "      <td>178</td>\n",
       "      <td>109</td>\n",
       "      <td>0.029068</td>\n",
       "    </tr>\n",
       "    <tr>\n",
       "      <th>356</th>\n",
       "      <td>김범석</td>\n",
       "      <td>No.55</td>\n",
       "      <td>2004년 05월 21일</td>\n",
       "      <td>포수(우투우타)</td>\n",
       "      <td>178cm/110kg</td>\n",
       "      <td>김해삼성초-경남중-경남고</td>\n",
       "      <td>25000만원</td>\n",
       "      <td>3300만원</td>\n",
       "      <td>23 LG 1라운드 7순위</td>\n",
       "      <td>23LG</td>\n",
       "      <td>LG 트윈스</td>\n",
       "      <td>178</td>\n",
       "      <td>110</td>\n",
       "      <td>0.028804</td>\n",
       "    </tr>\n",
       "    <tr>\n",
       "      <th>10</th>\n",
       "      <td>김민우</td>\n",
       "      <td>No.53</td>\n",
       "      <td>1995년 07월 25일</td>\n",
       "      <td>투수(우투우타)</td>\n",
       "      <td>186cm/123kg</td>\n",
       "      <td>사파초-마산중-용마고</td>\n",
       "      <td>20000만원</td>\n",
       "      <td>16700만원</td>\n",
       "      <td>15 한화 2차 1라운드 1순위</td>\n",
       "      <td>15한화</td>\n",
       "      <td>한화 이글스</td>\n",
       "      <td>186</td>\n",
       "      <td>123</td>\n",
       "      <td>0.028127</td>\n",
       "    </tr>\n",
       "  </tbody>\n",
       "</table>\n",
       "<p>844 rows × 14 columns</p>\n",
       "</div>"
      ],
      "text/plain": [
       "      선수명      등번호            생년월일         포지션         신장/체중  \\\n",
       "673   강한울     No.6   1991년 09월 12일   내야수(우투좌타)    181cm/66kg   \n",
       "379   백선기   No.114   1998년 08월 27일    투수(좌투좌타)    186cm/70kg   \n",
       "821   이태규    No.45   2000년 02월 21일    투수(우투좌타)    188cm/72kg   \n",
       "804   엄상백    No.18   1996년 10월 04일    투수(우언우타)    187cm/72kg   \n",
       "35    성지훈    No.97   2000년 01월 29일    투수(좌투좌타)    181cm/68kg   \n",
       "..    ...      ...             ...         ...           ...   \n",
       "509   김기연    No.45   1997년 09월 07일    포수(우투우타)   178cm/106kg   \n",
       "57    이성원    No.98   1999년 11월 02일   내야수(우투우타)   185cm/115kg   \n",
       "30    박성웅    No.63   1999년 08월 20일    투수(좌투좌타)   178cm/109kg   \n",
       "356   김범석    No.55   2004년 05월 21일    포수(우투우타)   178cm/110kg   \n",
       "10    김민우    No.53   1995년 07월 25일    투수(우투우타)   186cm/123kg   \n",
       "\n",
       "                              경력    입단 계약금        연봉                  지명순위  \\\n",
       "673   사당초-중앙중-안산공고-원광대-KIA-삼성-상무   14000만원   10000만원    14 KIA 2차 1라운드 5순위   \n",
       "379             남도초-경상중-대구상원고-KT    5000만원    3000만원    18 KT 2차 7라운드 61순위   \n",
       "821             희망대초-매향중-장안고-KIA    8000만원    3000만원   19 KIA 2차 3라운드 30순위   \n",
       "804            역삼초-언북중-덕수고-KT-상무   23000만원   25000만원              15 KT 1차   \n",
       "35            송정동초-무등중-광주제일고-동아대              3000만원            23 한화 육성선수   \n",
       "..                           ...       ...       ...                   ...   \n",
       "509             광주수창초-진흥중-진흥고-LG    7000만원    4000만원    16 LG 2차 4라운드 34순위   \n",
       "57                 수원신곡초-매향중-장안고    6000만원    3000만원    18 한화 2차 6라운드 54순위   \n",
       "30               광주서석초-충장중-광주제일고   10000만원    3300만원    18 한화 2차 2라운드 14순위   \n",
       "356                김해삼성초-경남중-경남고   25000만원    3300만원        23 LG 1라운드 7순위   \n",
       "10                   사파초-마산중-용마고   20000만원   16700만원     15 한화 2차 1라운드 1순위   \n",
       "\n",
       "       입단년도     team   신장   체중       bmi  \n",
       "673   14KIA  삼성 라이온즈  181   66  0.049638  \n",
       "379           LG 트윈스  186   70  0.049423  \n",
       "821   23KIA    KT 위즈  188   72  0.049089  \n",
       "804    15KT    KT 위즈  187   72  0.048568  \n",
       "35     24한화   한화 이글스  181   68  0.048178  \n",
       "..      ...      ...  ...  ...       ...  \n",
       "509    17LG   두산 베어스  178  106  0.029891  \n",
       "57            한화 이글스  185  115  0.029761  \n",
       "30     18한화   한화 이글스  178  109  0.029068  \n",
       "356    23LG   LG 트윈스  178  110  0.028804  \n",
       "10     15한화   한화 이글스  186  123  0.028127  \n",
       "\n",
       "[844 rows x 14 columns]"
      ]
     },
     "execution_count": 148,
     "metadata": {},
     "output_type": "execute_result"
    }
   ],
   "source": [
    "df2.sort_values(by = ['bmi'], ascending=False)"
   ]
  },
  {
   "cell_type": "code",
   "execution_count": 153,
   "metadata": {},
   "outputs": [
    {
     "data": {
      "text/html": [
       "<div>\n",
       "<style scoped>\n",
       "    .dataframe tbody tr th:only-of-type {\n",
       "        vertical-align: middle;\n",
       "    }\n",
       "\n",
       "    .dataframe tbody tr th {\n",
       "        vertical-align: top;\n",
       "    }\n",
       "\n",
       "    .dataframe thead th {\n",
       "        text-align: right;\n",
       "    }\n",
       "</style>\n",
       "<table border=\"1\" class=\"dataframe\">\n",
       "  <thead>\n",
       "    <tr style=\"text-align: right;\">\n",
       "      <th></th>\n",
       "      <th>team</th>\n",
       "      <th>bmi</th>\n",
       "    </tr>\n",
       "  </thead>\n",
       "  <tbody>\n",
       "    <tr>\n",
       "      <th>0</th>\n",
       "      <td>KIA 타이거즈</td>\n",
       "      <td>0.038004</td>\n",
       "    </tr>\n",
       "    <tr>\n",
       "      <th>1</th>\n",
       "      <td>KT 위즈</td>\n",
       "      <td>0.039130</td>\n",
       "    </tr>\n",
       "    <tr>\n",
       "      <th>2</th>\n",
       "      <td>LG 트윈스</td>\n",
       "      <td>0.038731</td>\n",
       "    </tr>\n",
       "    <tr>\n",
       "      <th>3</th>\n",
       "      <td>NC 다이노스</td>\n",
       "      <td>0.038764</td>\n",
       "    </tr>\n",
       "    <tr>\n",
       "      <th>4</th>\n",
       "      <td>SSG 랜더스</td>\n",
       "      <td>0.038700</td>\n",
       "    </tr>\n",
       "    <tr>\n",
       "      <th>5</th>\n",
       "      <td>고양 히어로즈</td>\n",
       "      <td>0.039487</td>\n",
       "    </tr>\n",
       "    <tr>\n",
       "      <th>6</th>\n",
       "      <td>두산 베어스</td>\n",
       "      <td>0.038788</td>\n",
       "    </tr>\n",
       "    <tr>\n",
       "      <th>7</th>\n",
       "      <td>롯데 자이언츠</td>\n",
       "      <td>0.038038</td>\n",
       "    </tr>\n",
       "    <tr>\n",
       "      <th>8</th>\n",
       "      <td>삼성 라이온즈</td>\n",
       "      <td>0.038447</td>\n",
       "    </tr>\n",
       "    <tr>\n",
       "      <th>9</th>\n",
       "      <td>키움 히어로즈</td>\n",
       "      <td>0.037778</td>\n",
       "    </tr>\n",
       "    <tr>\n",
       "      <th>10</th>\n",
       "      <td>한화 이글스</td>\n",
       "      <td>0.037916</td>\n",
       "    </tr>\n",
       "  </tbody>\n",
       "</table>\n",
       "</div>"
      ],
      "text/plain": [
       "        team       bmi\n",
       "0   KIA 타이거즈  0.038004\n",
       "1      KT 위즈  0.039130\n",
       "2     LG 트윈스  0.038731\n",
       "3    NC 다이노스  0.038764\n",
       "4    SSG 랜더스  0.038700\n",
       "5    고양 히어로즈  0.039487\n",
       "6     두산 베어스  0.038788\n",
       "7    롯데 자이언츠  0.038038\n",
       "8    삼성 라이온즈  0.038447\n",
       "9    키움 히어로즈  0.037778\n",
       "10    한화 이글스  0.037916"
      ]
     },
     "execution_count": 153,
     "metadata": {},
     "output_type": "execute_result"
    }
   ],
   "source": [
    "df2.groupby(['team'],as_index=False)['bmi'].mean()"
   ]
  },
  {
   "cell_type": "code",
   "execution_count": 154,
   "metadata": {},
   "outputs": [
    {
     "data": {
      "text/plain": [
       "5.5"
      ]
     },
     "execution_count": 154,
     "metadata": {},
     "output_type": "execute_result"
    }
   ],
   "source": [
    "sum(range(1,11)) / 10"
   ]
  },
  {
   "cell_type": "code",
   "execution_count": 156,
   "metadata": {},
   "outputs": [
    {
     "data": {
      "text/plain": [
       "8.25"
      ]
     },
     "execution_count": 156,
     "metadata": {},
     "output_type": "execute_result"
    }
   ],
   "source": [
    "import numpy as np\n",
    "np.array(np.arange(1,11)).var()"
   ]
  },
  {
   "cell_type": "code",
   "execution_count": 159,
   "metadata": {},
   "outputs": [
    {
     "data": {
      "text/plain": [
       "a    5.5\n",
       "dtype: float64"
      ]
     },
     "execution_count": 159,
     "metadata": {},
     "output_type": "execute_result"
    }
   ],
   "source": [
    "pd.DataFrame({'a':range(1,11)}).mean()"
   ]
  },
  {
   "cell_type": "code",
   "execution_count": null,
   "metadata": {},
   "outputs": [],
   "source": []
  }
 ],
 "metadata": {
  "kernelspec": {
   "display_name": "Python 3",
   "language": "python",
   "name": "python3"
  },
  "language_info": {
   "codemirror_mode": {
    "name": "ipython",
    "version": 3
   },
   "file_extension": ".py",
   "mimetype": "text/x-python",
   "name": "python",
   "nbconvert_exporter": "python",
   "pygments_lexer": "ipython3",
   "version": "3.10.12"
  }
 },
 "nbformat": 4,
 "nbformat_minor": 2
}
