{
 "cells": [
  {
   "cell_type": "markdown",
   "metadata": {},
   "source": [
    "### 데이터 엔지니어링 1주차 환경설정 \n",
    " \n",
    "#### 코드 입력모드\n",
    ">   - Shift + Enter : 실행 시키고 셀 커서를 아래쪽으로 이동 가장 아래쪽에 있는 셀을 실행 시 셀 추가\n",
    ">   - Alt + Enter : 실행시키고 아래 새로운 셀을 추가하면서 셀 커서 이동\n",
    ">   - Ctrl + Enter : 아래 셀을 추가하지 않고 실행\n",
    "#### 셀 선택 모드 \n",
    ">   - 비주얼 모드 : m 버튼 -> Markdown\n",
    ">   - 마크다운 모드 : y 버튼 -> python cell \n",
    ">   - b : 아래 셀추가\n",
    ">   - a : 위에 셀 추가"
   ]
  },
  {
   "cell_type": "code",
   "execution_count": 6,
   "metadata": {},
   "outputs": [
    {
     "data": {
      "text/plain": [
       "6"
      ]
     },
     "execution_count": 6,
     "metadata": {},
     "output_type": "execute_result"
    }
   ],
   "source": [
    "1+2+3"
   ]
  },
  {
   "cell_type": "code",
   "execution_count": 13,
   "metadata": {},
   "outputs": [
    {
     "data": {
      "text/plain": [
       "['__abs__',\n",
       " '__add__',\n",
       " '__and__',\n",
       " '__bool__',\n",
       " '__ceil__',\n",
       " '__class__',\n",
       " '__delattr__',\n",
       " '__dir__',\n",
       " '__divmod__',\n",
       " '__doc__',\n",
       " '__eq__',\n",
       " '__float__',\n",
       " '__floor__',\n",
       " '__floordiv__',\n",
       " '__format__',\n",
       " '__ge__',\n",
       " '__getattribute__',\n",
       " '__getnewargs__',\n",
       " '__gt__',\n",
       " '__hash__',\n",
       " '__index__',\n",
       " '__init__',\n",
       " '__init_subclass__',\n",
       " '__int__',\n",
       " '__invert__',\n",
       " '__le__',\n",
       " '__lshift__',\n",
       " '__lt__',\n",
       " '__mod__',\n",
       " '__mul__',\n",
       " '__ne__',\n",
       " '__neg__',\n",
       " '__new__',\n",
       " '__or__',\n",
       " '__pos__',\n",
       " '__pow__',\n",
       " '__radd__',\n",
       " '__rand__',\n",
       " '__rdivmod__',\n",
       " '__reduce__',\n",
       " '__reduce_ex__',\n",
       " '__repr__',\n",
       " '__rfloordiv__',\n",
       " '__rlshift__',\n",
       " '__rmod__',\n",
       " '__rmul__',\n",
       " '__ror__',\n",
       " '__round__',\n",
       " '__rpow__',\n",
       " '__rrshift__',\n",
       " '__rshift__',\n",
       " '__rsub__',\n",
       " '__rtruediv__',\n",
       " '__rxor__',\n",
       " '__setattr__',\n",
       " '__sizeof__',\n",
       " '__str__',\n",
       " '__sub__',\n",
       " '__subclasshook__',\n",
       " '__truediv__',\n",
       " '__trunc__',\n",
       " '__xor__',\n",
       " 'as_integer_ratio',\n",
       " 'bit_count',\n",
       " 'bit_length',\n",
       " 'conjugate',\n",
       " 'denominator',\n",
       " 'from_bytes',\n",
       " 'imag',\n",
       " 'numerator',\n",
       " 'real',\n",
       " 'to_bytes']"
      ]
     },
     "execution_count": 13,
     "metadata": {},
     "output_type": "execute_result"
    }
   ],
   "source": [
    "a = 3\n",
    "dir(a) #int형 객체\n"
   ]
  },
  {
   "cell_type": "code",
   "execution_count": 19,
   "metadata": {},
   "outputs": [
    {
     "data": {
      "text/plain": [
       "['__add__',\n",
       " '__class__',\n",
       " '__class_getitem__',\n",
       " '__contains__',\n",
       " '__delattr__',\n",
       " '__delitem__',\n",
       " '__dir__',\n",
       " '__doc__',\n",
       " '__eq__',\n",
       " '__format__',\n",
       " '__ge__',\n",
       " '__getattribute__',\n",
       " '__getitem__',\n",
       " '__gt__',\n",
       " '__hash__',\n",
       " '__iadd__',\n",
       " '__imul__',\n",
       " '__init__',\n",
       " '__init_subclass__',\n",
       " '__iter__',\n",
       " '__le__',\n",
       " '__len__',\n",
       " '__lt__',\n",
       " '__mul__',\n",
       " '__ne__',\n",
       " '__new__',\n",
       " '__reduce__',\n",
       " '__reduce_ex__',\n",
       " '__repr__',\n",
       " '__reversed__',\n",
       " '__rmul__',\n",
       " '__setattr__',\n",
       " '__setitem__',\n",
       " '__sizeof__',\n",
       " '__str__',\n",
       " '__subclasshook__',\n",
       " 'append',\n",
       " 'clear',\n",
       " 'copy',\n",
       " 'count',\n",
       " 'extend',\n",
       " 'index',\n",
       " 'insert',\n",
       " 'pop',\n",
       " 'remove',\n",
       " 'reverse',\n",
       " 'sort']"
      ]
     },
     "execution_count": 19,
     "metadata": {},
     "output_type": "execute_result"
    }
   ],
   "source": [
    "a = [1,2,3]\n",
    "dir(a)"
   ]
  },
  {
   "cell_type": "code",
   "execution_count": 20,
   "metadata": {},
   "outputs": [
    {
     "name": "stdout",
     "output_type": "stream",
     "text": [
      "Help on built-in function remove:\n",
      "\n",
      "remove(value, /) method of builtins.list instance\n",
      "    Remove first occurrence of value.\n",
      "    \n",
      "    Raises ValueError if the value is not present.\n",
      "\n"
     ]
    }
   ],
   "source": [
    "help(a.remove)"
   ]
  },
  {
   "cell_type": "code",
   "execution_count": 21,
   "metadata": {},
   "outputs": [
    {
     "data": {
      "text/plain": [
       "[1, 2, 3]"
      ]
     },
     "execution_count": 21,
     "metadata": {},
     "output_type": "execute_result"
    }
   ],
   "source": [
    "a"
   ]
  },
  {
   "cell_type": "code",
   "execution_count": 22,
   "metadata": {},
   "outputs": [],
   "source": [
    "list2 = ['a','b','c','d','e','f','g']"
   ]
  },
  {
   "cell_type": "code",
   "execution_count": 23,
   "metadata": {},
   "outputs": [
    {
     "data": {
      "text/plain": [
       "7"
      ]
     },
     "execution_count": 23,
     "metadata": {},
     "output_type": "execute_result"
    }
   ],
   "source": [
    "len(list2)"
   ]
  },
  {
   "cell_type": "code",
   "execution_count": 25,
   "metadata": {},
   "outputs": [
    {
     "name": "stdout",
     "output_type": "stream",
     "text": [
      "a b c d e f g \n",
      "g f e d c b a \n"
     ]
    }
   ],
   "source": [
    "#0-6\n",
    "for i in list2:\n",
    "    print(i, end= ' ')\n",
    "print()\n",
    "\n",
    "#-1:-7\n",
    "for i in list2[::-1]:\n",
    "    print(i, end=' ')\n",
    "print()"
   ]
  },
  {
   "cell_type": "code",
   "execution_count": 26,
   "metadata": {},
   "outputs": [],
   "source": [
    "#Sequence 형 데이터\n",
    "text = \"동해물과 백두산이\""
   ]
  },
  {
   "cell_type": "code",
   "execution_count": 27,
   "metadata": {},
   "outputs": [],
   "source": [
    "text2 = '동해물과 백두산이'"
   ]
  },
  {
   "cell_type": "code",
   "execution_count": 28,
   "metadata": {},
   "outputs": [
    {
     "data": {
      "text/plain": [
       "'동해물과 백두산이'"
      ]
     },
     "execution_count": 28,
     "metadata": {},
     "output_type": "execute_result"
    }
   ],
   "source": [
    "text2"
   ]
  },
  {
   "cell_type": "code",
   "execution_count": 29,
   "metadata": {},
   "outputs": [
    {
     "data": {
      "text/plain": [
       "['동해물과', '백두산이']"
      ]
     },
     "execution_count": 29,
     "metadata": {},
     "output_type": "execute_result"
    }
   ],
   "source": [
    "text2.split()"
   ]
  },
  {
   "cell_type": "code",
   "execution_count": 31,
   "metadata": {},
   "outputs": [],
   "source": [
    "name = [\"권시은\",\"기석광\",\"김가현\",\"김기호\",\"김대건\",\"김동현\",\"김승주\",\"김예송\",\"김하영\",\"김현지\",\"노석현\",\"박성우\",\"변수현\",\"서정임\",\"신소영\",\"원정인\",\"유선우\",\"유정연\",\"이서연\",\"이재연\",\"이충원\",\"이하은\",\"이희재\",\"정다인\",\"조명아\",\"조태식\",\"조혜민\",\"차민혁\",\"최성현\",\"최태성\",]"
   ]
  },
  {
   "cell_type": "code",
   "execution_count": 38,
   "metadata": {},
   "outputs": [],
   "source": [
    "loan = \"김미영 팀장입니다. {}님께서는 최고이율로 5.06% 비율로 대출가능하십니다.\""
   ]
  },
  {
   "cell_type": "markdown",
   "metadata": {},
   "source": [
    "비교 연산자\n",
    "- <= , >= , < , >\n",
    "- == , !="
   ]
  },
  {
   "cell_type": "code",
   "execution_count": 45,
   "metadata": {},
   "outputs": [
    {
     "name": "stdout",
     "output_type": "stream",
     "text": [
      "김미영 팀장입니다. 권시은님께서는 최고이율로 5.06% 비율로 3000만원까지 대출가능하십니다.\n",
      "김미영 팀장입니다. 기석광님께서는 최고이율로 5.06% 비율로 3000만원까지 대출가능하십니다.\n",
      "김미영 팀장입니다. 김가현님께서는 최고이율로 5.06% 비율로 3000만원까지 대출가능하십니다.\n",
      "김미영 팀장입니다. 김기호님께서는 최고이율로 5.06% 비율로 3000만원까지 대출가능하십니다.\n",
      "김미영 팀장입니다. 김대건님께서는 최고이율로 5.06% 비율로 3000만원까지 대출가능하십니다.\n",
      "김미영 팀장입니다. 김동현님께서는 최고이율로 5.06% 비율로 3000만원까지 대출가능하십니다.\n",
      "김미영 팀장입니다. 김승주님께서는 최고이율로 5.06% 비율로 3000만원까지 대출가능하십니다.\n",
      "김미영 팀장입니다. 김예송님께서는 최고이율로 5.06% 비율로 3000만원까지 대출가능하십니다.\n",
      "김미영 팀장입니다. 김하영님께서는 최고이율로 5.06% 비율로 3000만원까지 대출가능하십니다.\n",
      "김미영 팀장입니다. 김현지님께서는 최고이율로 5.06% 비율로 3000만원까지 대출가능하십니다.\n",
      "김미영 팀장입니다. 노석현님께서는 최고이율로 5.06% 비율로 3000만원까지 대출가능하십니다.\n",
      "김미영 팀장입니다. 박성우님께서는 최고이율로 5.06% 비율로 3000만원까지 대출가능하십니다.\n",
      "김미영 팀장입니다. 변수현님께서는 최고이율로 5.06% 비율로 3000만원까지 대출가능하십니다.\n",
      "김미영 팀장입니다. 서정임님께서는 최고이율로 5.06% 비율로 3000만원까지 대출가능하십니다.\n",
      "김미영 팀장입니다. 신소영님께서는 최고이율로 5.06% 비율로 3000만원까지 대출가능하십니다.\n",
      "김미영 팀장입니다. 원정인님께서는 최고이율로 5.06% 비율로 3000만원까지 대출가능하십니다.\n",
      "김미영 팀장입니다. 유선우님께서는 최고이율로 5.06% 비율로 3000만원까지 대출가능하십니다.\n",
      "김미영 팀장입니다. 유정연님께서는 최고이율로 5.06% 비율로 3000만원까지 대출가능하십니다.\n",
      "김미영 팀장입니다. 이서연님께서는 최고이율로 5.06% 비율로 1억까지 대출가능하십니다.\n",
      "김미영 팀장입니다. 이재연님께서는 최고이율로 5.06% 비율로 1억까지 대출가능하십니다.\n",
      "김미영 팀장입니다. 이충원님께서는 최고이율로 5.06% 비율로 1억까지 대출가능하십니다.\n",
      "김미영 팀장입니다. 이하은님께서는 최고이율로 5.06% 비율로 1억까지 대출가능하십니다.\n",
      "김미영 팀장입니다. 이희재님께서는 최고이율로 5.06% 비율로 1억까지 대출가능하십니다.\n",
      "김미영 팀장입니다. 정다인님께서는 최고이율로 5.06% 비율로 3000만원까지 대출가능하십니다.\n",
      "김미영 팀장입니다. 조명아님께서는 최고이율로 5.06% 비율로 3000만원까지 대출가능하십니다.\n",
      "김미영 팀장입니다. 조태식님께서는 최고이율로 5.06% 비율로 3000만원까지 대출가능하십니다.\n",
      "김미영 팀장입니다. 조혜민님께서는 최고이율로 5.06% 비율로 3000만원까지 대출가능하십니다.\n",
      "김미영 팀장입니다. 차민혁님께서는 최고이율로 5.06% 비율로 3000만원까지 대출가능하십니다.\n",
      "김미영 팀장입니다. 최성현님께서는 최고이율로 5.06% 비율로 3000만원까지 대출가능하십니다.\n",
      "김미영 팀장입니다. 최태성님께서는 최고이율로 5.06% 비율로 3000만원까지 대출가능하십니다.\n"
     ]
    }
   ],
   "source": [
    "#loop\n",
    "start = 0 \n",
    "loan = \"김미영 팀장입니다. {}님께서는 최고이율로 5.06% 비율로 {}까지 대출가능하십니다.\"\n",
    "for x in name:\n",
    "    if x[start] == '이':\n",
    "        print(loan.format(x,'1억'))\n",
    "    else:\n",
    "        print(loan.format(x,'3000만원'))"
   ]
  },
  {
   "cell_type": "code",
   "execution_count": 35,
   "metadata": {},
   "outputs": [
    {
     "name": "stdout",
     "output_type": "stream",
     "text": [
      "최태성\n"
     ]
    }
   ],
   "source": [
    "print(x)"
   ]
  },
  {
   "cell_type": "code",
   "execution_count": 40,
   "metadata": {},
   "outputs": [
    {
     "name": "stdout",
     "output_type": "stream",
     "text": [
      "elif\n"
     ]
    }
   ],
   "source": [
    "if 50 > 600:\n",
    "    print(\"True\")\n",
    "elif(40 < 50):\n",
    "    print(\"elif\")\n",
    "\n",
    "else:\n",
    "    print(\"False\")"
   ]
  },
  {
   "cell_type": "code",
   "execution_count": 47,
   "metadata": {},
   "outputs": [
    {
     "data": {
      "text/plain": [
       "True"
      ]
     },
     "execution_count": 47,
     "metadata": {},
     "output_type": "execute_result"
    }
   ],
   "source": [
    "True or False"
   ]
  },
  {
   "cell_type": "code",
   "execution_count": 48,
   "metadata": {},
   "outputs": [
    {
     "data": {
      "text/plain": [
       "True"
      ]
     },
     "execution_count": 48,
     "metadata": {},
     "output_type": "execute_result"
    }
   ],
   "source": [
    "True and True"
   ]
  },
  {
   "cell_type": "code",
   "execution_count": 49,
   "metadata": {},
   "outputs": [
    {
     "data": {
      "text/plain": [
       "False"
      ]
     },
     "execution_count": 49,
     "metadata": {},
     "output_type": "execute_result"
    }
   ],
   "source": [
    "True and False"
   ]
  },
  {
   "cell_type": "code",
   "execution_count": 50,
   "metadata": {},
   "outputs": [
    {
     "data": {
      "text/plain": [
       "False"
      ]
     },
     "execution_count": 50,
     "metadata": {},
     "output_type": "execute_result"
    }
   ],
   "source": [
    "not True"
   ]
  },
  {
   "cell_type": "code",
   "execution_count": 53,
   "metadata": {},
   "outputs": [
    {
     "data": {
      "text/plain": [
       "True"
      ]
     },
     "execution_count": 53,
     "metadata": {},
     "output_type": "execute_result"
    }
   ],
   "source": [
    "True and not False or not Fase"
   ]
  },
  {
   "cell_type": "code",
   "execution_count": 54,
   "metadata": {},
   "outputs": [],
   "source": [
    "import requests #third-party 웹에 접속하는 패키지"
   ]
  },
  {
   "cell_type": "code",
   "execution_count": 55,
   "metadata": {},
   "outputs": [],
   "source": [
    "url = \"https://www.starbucks.co.kr/store/getStore.do?r=EXRPGE2OU7\"\n",
    "payload = {\"in_biz_cds\" : \"0\",\"in_scodes\" : \"0\",\"ins_lat\" : \"37.4947\",\"ins_lng\" : \"127.0493\",\"search_text\" : \"\",\"p_sido_cd\" : \"01\",\"p_gugun_cd\" : \"\",\"isError\" : \"true\",\"in_distance\" : \"0\",\"in_biz_cd\" : \"\",\"iend\" : \"1000\",\"searchType\" : \"C\",\"set_date\" : \"\",\"rndCod\" : \"Q878EXUG04\",\"all_store\" : \"0\",\"T03\" : \"0\",\"T01\" : \"0\",\"T27\" : \"0\",\"T12\" : \"0\",\"T09\" : \"0\",\"T30\" : \"0\",\"T05\" : \"0\",\"T22\" : \"0\",\"T21\" : \"0\",\"T10\" : \"0\",\"T36\" : \"0\",\"T43\" : \"0\",\"T48\" : \"0\",\"Z9999\" : \"0\",\"P02\" : \"0\",\"P10\" : \"0\",\"P50\" : \"0\",\"P20\" : \"0\",\"P60\" : \"0\",\"P30\" : \"0\",\"P70\" : \"0\",\"P40\" : \"0\",\"P80\" : \"0\",\"whcroad_yn\" : \"0\",\"P90\" : \"0\",\"P01\" : \"0\",\"new_bool\" : \"0\",}\n",
    "r = requests.post(url, data=payload)\n",
    "data = r.json()\n"
   ]
  },
  {
   "cell_type": "code",
   "execution_count": 59,
   "metadata": {},
   "outputs": [
    {
     "data": {
      "text/plain": [
       "612"
      ]
     },
     "execution_count": 59,
     "metadata": {},
     "output_type": "execute_result"
    }
   ],
   "source": [
    "len(data['list'])"
   ]
  },
  {
   "cell_type": "code",
   "execution_count": null,
   "metadata": {},
   "outputs": [],
   "source": []
  }
 ],
 "metadata": {
  "kernelspec": {
   "display_name": "Python 3",
   "language": "python",
   "name": "python3"
  },
  "language_info": {
   "codemirror_mode": {
    "name": "ipython",
    "version": 3
   },
   "file_extension": ".py",
   "mimetype": "text/x-python",
   "name": "python",
   "nbconvert_exporter": "python",
   "pygments_lexer": "ipython3",
   "version": "3.10.12"
  }
 },
 "nbformat": 4,
 "nbformat_minor": 2
}
