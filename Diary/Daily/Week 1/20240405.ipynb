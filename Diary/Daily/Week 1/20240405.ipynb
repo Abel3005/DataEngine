{
 "cells": [
  {
   "cell_type": "code",
   "execution_count": 1,
   "metadata": {},
   "outputs": [],
   "source": [
    "import pickle\n",
    "import pandas as pd"
   ]
  },
  {
   "cell_type": "code",
   "execution_count": 6,
   "metadata": {},
   "outputs": [],
   "source": [
    "with open('./kbo_detail.pkl','rb') as f:\n",
    "    kbo_df = pickle.load(f)"
   ]
  },
  {
   "cell_type": "code",
   "execution_count": 7,
   "metadata": {},
   "outputs": [
    {
     "data": {
      "text/html": [
       "<div>\n",
       "<style scoped>\n",
       "    .dataframe tbody tr th:only-of-type {\n",
       "        vertical-align: middle;\n",
       "    }\n",
       "\n",
       "    .dataframe tbody tr th {\n",
       "        vertical-align: top;\n",
       "    }\n",
       "\n",
       "    .dataframe thead th {\n",
       "        text-align: right;\n",
       "    }\n",
       "</style>\n",
       "<table border=\"1\" class=\"dataframe\">\n",
       "  <thead>\n",
       "    <tr style=\"text-align: right;\">\n",
       "      <th></th>\n",
       "      <th>선수명</th>\n",
       "      <th>등번호</th>\n",
       "      <th>생년월일</th>\n",
       "      <th>포지션</th>\n",
       "      <th>신장/체중</th>\n",
       "      <th>경력</th>\n",
       "      <th>입단 계약금</th>\n",
       "      <th>연봉</th>\n",
       "      <th>지명순위</th>\n",
       "      <th>입단년도</th>\n",
       "      <th>team</th>\n",
       "    </tr>\n",
       "  </thead>\n",
       "  <tbody>\n",
       "    <tr>\n",
       "      <th>0</th>\n",
       "      <td>강재민</td>\n",
       "      <td>No.</td>\n",
       "      <td>1997년 04월 03일</td>\n",
       "      <td>투수(우언우타)</td>\n",
       "      <td>180cm/89kg</td>\n",
       "      <td>양덕초-마산중-용마고-단국대</td>\n",
       "      <td>8000만원</td>\n",
       "      <td>14500만원</td>\n",
       "      <td>20 한화 2차 4라운드 38순위</td>\n",
       "      <td>20한화</td>\n",
       "      <td>한화 이글스</td>\n",
       "    </tr>\n",
       "    <tr>\n",
       "      <th>1</th>\n",
       "      <td>권광민</td>\n",
       "      <td>No.17</td>\n",
       "      <td>1997년 12월 12일</td>\n",
       "      <td>외야수(좌투좌타)</td>\n",
       "      <td>189cm/102kg</td>\n",
       "      <td>서울청구초-홍은중-장충고</td>\n",
       "      <td></td>\n",
       "      <td>3300만원</td>\n",
       "      <td>22 한화 2차 5라운드 41순위</td>\n",
       "      <td>16시카고컵스</td>\n",
       "      <td>한화 이글스</td>\n",
       "    </tr>\n",
       "    <tr>\n",
       "      <th>2</th>\n",
       "      <td>권동욱</td>\n",
       "      <td>No.02</td>\n",
       "      <td>2001년 01월 08일</td>\n",
       "      <td>외야수(우투우타)</td>\n",
       "      <td>173cm/85kg</td>\n",
       "      <td>가동초-휘문중-배명고-동국대</td>\n",
       "      <td></td>\n",
       "      <td>3000만원</td>\n",
       "      <td>24 한화 육성선수</td>\n",
       "      <td></td>\n",
       "      <td>한화 이글스</td>\n",
       "    </tr>\n",
       "    <tr>\n",
       "      <th>3</th>\n",
       "      <td>권현</td>\n",
       "      <td>No.111</td>\n",
       "      <td>2005년 02월 23일</td>\n",
       "      <td>외야수(우투우타)</td>\n",
       "      <td>182cm/88kg</td>\n",
       "      <td>사당초-언북중-장충고</td>\n",
       "      <td>3000만원</td>\n",
       "      <td>3000만원</td>\n",
       "      <td>24 한화 10라운드 91순위</td>\n",
       "      <td></td>\n",
       "      <td>한화 이글스</td>\n",
       "    </tr>\n",
       "    <tr>\n",
       "      <th>4</th>\n",
       "      <td>김강민</td>\n",
       "      <td>No.9</td>\n",
       "      <td>1982년 09월 13일</td>\n",
       "      <td>외야수(우투우타)</td>\n",
       "      <td>182cm/87kg</td>\n",
       "      <td>본리초-대구중-경북고-SK-SSG</td>\n",
       "      <td>11000만원</td>\n",
       "      <td>11000만원</td>\n",
       "      <td>01 SK 2차 2라운드 18순위</td>\n",
       "      <td>01SK</td>\n",
       "      <td>한화 이글스</td>\n",
       "    </tr>\n",
       "    <tr>\n",
       "      <th>...</th>\n",
       "      <td>...</td>\n",
       "      <td>...</td>\n",
       "      <td>...</td>\n",
       "      <td>...</td>\n",
       "      <td>...</td>\n",
       "      <td>...</td>\n",
       "      <td>...</td>\n",
       "      <td>...</td>\n",
       "      <td>...</td>\n",
       "      <td>...</td>\n",
       "      <td>...</td>\n",
       "    </tr>\n",
       "    <tr>\n",
       "      <th>839</th>\n",
       "      <td>한민우</td>\n",
       "      <td>No.96</td>\n",
       "      <td>1999년 04월 27일</td>\n",
       "      <td>투수(좌투좌타)</td>\n",
       "      <td>177cm/82kg</td>\n",
       "      <td>동일중앙초-경남중-경남고</td>\n",
       "      <td>1000만원</td>\n",
       "      <td>3000만원</td>\n",
       "      <td>23 KT 육성선수</td>\n",
       "      <td></td>\n",
       "      <td>KT 위즈</td>\n",
       "    </tr>\n",
       "    <tr>\n",
       "      <th>840</th>\n",
       "      <td>한차현</td>\n",
       "      <td>No.59</td>\n",
       "      <td>1998년 11월 30일</td>\n",
       "      <td>투수(우투우타)</td>\n",
       "      <td>180cm/80kg</td>\n",
       "      <td>사능초(남양주리틀)-청원중-포항제철고-성균관대</td>\n",
       "      <td>10000만원</td>\n",
       "      <td>3100만원</td>\n",
       "      <td>21 KT 2차 2라운드 15순위</td>\n",
       "      <td>21KT</td>\n",
       "      <td>KT 위즈</td>\n",
       "    </tr>\n",
       "    <tr>\n",
       "      <th>841</th>\n",
       "      <td>홍현빈</td>\n",
       "      <td>No.31</td>\n",
       "      <td>1997년 08월 29일</td>\n",
       "      <td>외야수(우투좌타)</td>\n",
       "      <td>174cm/70kg</td>\n",
       "      <td>수원신곡초-매송중-유신고-KT-상무</td>\n",
       "      <td>9000만원</td>\n",
       "      <td>4500만원</td>\n",
       "      <td>17 KT 2차 3라운드 21순위</td>\n",
       "      <td>17KT</td>\n",
       "      <td>KT 위즈</td>\n",
       "    </tr>\n",
       "    <tr>\n",
       "      <th>842</th>\n",
       "      <td>황의준</td>\n",
       "      <td>No.103</td>\n",
       "      <td>2002년 04월 06일</td>\n",
       "      <td>외야수(우투좌타)</td>\n",
       "      <td>185cm/95kg</td>\n",
       "      <td>칠성초-경복중-경북고-수성대</td>\n",
       "      <td>4000만원</td>\n",
       "      <td>3000만원</td>\n",
       "      <td>23 KT 8라운드 80순위</td>\n",
       "      <td></td>\n",
       "      <td>KT 위즈</td>\n",
       "    </tr>\n",
       "    <tr>\n",
       "      <th>843</th>\n",
       "      <td>황재균</td>\n",
       "      <td>No.10</td>\n",
       "      <td>1987년 07월 28일</td>\n",
       "      <td>내야수(우투우타)</td>\n",
       "      <td>183cm/96kg</td>\n",
       "      <td>사당초-서울이수중-경기고-현대-히어로즈-롯데-샌프란시스코</td>\n",
       "      <td>6000만원</td>\n",
       "      <td>100000만원</td>\n",
       "      <td>06 현대 2차 3라운드 24순위</td>\n",
       "      <td>06현대</td>\n",
       "      <td>KT 위즈</td>\n",
       "    </tr>\n",
       "  </tbody>\n",
       "</table>\n",
       "<p>844 rows × 11 columns</p>\n",
       "</div>"
      ],
      "text/plain": [
       "      선수명      등번호            생년월일         포지션         신장/체중  \\\n",
       "0     강재민      No.   1997년 04월 03일    투수(우언우타)    180cm/89kg   \n",
       "1     권광민    No.17   1997년 12월 12일   외야수(좌투좌타)   189cm/102kg   \n",
       "2     권동욱    No.02   2001년 01월 08일   외야수(우투우타)    173cm/85kg   \n",
       "3      권현   No.111   2005년 02월 23일   외야수(우투우타)    182cm/88kg   \n",
       "4     김강민     No.9   1982년 09월 13일   외야수(우투우타)    182cm/87kg   \n",
       "..    ...      ...             ...         ...           ...   \n",
       "839   한민우    No.96   1999년 04월 27일    투수(좌투좌타)    177cm/82kg   \n",
       "840   한차현    No.59   1998년 11월 30일    투수(우투우타)    180cm/80kg   \n",
       "841   홍현빈    No.31   1997년 08월 29일   외야수(우투좌타)    174cm/70kg   \n",
       "842   황의준   No.103   2002년 04월 06일   외야수(우투좌타)    185cm/95kg   \n",
       "843   황재균    No.10   1987년 07월 28일   내야수(우투우타)    183cm/96kg   \n",
       "\n",
       "                                   경력    입단 계약금         연봉  \\\n",
       "0                     양덕초-마산중-용마고-단국대    8000만원    14500만원   \n",
       "1                       서울청구초-홍은중-장충고               3300만원   \n",
       "2                     가동초-휘문중-배명고-동국대               3000만원   \n",
       "3                         사당초-언북중-장충고    3000만원     3000만원   \n",
       "4                  본리초-대구중-경북고-SK-SSG   11000만원    11000만원   \n",
       "..                                ...       ...        ...   \n",
       "839                     동일중앙초-경남중-경남고    1000만원     3000만원   \n",
       "840         사능초(남양주리틀)-청원중-포항제철고-성균관대   10000만원     3100만원   \n",
       "841               수원신곡초-매송중-유신고-KT-상무    9000만원     4500만원   \n",
       "842                   칠성초-경복중-경북고-수성대    4000만원     3000만원   \n",
       "843   사당초-서울이수중-경기고-현대-히어로즈-롯데-샌프란시스코    6000만원   100000만원   \n",
       "\n",
       "                    지명순위      입단년도    team  \n",
       "0     20 한화 2차 4라운드 38순위      20한화  한화 이글스  \n",
       "1     22 한화 2차 5라운드 41순위   16시카고컵스  한화 이글스  \n",
       "2             24 한화 육성선수            한화 이글스  \n",
       "3       24 한화 10라운드 91순위            한화 이글스  \n",
       "4     01 SK 2차 2라운드 18순위      01SK  한화 이글스  \n",
       "..                   ...       ...     ...  \n",
       "839           23 KT 육성선수             KT 위즈  \n",
       "840   21 KT 2차 2라운드 15순위      21KT   KT 위즈  \n",
       "841   17 KT 2차 3라운드 21순위      17KT   KT 위즈  \n",
       "842      23 KT 8라운드 80순위             KT 위즈  \n",
       "843   06 현대 2차 3라운드 24순위      06현대   KT 위즈  \n",
       "\n",
       "[844 rows x 11 columns]"
      ]
     },
     "execution_count": 7,
     "metadata": {},
     "output_type": "execute_result"
    }
   ],
   "source": [
    "kbo_df"
   ]
  },
  {
   "cell_type": "code",
   "execution_count": 8,
   "metadata": {},
   "outputs": [
    {
     "data": {
      "text/plain": [
       "0      False\n",
       "1      False\n",
       "2      False\n",
       "3      False\n",
       "4      False\n",
       "       ...  \n",
       "839    False\n",
       "840    False\n",
       "841    False\n",
       "842    False\n",
       "843    False\n",
       "Length: 844, dtype: bool"
      ]
     },
     "execution_count": 8,
     "metadata": {},
     "output_type": "execute_result"
    }
   ],
   "source": [
    "kbo_df.duplicated()"
   ]
  },
  {
   "cell_type": "code",
   "execution_count": 10,
   "metadata": {},
   "outputs": [
    {
     "data": {
      "text/plain": [
       "선수명                    권동욱\n",
       "등번호                  No.02\n",
       "생년월일         2001년 01월 08일\n",
       "포지션              외야수(우투우타)\n",
       "신장/체중           173cm/85kg\n",
       "경력         가동초-휘문중-배명고-동국대\n",
       "입단 계약금                    \n",
       "연봉                  3000만원\n",
       "지명순위            24 한화 육성선수\n",
       "입단년도                      \n",
       "team                한화 이글스\n",
       "Name: 2, dtype: object"
      ]
     },
     "execution_count": 10,
     "metadata": {},
     "output_type": "execute_result"
    }
   ],
   "source": [
    "kbo_df.loc[2,'권혁']"
   ]
  },
  {
   "cell_type": "code",
   "execution_count": 13,
   "metadata": {},
   "outputs": [
    {
     "data": {
      "text/plain": [
       "' 투수(우언우타)'"
      ]
     },
     "execution_count": 13,
     "metadata": {},
     "output_type": "execute_result"
    }
   ],
   "source": [
    "kbo_df.set_index('선수명').loc[' 강재민','포지션']"
   ]
  },
  {
   "cell_type": "code",
   "execution_count": 16,
   "metadata": {},
   "outputs": [],
   "source": [
    "kbo_df.선수명= kbo_df['선수명'].apply(lambda x : x.strip())"
   ]
  },
  {
   "cell_type": "code",
   "execution_count": 20,
   "metadata": {},
   "outputs": [],
   "source": [
    "mask = (kbo_df.연봉.str.find('달러') > -1)"
   ]
  },
  {
   "cell_type": "code",
   "execution_count": 30,
   "metadata": {},
   "outputs": [
    {
     "data": {
      "text/html": [
       "<div>\n",
       "<style scoped>\n",
       "    .dataframe tbody tr th:only-of-type {\n",
       "        vertical-align: middle;\n",
       "    }\n",
       "\n",
       "    .dataframe tbody tr th {\n",
       "        vertical-align: top;\n",
       "    }\n",
       "\n",
       "    .dataframe thead th {\n",
       "        text-align: right;\n",
       "    }\n",
       "</style>\n",
       "<table border=\"1\" class=\"dataframe\">\n",
       "  <thead>\n",
       "    <tr style=\"text-align: right;\">\n",
       "      <th></th>\n",
       "      <th>0</th>\n",
       "      <th>1</th>\n",
       "      <th>2</th>\n",
       "      <th>3</th>\n",
       "      <th>4</th>\n",
       "      <th>5</th>\n",
       "      <th>6</th>\n",
       "      <th>7</th>\n",
       "      <th>8</th>\n",
       "      <th>9</th>\n",
       "      <th>...</th>\n",
       "      <th>경력</th>\n",
       "      <th>등번호</th>\n",
       "      <th>생년월일</th>\n",
       "      <th>선수명</th>\n",
       "      <th>신장/체중</th>\n",
       "      <th>연봉</th>\n",
       "      <th>입단 계약금</th>\n",
       "      <th>입단년도</th>\n",
       "      <th>지명순위</th>\n",
       "      <th>포지션</th>\n",
       "    </tr>\n",
       "  </thead>\n",
       "  <tbody>\n",
       "    <tr>\n",
       "      <th>0</th>\n",
       "      <td>NaN</td>\n",
       "      <td>NaN</td>\n",
       "      <td>NaN</td>\n",
       "      <td>NaN</td>\n",
       "      <td>NaN</td>\n",
       "      <td>NaN</td>\n",
       "      <td>NaN</td>\n",
       "      <td>NaN</td>\n",
       "      <td>NaN</td>\n",
       "      <td>NaN</td>\n",
       "      <td>...</td>\n",
       "      <td>NaN</td>\n",
       "      <td>NaN</td>\n",
       "      <td>NaN</td>\n",
       "      <td>NaN</td>\n",
       "      <td>NaN</td>\n",
       "      <td>NaN</td>\n",
       "      <td>NaN</td>\n",
       "      <td>NaN</td>\n",
       "      <td>NaN</td>\n",
       "      <td>NaN</td>\n",
       "    </tr>\n",
       "    <tr>\n",
       "      <th>1</th>\n",
       "      <td>NaN</td>\n",
       "      <td>NaN</td>\n",
       "      <td>NaN</td>\n",
       "      <td>NaN</td>\n",
       "      <td>NaN</td>\n",
       "      <td>NaN</td>\n",
       "      <td>NaN</td>\n",
       "      <td>NaN</td>\n",
       "      <td>NaN</td>\n",
       "      <td>NaN</td>\n",
       "      <td>...</td>\n",
       "      <td>NaN</td>\n",
       "      <td>NaN</td>\n",
       "      <td>NaN</td>\n",
       "      <td>NaN</td>\n",
       "      <td>NaN</td>\n",
       "      <td>NaN</td>\n",
       "      <td>NaN</td>\n",
       "      <td>NaN</td>\n",
       "      <td>NaN</td>\n",
       "      <td>NaN</td>\n",
       "    </tr>\n",
       "    <tr>\n",
       "      <th>2</th>\n",
       "      <td>NaN</td>\n",
       "      <td>NaN</td>\n",
       "      <td>NaN</td>\n",
       "      <td>NaN</td>\n",
       "      <td>NaN</td>\n",
       "      <td>NaN</td>\n",
       "      <td>NaN</td>\n",
       "      <td>NaN</td>\n",
       "      <td>NaN</td>\n",
       "      <td>NaN</td>\n",
       "      <td>...</td>\n",
       "      <td>NaN</td>\n",
       "      <td>NaN</td>\n",
       "      <td>NaN</td>\n",
       "      <td>NaN</td>\n",
       "      <td>NaN</td>\n",
       "      <td>NaN</td>\n",
       "      <td>NaN</td>\n",
       "      <td>NaN</td>\n",
       "      <td>NaN</td>\n",
       "      <td>NaN</td>\n",
       "    </tr>\n",
       "    <tr>\n",
       "      <th>3</th>\n",
       "      <td>NaN</td>\n",
       "      <td>NaN</td>\n",
       "      <td>NaN</td>\n",
       "      <td>NaN</td>\n",
       "      <td>NaN</td>\n",
       "      <td>NaN</td>\n",
       "      <td>NaN</td>\n",
       "      <td>NaN</td>\n",
       "      <td>NaN</td>\n",
       "      <td>NaN</td>\n",
       "      <td>...</td>\n",
       "      <td>NaN</td>\n",
       "      <td>NaN</td>\n",
       "      <td>NaN</td>\n",
       "      <td>NaN</td>\n",
       "      <td>NaN</td>\n",
       "      <td>NaN</td>\n",
       "      <td>NaN</td>\n",
       "      <td>NaN</td>\n",
       "      <td>NaN</td>\n",
       "      <td>NaN</td>\n",
       "    </tr>\n",
       "    <tr>\n",
       "      <th>4</th>\n",
       "      <td>NaN</td>\n",
       "      <td>NaN</td>\n",
       "      <td>NaN</td>\n",
       "      <td>NaN</td>\n",
       "      <td>NaN</td>\n",
       "      <td>NaN</td>\n",
       "      <td>NaN</td>\n",
       "      <td>NaN</td>\n",
       "      <td>NaN</td>\n",
       "      <td>NaN</td>\n",
       "      <td>...</td>\n",
       "      <td>NaN</td>\n",
       "      <td>NaN</td>\n",
       "      <td>NaN</td>\n",
       "      <td>NaN</td>\n",
       "      <td>NaN</td>\n",
       "      <td>NaN</td>\n",
       "      <td>NaN</td>\n",
       "      <td>NaN</td>\n",
       "      <td>NaN</td>\n",
       "      <td>NaN</td>\n",
       "    </tr>\n",
       "    <tr>\n",
       "      <th>...</th>\n",
       "      <td>...</td>\n",
       "      <td>...</td>\n",
       "      <td>...</td>\n",
       "      <td>...</td>\n",
       "      <td>...</td>\n",
       "      <td>...</td>\n",
       "      <td>...</td>\n",
       "      <td>...</td>\n",
       "      <td>...</td>\n",
       "      <td>...</td>\n",
       "      <td>...</td>\n",
       "      <td>...</td>\n",
       "      <td>...</td>\n",
       "      <td>...</td>\n",
       "      <td>...</td>\n",
       "      <td>...</td>\n",
       "      <td>...</td>\n",
       "      <td>...</td>\n",
       "      <td>...</td>\n",
       "      <td>...</td>\n",
       "      <td>...</td>\n",
       "    </tr>\n",
       "    <tr>\n",
       "      <th>839</th>\n",
       "      <td>NaN</td>\n",
       "      <td>NaN</td>\n",
       "      <td>NaN</td>\n",
       "      <td>NaN</td>\n",
       "      <td>NaN</td>\n",
       "      <td>NaN</td>\n",
       "      <td>NaN</td>\n",
       "      <td>NaN</td>\n",
       "      <td>NaN</td>\n",
       "      <td>NaN</td>\n",
       "      <td>...</td>\n",
       "      <td>NaN</td>\n",
       "      <td>NaN</td>\n",
       "      <td>NaN</td>\n",
       "      <td>NaN</td>\n",
       "      <td>NaN</td>\n",
       "      <td>NaN</td>\n",
       "      <td>NaN</td>\n",
       "      <td>NaN</td>\n",
       "      <td>NaN</td>\n",
       "      <td>NaN</td>\n",
       "    </tr>\n",
       "    <tr>\n",
       "      <th>840</th>\n",
       "      <td>NaN</td>\n",
       "      <td>NaN</td>\n",
       "      <td>NaN</td>\n",
       "      <td>NaN</td>\n",
       "      <td>NaN</td>\n",
       "      <td>NaN</td>\n",
       "      <td>NaN</td>\n",
       "      <td>NaN</td>\n",
       "      <td>NaN</td>\n",
       "      <td>NaN</td>\n",
       "      <td>...</td>\n",
       "      <td>NaN</td>\n",
       "      <td>NaN</td>\n",
       "      <td>NaN</td>\n",
       "      <td>NaN</td>\n",
       "      <td>NaN</td>\n",
       "      <td>NaN</td>\n",
       "      <td>NaN</td>\n",
       "      <td>NaN</td>\n",
       "      <td>NaN</td>\n",
       "      <td>NaN</td>\n",
       "    </tr>\n",
       "    <tr>\n",
       "      <th>841</th>\n",
       "      <td>NaN</td>\n",
       "      <td>NaN</td>\n",
       "      <td>NaN</td>\n",
       "      <td>NaN</td>\n",
       "      <td>NaN</td>\n",
       "      <td>NaN</td>\n",
       "      <td>NaN</td>\n",
       "      <td>NaN</td>\n",
       "      <td>NaN</td>\n",
       "      <td>NaN</td>\n",
       "      <td>...</td>\n",
       "      <td>NaN</td>\n",
       "      <td>NaN</td>\n",
       "      <td>NaN</td>\n",
       "      <td>NaN</td>\n",
       "      <td>NaN</td>\n",
       "      <td>NaN</td>\n",
       "      <td>NaN</td>\n",
       "      <td>NaN</td>\n",
       "      <td>NaN</td>\n",
       "      <td>NaN</td>\n",
       "    </tr>\n",
       "    <tr>\n",
       "      <th>842</th>\n",
       "      <td>NaN</td>\n",
       "      <td>NaN</td>\n",
       "      <td>NaN</td>\n",
       "      <td>NaN</td>\n",
       "      <td>NaN</td>\n",
       "      <td>NaN</td>\n",
       "      <td>NaN</td>\n",
       "      <td>NaN</td>\n",
       "      <td>NaN</td>\n",
       "      <td>NaN</td>\n",
       "      <td>...</td>\n",
       "      <td>NaN</td>\n",
       "      <td>NaN</td>\n",
       "      <td>NaN</td>\n",
       "      <td>NaN</td>\n",
       "      <td>NaN</td>\n",
       "      <td>NaN</td>\n",
       "      <td>NaN</td>\n",
       "      <td>NaN</td>\n",
       "      <td>NaN</td>\n",
       "      <td>NaN</td>\n",
       "    </tr>\n",
       "    <tr>\n",
       "      <th>843</th>\n",
       "      <td>NaN</td>\n",
       "      <td>NaN</td>\n",
       "      <td>NaN</td>\n",
       "      <td>NaN</td>\n",
       "      <td>NaN</td>\n",
       "      <td>NaN</td>\n",
       "      <td>NaN</td>\n",
       "      <td>NaN</td>\n",
       "      <td>NaN</td>\n",
       "      <td>NaN</td>\n",
       "      <td>...</td>\n",
       "      <td>NaN</td>\n",
       "      <td>NaN</td>\n",
       "      <td>NaN</td>\n",
       "      <td>NaN</td>\n",
       "      <td>NaN</td>\n",
       "      <td>NaN</td>\n",
       "      <td>NaN</td>\n",
       "      <td>NaN</td>\n",
       "      <td>NaN</td>\n",
       "      <td>NaN</td>\n",
       "    </tr>\n",
       "  </tbody>\n",
       "</table>\n",
       "<p>844 rows × 855 columns</p>\n",
       "</div>"
      ],
      "text/plain": [
       "       0    1    2    3    4    5    6    7    8    9  ...   경력  등번호 생년월일  \\\n",
       "0    NaN  NaN  NaN  NaN  NaN  NaN  NaN  NaN  NaN  NaN  ...  NaN  NaN  NaN   \n",
       "1    NaN  NaN  NaN  NaN  NaN  NaN  NaN  NaN  NaN  NaN  ...  NaN  NaN  NaN   \n",
       "2    NaN  NaN  NaN  NaN  NaN  NaN  NaN  NaN  NaN  NaN  ...  NaN  NaN  NaN   \n",
       "3    NaN  NaN  NaN  NaN  NaN  NaN  NaN  NaN  NaN  NaN  ...  NaN  NaN  NaN   \n",
       "4    NaN  NaN  NaN  NaN  NaN  NaN  NaN  NaN  NaN  NaN  ...  NaN  NaN  NaN   \n",
       "..   ...  ...  ...  ...  ...  ...  ...  ...  ...  ...  ...  ...  ...  ...   \n",
       "839  NaN  NaN  NaN  NaN  NaN  NaN  NaN  NaN  NaN  NaN  ...  NaN  NaN  NaN   \n",
       "840  NaN  NaN  NaN  NaN  NaN  NaN  NaN  NaN  NaN  NaN  ...  NaN  NaN  NaN   \n",
       "841  NaN  NaN  NaN  NaN  NaN  NaN  NaN  NaN  NaN  NaN  ...  NaN  NaN  NaN   \n",
       "842  NaN  NaN  NaN  NaN  NaN  NaN  NaN  NaN  NaN  NaN  ...  NaN  NaN  NaN   \n",
       "843  NaN  NaN  NaN  NaN  NaN  NaN  NaN  NaN  NaN  NaN  ...  NaN  NaN  NaN   \n",
       "\n",
       "     선수명 신장/체중   연봉 입단 계약금 입단년도 지명순위  포지션  \n",
       "0    NaN   NaN  NaN    NaN  NaN  NaN  NaN  \n",
       "1    NaN   NaN  NaN    NaN  NaN  NaN  NaN  \n",
       "2    NaN   NaN  NaN    NaN  NaN  NaN  NaN  \n",
       "3    NaN   NaN  NaN    NaN  NaN  NaN  NaN  \n",
       "4    NaN   NaN  NaN    NaN  NaN  NaN  NaN  \n",
       "..   ...   ...  ...    ...  ...  ...  ...  \n",
       "839  NaN   NaN  NaN    NaN  NaN  NaN  NaN  \n",
       "840  NaN   NaN  NaN    NaN  NaN  NaN  NaN  \n",
       "841  NaN   NaN  NaN    NaN  NaN  NaN  NaN  \n",
       "842  NaN   NaN  NaN    NaN  NaN  NaN  NaN  \n",
       "843  NaN   NaN  NaN    NaN  NaN  NaN  NaN  \n",
       "\n",
       "[844 rows x 855 columns]"
      ]
     },
     "execution_count": 30,
     "metadata": {},
     "output_type": "execute_result"
    }
   ],
   "source": []
  },
  {
   "cell_type": "code",
   "execution_count": 23,
   "metadata": {},
   "outputs": [],
   "source": [
    "a = pd.DataFrame({'col1':[1,2,3,4], 'col2':[2,3,4,5]})"
   ]
  },
  {
   "cell_type": "code",
   "execution_count": 25,
   "metadata": {},
   "outputs": [],
   "source": [
    "b = a"
   ]
  },
  {
   "cell_type": "code",
   "execution_count": 27,
   "metadata": {},
   "outputs": [],
   "source": [
    "b.loc[1,'col2'] = 101"
   ]
  },
  {
   "cell_type": "code",
   "execution_count": 95,
   "metadata": {},
   "outputs": [],
   "source": [
    "import requests\n",
    "payload = {\"ajax\": \"true\",\n",
    "\"curCd\": \"\",\n",
    "\"tmpInqStrDt\": \"2024-04-03\",\n",
    "\"pbldDvCd\": \"0\",\n",
    "\"pbldSqn\": \"\",\n",
    "\"hid_key_data\": \"\",\n",
    "\"inqStrDt\": \"20240403\",\n",
    "\"inqKindCd\": \"1\",\n",
    "\"hid_enc_data\": \"\",\n",
    "\"requestTarget\": \"searchContentDiv\",}\n",
    "\n",
    "url = \"https://www.kebhana.com/cms/rate/wpfxd651_01i_01.do\"\n",
    "\n",
    "a = requests.post(url,data=payload)\n"
   ]
  },
  {
   "cell_type": "code",
   "execution_count": 42,
   "metadata": {},
   "outputs": [
    {
     "name": "stdout",
     "output_type": "stream",
     "text": [
      "Defaulting to user installation because normal site-packages is not writeable\n",
      "Collecting lxml\n",
      "  Downloading lxml-5.2.1-cp310-cp310-manylinux_2_28_x86_64.whl (5.0 MB)\n",
      "\u001b[2K     \u001b[90m━━━━━━━━━━━━━━━━━━━━━━━━━━━━━━━━━━━━━━━━\u001b[0m \u001b[32m5.0/5.0 MB\u001b[0m \u001b[31m9.8 MB/s\u001b[0m eta \u001b[36m0:00:00\u001b[0m:00:01\u001b[0m00:01\u001b[0m\n",
      "\u001b[?25hInstalling collected packages: lxml\n",
      "Successfully installed lxml-5.2.1\n",
      "Note: you may need to restart the kernel to use updated packages.\n"
     ]
    }
   ],
   "source": [
    "pip install lxml"
   ]
  },
  {
   "cell_type": "code",
   "execution_count": 101,
   "metadata": {},
   "outputs": [
    {
     "name": "stderr",
     "output_type": "stream",
     "text": [
      "/tmp/ipykernel_1057/3927227027.py:1: FutureWarning: Passing literal html to 'read_html' is deprecated and will be removed in a future version. To read from a literal string, wrap it in a 'StringIO' object.\n",
      "  hana = pd.read_html(a.text)[0]\n"
     ]
    }
   ],
   "source": [
    "hana = pd.read_html(a.text)[0]"
   ]
  },
  {
   "cell_type": "markdown",
   "metadata": {},
   "source": [
    "컬럼을 변경할 때는 일대일 대응이 될 수 있도록 개수를 맞춰줘야 한다."
   ]
  },
  {
   "cell_type": "code",
   "execution_count": 102,
   "metadata": {},
   "outputs": [],
   "source": [
    "hana.columns = [ \"_\".join(x[:2]) for x in hana.columns]"
   ]
  },
  {
   "cell_type": "code",
   "execution_count": 113,
   "metadata": {},
   "outputs": [],
   "source": [
    "def get_exchange(code_=\"USD\", date_ = None):\n",
    "    return float(hana.loc[hana['통화_통화'].str.find(f'{code_.upper()}')> -1,'현찰_파실 때'].iloc[0,0])"
   ]
  },
  {
   "cell_type": "code",
   "execution_count": 115,
   "metadata": {},
   "outputs": [
    {
     "data": {
      "text/plain": [
       "873.08"
      ]
     },
     "execution_count": 115,
     "metadata": {},
     "output_type": "execute_result"
    }
   ],
   "source": [
    "get_exchange(\"jpy\")"
   ]
  },
  {
   "cell_type": "code",
   "execution_count": 124,
   "metadata": {},
   "outputs": [
    {
     "name": "stderr",
     "output_type": "stream",
     "text": [
      "/tmp/ipykernel_1057/921718638.py:7: FutureWarning: Passing literal html to 'read_html' is deprecated and will be removed in a future version. To read from a literal string, wrap it in a 'StringIO' object.\n",
      "  ex = pd.read_html(a.text)[0]\n"
     ]
    }
   ],
   "source": [
    "import requests\n",
    "from datetime import date, datetime\n",
    "import pandas as pd\n",
    "\n",
    "url = \"https://www.kebhana.com/cms/rate/wpfxd651_01i_01.do\"\n",
    "\n",
    "a = requests.post(url,data=payload)\n",
    "ex = pd.read_html(a.text)[0]\n",
    "ex.columns = [ \"_\".join(x[:2]) for x in ex.columns]\n",
    "\n",
    "def get_exchange(code_=\"USD\", date_ = None):``\n",
    "    \"\"\"\n",
    "    code_ = 통화코드\n",
    "        예)'USD'\n",
    "    date_ = 예) \"2024-01-01\"\n",
    "    \"\"\"\n",
    "    try:\n",
    "        datetime.strptime(date_,\"%Y-%m-%d\")\n",
    "    except:\n",
    "        print(\"X\")\n",
    "        date_ = str(date.today())\n",
    "    payload = {\"ajax\": \"true\",\n",
    "            \"curCd\": \"\",\n",
    "            \"tmpInqStrDt\": \"2024-01-02\",\n",
    "            \"pbldDvCd\": \"0\",\n",
    "            \"pbldSqn\": \"\",\n",
    "            \"hid_key_data\": \"\",\n",
    "            \"inqStrDt\": \"20240102\",\n",
    "            \"inqKindCd\": \"1\",\n",
    "            \"hid_enc_data\": \"\",\n",
    "            \"requestTarget\": \"searchContentDiv\",}\n",
    "    payload[\"tmpInqStrDt\"] = date_\n",
    "    payload['inqStrDt'] = date_.replace(\"-\",\"\")\n",
    "    url = \"https://www.kebhana.com/cms/rate/wpfxd651_01i_01.do\"\n",
    "    ex = pd.read_html(requests.post(url,data=payload).text)[0]\n",
    "    ex.columns = [ \"_\".join(x[:2]) for x in ex.columns]\n",
    "    return float(ex.loc[ex['통화_통화'].str.find(f'{code_.upper()}')> -1,'현찰_파실 때'].iloc[0,0])"
   ]
  },
  {
   "cell_type": "code",
   "execution_count": 125,
   "metadata": {},
   "outputs": [
    {
     "name": "stdout",
     "output_type": "stream",
     "text": [
      "X\n"
     ]
    },
    {
     "name": "stderr",
     "output_type": "stream",
     "text": [
      "/tmp/ipykernel_1057/921718638.py:34: FutureWarning: Passing literal html to 'read_html' is deprecated and will be removed in a future version. To read from a literal string, wrap it in a 'StringIO' object.\n",
      "  ex = pd.read_html(requests.post(url,data=payload).text)[0]\n"
     ]
    },
    {
     "data": {
      "text/plain": [
       "879.51"
      ]
     },
     "execution_count": 125,
     "metadata": {},
     "output_type": "execute_result"
    }
   ],
   "source": [
    "get_exchange('jpy',\"1\")"
   ]
  },
  {
   "cell_type": "code",
   "execution_count": 132,
   "metadata": {},
   "outputs": [
    {
     "name": "stdout",
     "output_type": "stream",
     "text": [
      "X\n"
     ]
    },
    {
     "name": "stderr",
     "output_type": "stream",
     "text": [
      "/home/david/workspace/hana.py:29: FutureWarning: Passing literal html to 'read_html' is deprecated and will be removed in a future version. To read from a literal string, wrap it in a 'StringIO' object.\n",
      "  \"inqKindCd\": \"1\",\n"
     ]
    },
    {
     "data": {
      "text/plain": [
       "1329.82"
      ]
     },
     "execution_count": 132,
     "metadata": {},
     "output_type": "execute_result"
    }
   ],
   "source": [
    "import hana\n",
    "hana.get_exchange()"
   ]
  },
  {
   "cell_type": "code",
   "execution_count": 127,
   "metadata": {},
   "outputs": [],
   "source": [
    "import sys"
   ]
  },
  {
   "cell_type": "code",
   "execution_count": 128,
   "metadata": {},
   "outputs": [
    {
     "data": {
      "text/plain": [
       "['/home/david/workspace',\n",
       " '/usr/lib/python310.zip',\n",
       " '/usr/lib/python3.10',\n",
       " '/usr/lib/python3.10/lib-dynload',\n",
       " '',\n",
       " '/home/david/.local/lib/python3.10/site-packages',\n",
       " '/usr/local/lib/python3.10/dist-packages',\n",
       " '/usr/lib/python3/dist-packages']"
      ]
     },
     "execution_count": 128,
     "metadata": {},
     "output_type": "execute_result"
    }
   ],
   "source": [
    "sys.path"
   ]
  },
  {
   "cell_type": "code",
   "execution_count": 133,
   "metadata": {},
   "outputs": [
    {
     "name": "stdout",
     "output_type": "stream",
     "text": [
      "X\n"
     ]
    },
    {
     "name": "stderr",
     "output_type": "stream",
     "text": [
      "/home/david/workspace/hana.py:29: FutureWarning: Passing literal html to 'read_html' is deprecated and will be removed in a future version. To read from a literal string, wrap it in a 'StringIO' object.\n",
      "  \"inqKindCd\": \"1\",\n"
     ]
    },
    {
     "data": {
      "text/plain": [
       "1329.92"
      ]
     },
     "execution_count": 133,
     "metadata": {},
     "output_type": "execute_result"
    }
   ],
   "source": [
    "import hana\n",
    "hana.get_exchange()"
   ]
  },
  {
   "cell_type": "code",
   "execution_count": 134,
   "metadata": {},
   "outputs": [
    {
     "name": "stdout",
     "output_type": "stream",
     "text": [
      "X\n"
     ]
    },
    {
     "name": "stderr",
     "output_type": "stream",
     "text": [
      "/home/david/workspace/hana.py:29: FutureWarning: Passing literal html to 'read_html' is deprecated and will be removed in a future version. To read from a literal string, wrap it in a 'StringIO' object.\n",
      "  \"inqKindCd\": \"1\",\n"
     ]
    },
    {
     "data": {
      "text/plain": [
       "1329.92"
      ]
     },
     "execution_count": 134,
     "metadata": {},
     "output_type": "execute_result"
    }
   ],
   "source": [
    "from hana import get_exchange\n",
    "get_exchange()"
   ]
  },
  {
   "cell_type": "code",
   "execution_count": null,
   "metadata": {},
   "outputs": [],
   "source": [
    "for s in hana[]"
   ]
  },
  {
   "cell_type": "code",
   "execution_count": 137,
   "metadata": {},
   "outputs": [],
   "source": [
    "dict1 = {x1.split()[0] : x1.split()[1] for x1 in ex['통화_통화']}"
   ]
  },
  {
   "cell_type": "code",
   "execution_count": 176,
   "metadata": {},
   "outputs": [],
   "source": [
    "kbo2= kbo_df[kbo_df['연봉'].str.find(\"달러\") > -1].copy()\n",
    "kbo3= kbo_df[~kbo_df['연봉'].str.find(\"달러\") > -1].copy()"
   ]
  },
  {
   "cell_type": "code",
   "execution_count": 177,
   "metadata": {},
   "outputs": [
    {
     "name": "stdout",
     "output_type": "stream",
     "text": [
      "X\n"
     ]
    },
    {
     "name": "stderr",
     "output_type": "stream",
     "text": [
      "/home/david/workspace/hana.py:29: FutureWarning: Passing literal html to 'read_html' is deprecated and will be removed in a future version. To read from a literal string, wrap it in a 'StringIO' object.\n",
      "  \"inqKindCd\": \"1\",\n",
      "/home/david/workspace/hana.py:29: FutureWarning: Passing literal html to 'read_html' is deprecated and will be removed in a future version. To read from a literal string, wrap it in a 'StringIO' object.\n",
      "  \"inqKindCd\": \"1\",\n"
     ]
    }
   ],
   "source": [
    "get_exchange('usd')\n",
    "a = get_exchange('usd','2024-01-02')\n",
    "kbo2['연봉']= kbo2['연봉'].apply(lambda x : int(int(x.replace(\"달러\",\"\")) * float(a)/1000))"
   ]
  },
  {
   "cell_type": "code",
   "execution_count": 178,
   "metadata": {},
   "outputs": [
    {
     "ename": "KeyError",
     "evalue": "'연봉(만원)'",
     "output_type": "error",
     "traceback": [
      "\u001b[0;31m---------------------------------------------------------------------------\u001b[0m",
      "\u001b[0;31mKeyError\u001b[0m                                  Traceback (most recent call last)",
      "\u001b[0;32m/tmp/ipykernel_1057/1852613846.py\u001b[0m in \u001b[0;36m?\u001b[0;34m()\u001b[0m\n\u001b[0;32m----> 1\u001b[0;31m \u001b[0mkbo2\u001b[0m\u001b[0;34m.\u001b[0m\u001b[0msort_values\u001b[0m\u001b[0;34m(\u001b[0m\u001b[0mby\u001b[0m\u001b[0;34m=\u001b[0m\u001b[0;34m[\u001b[0m\u001b[0;34m'연봉(만원)'\u001b[0m\u001b[0;34m]\u001b[0m\u001b[0;34m,\u001b[0m \u001b[0mascending\u001b[0m\u001b[0;34m=\u001b[0m\u001b[0;32mFalse\u001b[0m\u001b[0;34m)\u001b[0m\u001b[0;34m\u001b[0m\u001b[0;34m\u001b[0m\u001b[0m\n\u001b[0m",
      "\u001b[0;32m~/.local/lib/python3.10/site-packages/pandas/core/frame.py\u001b[0m in \u001b[0;36m?\u001b[0;34m(self, by, axis, ascending, inplace, kind, na_position, ignore_index, key)\u001b[0m\n\u001b[1;32m   7172\u001b[0m             )\n\u001b[1;32m   7173\u001b[0m         \u001b[0;32melif\u001b[0m \u001b[0mlen\u001b[0m\u001b[0;34m(\u001b[0m\u001b[0mby\u001b[0m\u001b[0;34m)\u001b[0m\u001b[0;34m:\u001b[0m\u001b[0;34m\u001b[0m\u001b[0;34m\u001b[0m\u001b[0m\n\u001b[1;32m   7174\u001b[0m             \u001b[0;31m# len(by) == 1\u001b[0m\u001b[0;34m\u001b[0m\u001b[0;34m\u001b[0m\u001b[0m\n\u001b[1;32m   7175\u001b[0m \u001b[0;34m\u001b[0m\u001b[0m\n\u001b[0;32m-> 7176\u001b[0;31m             \u001b[0mk\u001b[0m \u001b[0;34m=\u001b[0m \u001b[0mself\u001b[0m\u001b[0;34m.\u001b[0m\u001b[0m_get_label_or_level_values\u001b[0m\u001b[0;34m(\u001b[0m\u001b[0mby\u001b[0m\u001b[0;34m[\u001b[0m\u001b[0;36m0\u001b[0m\u001b[0;34m]\u001b[0m\u001b[0;34m,\u001b[0m \u001b[0maxis\u001b[0m\u001b[0;34m=\u001b[0m\u001b[0maxis\u001b[0m\u001b[0;34m)\u001b[0m\u001b[0;34m\u001b[0m\u001b[0;34m\u001b[0m\u001b[0m\n\u001b[0m\u001b[1;32m   7177\u001b[0m \u001b[0;34m\u001b[0m\u001b[0m\n\u001b[1;32m   7178\u001b[0m             \u001b[0;31m# need to rewrap column in Series to apply key function\u001b[0m\u001b[0;34m\u001b[0m\u001b[0;34m\u001b[0m\u001b[0m\n\u001b[1;32m   7179\u001b[0m             \u001b[0;32mif\u001b[0m \u001b[0mkey\u001b[0m \u001b[0;32mis\u001b[0m \u001b[0;32mnot\u001b[0m \u001b[0;32mNone\u001b[0m\u001b[0;34m:\u001b[0m\u001b[0;34m\u001b[0m\u001b[0;34m\u001b[0m\u001b[0m\n",
      "\u001b[0;32m~/.local/lib/python3.10/site-packages/pandas/core/generic.py\u001b[0m in \u001b[0;36m?\u001b[0;34m(self, key, axis)\u001b[0m\n\u001b[1;32m   1906\u001b[0m             \u001b[0mvalues\u001b[0m \u001b[0;34m=\u001b[0m \u001b[0mself\u001b[0m\u001b[0;34m.\u001b[0m\u001b[0mxs\u001b[0m\u001b[0;34m(\u001b[0m\u001b[0mkey\u001b[0m\u001b[0;34m,\u001b[0m \u001b[0maxis\u001b[0m\u001b[0;34m=\u001b[0m\u001b[0mother_axes\u001b[0m\u001b[0;34m[\u001b[0m\u001b[0;36m0\u001b[0m\u001b[0;34m]\u001b[0m\u001b[0;34m)\u001b[0m\u001b[0;34m.\u001b[0m\u001b[0m_values\u001b[0m\u001b[0;34m\u001b[0m\u001b[0;34m\u001b[0m\u001b[0m\n\u001b[1;32m   1907\u001b[0m         \u001b[0;32melif\u001b[0m \u001b[0mself\u001b[0m\u001b[0;34m.\u001b[0m\u001b[0m_is_level_reference\u001b[0m\u001b[0;34m(\u001b[0m\u001b[0mkey\u001b[0m\u001b[0;34m,\u001b[0m \u001b[0maxis\u001b[0m\u001b[0;34m=\u001b[0m\u001b[0maxis\u001b[0m\u001b[0;34m)\u001b[0m\u001b[0;34m:\u001b[0m\u001b[0;34m\u001b[0m\u001b[0;34m\u001b[0m\u001b[0m\n\u001b[1;32m   1908\u001b[0m             \u001b[0mvalues\u001b[0m \u001b[0;34m=\u001b[0m \u001b[0mself\u001b[0m\u001b[0;34m.\u001b[0m\u001b[0maxes\u001b[0m\u001b[0;34m[\u001b[0m\u001b[0maxis\u001b[0m\u001b[0;34m]\u001b[0m\u001b[0;34m.\u001b[0m\u001b[0mget_level_values\u001b[0m\u001b[0;34m(\u001b[0m\u001b[0mkey\u001b[0m\u001b[0;34m)\u001b[0m\u001b[0;34m.\u001b[0m\u001b[0m_values\u001b[0m\u001b[0;34m\u001b[0m\u001b[0;34m\u001b[0m\u001b[0m\n\u001b[1;32m   1909\u001b[0m         \u001b[0;32melse\u001b[0m\u001b[0;34m:\u001b[0m\u001b[0;34m\u001b[0m\u001b[0;34m\u001b[0m\u001b[0m\n\u001b[0;32m-> 1910\u001b[0;31m             \u001b[0;32mraise\u001b[0m \u001b[0mKeyError\u001b[0m\u001b[0;34m(\u001b[0m\u001b[0mkey\u001b[0m\u001b[0;34m)\u001b[0m\u001b[0;34m\u001b[0m\u001b[0;34m\u001b[0m\u001b[0m\n\u001b[0m\u001b[1;32m   1911\u001b[0m \u001b[0;34m\u001b[0m\u001b[0m\n\u001b[1;32m   1912\u001b[0m         \u001b[0;31m# Check for duplicates\u001b[0m\u001b[0;34m\u001b[0m\u001b[0;34m\u001b[0m\u001b[0m\n\u001b[1;32m   1913\u001b[0m         \u001b[0;32mif\u001b[0m \u001b[0mvalues\u001b[0m\u001b[0;34m.\u001b[0m\u001b[0mndim\u001b[0m \u001b[0;34m>\u001b[0m \u001b[0;36m1\u001b[0m\u001b[0;34m:\u001b[0m\u001b[0;34m\u001b[0m\u001b[0;34m\u001b[0m\u001b[0m\n",
      "\u001b[0;31mKeyError\u001b[0m: '연봉(만원)'"
     ]
    }
   ],
   "source": [
    "kbo2.sort_values(by=['연봉(만원)'], ascending=False)"
   ]
  },
  {
   "cell_type": "code",
   "execution_count": 179,
   "metadata": {},
   "outputs": [
    {
     "data": {
      "text/plain": [
       "(814, 11)"
      ]
     },
     "execution_count": 179,
     "metadata": {},
     "output_type": "execute_result"
    }
   ],
   "source": [
    "kbo3.shape"
   ]
  },
  {
   "cell_type": "code",
   "execution_count": 168,
   "metadata": {},
   "outputs": [
    {
     "data": {
      "text/plain": [
       "0      True\n",
       "1      True\n",
       "2      True\n",
       "3      True\n",
       "4      True\n",
       "       ... \n",
       "839    True\n",
       "840    True\n",
       "841    True\n",
       "842    True\n",
       "843    True\n",
       "Name: 연봉, Length: 814, dtype: bool"
      ]
     },
     "execution_count": 168,
     "metadata": {},
     "output_type": "execute_result"
    }
   ],
   "source": [
    "(kbo3['연봉'].str.find('만원') > -1)"
   ]
  },
  {
   "cell_type": "code",
   "execution_count": 180,
   "metadata": {},
   "outputs": [],
   "source": [
    "kbo3.연봉 = kbo3.연봉.apply(lambda x :  int(x.replace(\"만원\",\"\").strip()) if x.replace(\"만원\",\"\").strip() != \"\" else 0).copy()"
   ]
  },
  {
   "cell_type": "code",
   "execution_count": 181,
   "metadata": {},
   "outputs": [
    {
     "name": "stdout",
     "output_type": "stream",
     "text": [
      "<class 'pandas.core.frame.DataFrame'>\n",
      "Index: 814 entries, 0 to 843\n",
      "Data columns (total 11 columns):\n",
      " #   Column  Non-Null Count  Dtype \n",
      "---  ------  --------------  ----- \n",
      " 0   선수명     814 non-null    object\n",
      " 1   등번호     814 non-null    object\n",
      " 2   생년월일    814 non-null    object\n",
      " 3   포지션     814 non-null    object\n",
      " 4   신장/체중   814 non-null    object\n",
      " 5   경력      814 non-null    object\n",
      " 6   입단 계약금  814 non-null    object\n",
      " 7   연봉      814 non-null    int64 \n",
      " 8   지명순위    814 non-null    object\n",
      " 9   입단년도    814 non-null    object\n",
      " 10  team    814 non-null    object\n",
      "dtypes: int64(1), object(10)\n",
      "memory usage: 76.3+ KB\n"
     ]
    }
   ],
   "source": [
    "kbo3.info()"
   ]
  },
  {
   "cell_type": "code",
   "execution_count": 183,
   "metadata": {},
   "outputs": [],
   "source": [
    "final = pd.concat([kbo2,kbo3])"
   ]
  },
  {
   "cell_type": "code",
   "execution_count": 185,
   "metadata": {},
   "outputs": [
    {
     "data": {
      "text/html": [
       "<div>\n",
       "<style scoped>\n",
       "    .dataframe tbody tr th:only-of-type {\n",
       "        vertical-align: middle;\n",
       "    }\n",
       "\n",
       "    .dataframe tbody tr th {\n",
       "        vertical-align: top;\n",
       "    }\n",
       "\n",
       "    .dataframe thead th {\n",
       "        text-align: right;\n",
       "    }\n",
       "</style>\n",
       "<table border=\"1\" class=\"dataframe\">\n",
       "  <thead>\n",
       "    <tr style=\"text-align: right;\">\n",
       "      <th></th>\n",
       "      <th>연봉</th>\n",
       "    </tr>\n",
       "    <tr>\n",
       "      <th>team</th>\n",
       "      <th></th>\n",
       "    </tr>\n",
       "  </thead>\n",
       "  <tbody>\n",
       "    <tr>\n",
       "      <th>키움 히어로즈</th>\n",
       "      <td>61656.677966</td>\n",
       "    </tr>\n",
       "    <tr>\n",
       "      <th>LG 트윈스</th>\n",
       "      <td>51133.621622</td>\n",
       "    </tr>\n",
       "    <tr>\n",
       "      <th>SSG 랜더스</th>\n",
       "      <td>50853.679012</td>\n",
       "    </tr>\n",
       "    <tr>\n",
       "      <th>KT 위즈</th>\n",
       "      <td>46897.655172</td>\n",
       "    </tr>\n",
       "    <tr>\n",
       "      <th>삼성 라이온즈</th>\n",
       "      <td>43879.858824</td>\n",
       "    </tr>\n",
       "    <tr>\n",
       "      <th>롯데 자이언츠</th>\n",
       "      <td>42743.905882</td>\n",
       "    </tr>\n",
       "    <tr>\n",
       "      <th>두산 베어스</th>\n",
       "      <td>41889.095238</td>\n",
       "    </tr>\n",
       "    <tr>\n",
       "      <th>한화 이글스</th>\n",
       "      <td>34830.322581</td>\n",
       "    </tr>\n",
       "    <tr>\n",
       "      <th>KIA 타이거즈</th>\n",
       "      <td>32129.857143</td>\n",
       "    </tr>\n",
       "    <tr>\n",
       "      <th>NC 다이노스</th>\n",
       "      <td>31588.561798</td>\n",
       "    </tr>\n",
       "    <tr>\n",
       "      <th>고양 히어로즈</th>\n",
       "      <td>2956.521739</td>\n",
       "    </tr>\n",
       "  </tbody>\n",
       "</table>\n",
       "</div>"
      ],
      "text/plain": [
       "                    연봉\n",
       "team                  \n",
       "키움 히어로즈   61656.677966\n",
       "LG 트윈스    51133.621622\n",
       "SSG 랜더스   50853.679012\n",
       "KT 위즈     46897.655172\n",
       "삼성 라이온즈   43879.858824\n",
       "롯데 자이언츠   42743.905882\n",
       "두산 베어스    41889.095238\n",
       "한화 이글스    34830.322581\n",
       "KIA 타이거즈  32129.857143\n",
       "NC 다이노스   31588.561798\n",
       "고양 히어로즈    2956.521739"
      ]
     },
     "execution_count": 185,
     "metadata": {},
     "output_type": "execute_result"
    }
   ],
   "source": [
    "final.groupby(['team'])[['연봉']].mean().sort_values(by = ['연봉'],ascending=False)"
   ]
  },
  {
   "cell_type": "code",
   "execution_count": 281,
   "metadata": {},
   "outputs": [],
   "source": [
    "import os\n",
    "import pandas as pd\n",
    "if not os.path.isdir('./man'):\n",
    "    os.mkdir('./man')\n",
    "if not os.path.isdir('./woman'):\n",
    "    os.mkdir('./woman')\n",
    "a = pd.DataFrame([dict(zip(['이름','생년월일','성별','파일'], x.split(\"_\") + [x])) for x in os.listdir('./tmp')])\n",
    "b = {'남성':[], '여성':[]}\n",
    "for x in a[a.성별.apply(lambda x : int(x[0]) % 2 == 0)]['파일'].values:\n",
    "    with open('./tmp/'+x,'r') as f:\n",
    "        f2 = open('./woman/'+x,'w')\n",
    "        t1 = f.read()\n",
    "        f2.write(t1)\n",
    "        b['여성'].append(int(t1.replace(\",\",\"\")))\n",
    "        f2.close()\n",
    "for x in a[~a.성별.apply(lambda x : int(x[0]) % 2 == 0)]['파일'].values:\n",
    "    with open('./tmp/'+x,'r') as f:\n",
    "        f2 = open('./man/'+x,'w')\n",
    "        t2 = f.read()\n",
    "        f2.write(t2)\n",
    "        b['남성'].append(int(t2.replace(\",\",\"\")))\n",
    "        f2.close()\n",
    "        \n",
    "        "
   ]
  },
  {
   "cell_type": "code",
   "execution_count": 282,
   "metadata": {},
   "outputs": [],
   "source": [
    "count = len(b['남성']) - len(b['여성'])\n",
    "if count > 0:\n",
    "    b['여성'] += [0] * count\n",
    "else:\n",
    "    b['남성'] += [0] * (-count)\n",
    "final2 = pd.DataFrame([{'남성': x , '여성': y} for x,y in zip(b['남성'],b['여성'])])\n",
    "final2.to_csv(\"./report.csv\",index=False,encoding='utf-8-sig')\n"
   ]
  },
  {
   "cell_type": "code",
   "execution_count": 285,
   "metadata": {},
   "outputs": [
    {
     "data": {
      "text/plain": [
       "남성    1.186690e+07\n",
       "여성    1.280237e+07\n",
       "dtype: float64"
      ]
     },
     "execution_count": 285,
     "metadata": {},
     "output_type": "execute_result"
    }
   ],
   "source": [
    "final2.mean()"
   ]
  },
  {
   "cell_type": "code",
   "execution_count": 228,
   "metadata": {},
   "outputs": [
    {
     "data": {
      "text/html": [
       "<div>\n",
       "<style scoped>\n",
       "    .dataframe tbody tr th:only-of-type {\n",
       "        vertical-align: middle;\n",
       "    }\n",
       "\n",
       "    .dataframe tbody tr th {\n",
       "        vertical-align: top;\n",
       "    }\n",
       "\n",
       "    .dataframe thead th {\n",
       "        text-align: right;\n",
       "    }\n",
       "</style>\n",
       "<table border=\"1\" class=\"dataframe\">\n",
       "  <thead>\n",
       "    <tr style=\"text-align: right;\">\n",
       "      <th></th>\n",
       "      <th>남성</th>\n",
       "      <th>여성</th>\n",
       "    </tr>\n",
       "  </thead>\n",
       "  <tbody>\n",
       "    <tr>\n",
       "      <th>0</th>\n",
       "      <td>[10,251, 83,057, 11,812, 8,832,673, 16,807,288...</td>\n",
       "      <td>[1,174, 2,128,655, 379, 7,680, 690,788, 33,511...</td>\n",
       "    </tr>\n",
       "  </tbody>\n",
       "</table>\n",
       "</div>"
      ],
      "text/plain": [
       "                                                  남성  \\\n",
       "0  [10,251, 83,057, 11,812, 8,832,673, 16,807,288...   \n",
       "\n",
       "                                                  여성  \n",
       "0  [1,174, 2,128,655, 379, 7,680, 690,788, 33,511...  "
      ]
     },
     "execution_count": 228,
     "metadata": {},
     "output_type": "execute_result"
    }
   ],
   "source": [
    "ab"
   ]
  },
  {
   "cell_type": "code",
   "execution_count": null,
   "metadata": {},
   "outputs": [],
   "source": []
  },
  {
   "cell_type": "code",
   "execution_count": 206,
   "metadata": {},
   "outputs": [],
   "source": [
    "#성별 변환\n",
    "a['성별']= a['성별'].apply(lambda x : '남성'if int(x[0]) %2 == 0 else '여성')"
   ]
  },
  {
   "cell_type": "code",
   "execution_count": 202,
   "metadata": {},
   "outputs": [
    {
     "data": {
      "text/html": [
       "<div>\n",
       "<style scoped>\n",
       "    .dataframe tbody tr th:only-of-type {\n",
       "        vertical-align: middle;\n",
       "    }\n",
       "\n",
       "    .dataframe tbody tr th {\n",
       "        vertical-align: top;\n",
       "    }\n",
       "\n",
       "    .dataframe thead th {\n",
       "        text-align: right;\n",
       "    }\n",
       "</style>\n",
       "<table border=\"1\" class=\"dataframe\">\n",
       "  <thead>\n",
       "    <tr style=\"text-align: right;\">\n",
       "      <th></th>\n",
       "      <th>이름</th>\n",
       "      <th>생년월일</th>\n",
       "      <th>성별</th>\n",
       "    </tr>\n",
       "  </thead>\n",
       "  <tbody>\n",
       "    <tr>\n",
       "      <th>0</th>\n",
       "      <td>강가연</td>\n",
       "      <td>19961123</td>\n",
       "      <td>3xxxxxx.txt</td>\n",
       "    </tr>\n",
       "    <tr>\n",
       "      <th>1</th>\n",
       "      <td>강가인</td>\n",
       "      <td>19710304</td>\n",
       "      <td>1xxxxxx.txt</td>\n",
       "    </tr>\n",
       "    <tr>\n",
       "      <th>2</th>\n",
       "      <td>강가희</td>\n",
       "      <td>19600922</td>\n",
       "      <td>4xxxxxx.txt</td>\n",
       "    </tr>\n",
       "    <tr>\n",
       "      <th>3</th>\n",
       "      <td>강건영</td>\n",
       "      <td>19750611</td>\n",
       "      <td>1xxxxxx.txt</td>\n",
       "    </tr>\n",
       "    <tr>\n",
       "      <th>4</th>\n",
       "      <td>강건영</td>\n",
       "      <td>19950614</td>\n",
       "      <td>3xxxxxx.txt</td>\n",
       "    </tr>\n",
       "    <tr>\n",
       "      <th>...</th>\n",
       "      <td>...</td>\n",
       "      <td>...</td>\n",
       "      <td>...</td>\n",
       "    </tr>\n",
       "    <tr>\n",
       "      <th>9995</th>\n",
       "      <td>황효은</td>\n",
       "      <td>19650129</td>\n",
       "      <td>4xxxxxx.txt</td>\n",
       "    </tr>\n",
       "    <tr>\n",
       "      <th>9996</th>\n",
       "      <td>황효은</td>\n",
       "      <td>19980323</td>\n",
       "      <td>2xxxxxx.txt</td>\n",
       "    </tr>\n",
       "    <tr>\n",
       "      <th>9997</th>\n",
       "      <td>황효재</td>\n",
       "      <td>19680617</td>\n",
       "      <td>2xxxxxx.txt</td>\n",
       "    </tr>\n",
       "    <tr>\n",
       "      <th>9998</th>\n",
       "      <td>황효정</td>\n",
       "      <td>19940303</td>\n",
       "      <td>1xxxxxx.txt</td>\n",
       "    </tr>\n",
       "    <tr>\n",
       "      <th>9999</th>\n",
       "      <td>황희예</td>\n",
       "      <td>19700320</td>\n",
       "      <td>4xxxxxx.txt</td>\n",
       "    </tr>\n",
       "  </tbody>\n",
       "</table>\n",
       "<p>10000 rows × 3 columns</p>\n",
       "</div>"
      ],
      "text/plain": [
       "       이름      생년월일           성별\n",
       "0     강가연  19961123  3xxxxxx.txt\n",
       "1     강가인  19710304  1xxxxxx.txt\n",
       "2     강가희  19600922  4xxxxxx.txt\n",
       "3     강건영  19750611  1xxxxxx.txt\n",
       "4     강건영  19950614  3xxxxxx.txt\n",
       "...   ...       ...          ...\n",
       "9995  황효은  19650129  4xxxxxx.txt\n",
       "9996  황효은  19980323  2xxxxxx.txt\n",
       "9997  황효재  19680617  2xxxxxx.txt\n",
       "9998  황효정  19940303  1xxxxxx.txt\n",
       "9999  황희예  19700320  4xxxxxx.txt\n",
       "\n",
       "[10000 rows x 3 columns]"
      ]
     },
     "execution_count": 202,
     "metadata": {},
     "output_type": "execute_result"
    }
   ],
   "source": [
    "a"
   ]
  },
  {
   "cell_type": "code",
   "execution_count": null,
   "metadata": {},
   "outputs": [],
   "source": []
  }
 ],
 "metadata": {
  "kernelspec": {
   "display_name": "Python 3",
   "language": "python",
   "name": "python3"
  },
  "language_info": {
   "codemirror_mode": {
    "name": "ipython",
    "version": 3
   },
   "file_extension": ".py",
   "mimetype": "text/x-python",
   "name": "python",
   "nbconvert_exporter": "python",
   "pygments_lexer": "ipython3",
   "version": "3.10.12"
  }
 },
 "nbformat": 4,
 "nbformat_minor": 2
}
