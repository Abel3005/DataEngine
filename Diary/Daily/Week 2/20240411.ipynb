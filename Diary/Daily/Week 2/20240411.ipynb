{
 "cells": [
  {
   "cell_type": "code",
   "execution_count": null,
   "metadata": {},
   "outputs": [],
   "source": [
    "import decorator"
   ]
  },
  {
   "cell_type": "code",
   "execution_count": 1,
   "metadata": {},
   "outputs": [],
   "source": [
    "def deco(func):\n",
    "    def inner():\n",
    "        print(\"running inner()\")\n",
    "    return inner"
   ]
  },
  {
   "cell_type": "code",
   "execution_count": 7,
   "metadata": {},
   "outputs": [],
   "source": [
    "@deco\n",
    "def target():\n",
    "    print('running target')"
   ]
  },
  {
   "cell_type": "code",
   "execution_count": 15,
   "metadata": {},
   "outputs": [
    {
     "name": "stdout",
     "output_type": "stream",
     "text": [
      "running inner()\n"
     ]
    }
   ],
   "source": [
    "target()"
   ]
  },
  {
   "cell_type": "code",
   "execution_count": 4,
   "metadata": {},
   "outputs": [
    {
     "data": {
      "text/plain": [
       "<function __main__.deco(func)>"
      ]
     },
     "execution_count": 4,
     "metadata": {},
     "output_type": "execute_result"
    }
   ],
   "source": [
    "deco"
   ]
  },
  {
   "cell_type": "code",
   "execution_count": 10,
   "metadata": {},
   "outputs": [],
   "source": [
    "promos = []\n",
    "def promotion(func):\n",
    "    promos.append(func)\n",
    "    return func"
   ]
  },
  {
   "cell_type": "code",
   "execution_count": 12,
   "metadata": {},
   "outputs": [],
   "source": [
    "@promotion\n",
    "def a():\n",
    "    print('a')"
   ]
  },
  {
   "cell_type": "code",
   "execution_count": 13,
   "metadata": {},
   "outputs": [
    {
     "name": "stdout",
     "output_type": "stream",
     "text": [
      "a\n"
     ]
    }
   ],
   "source": [
    "a()"
   ]
  },
  {
   "cell_type": "code",
   "execution_count": 14,
   "metadata": {},
   "outputs": [
    {
     "name": "stdout",
     "output_type": "stream",
     "text": [
      "[<function a at 0x7f20ca420f70>]\n"
     ]
    }
   ],
   "source": [
    "print(promos)"
   ]
  },
  {
   "cell_type": "code",
   "execution_count": 19,
   "metadata": {},
   "outputs": [],
   "source": [
    "import sqlalchemy"
   ]
  },
  {
   "cell_type": "code",
   "execution_count": 64,
   "metadata": {},
   "outputs": [],
   "source": [
    "import pickle\n",
    "with open('./seven_stores.pkl','rb') as f:\n",
    "    df = pickle.load(f)"
   ]
  },
  {
   "cell_type": "code",
   "execution_count": 65,
   "metadata": {},
   "outputs": [],
   "source": [
    "df = df[~df['name'].duplicated()].copy()"
   ]
  },
  {
   "cell_type": "code",
   "execution_count": 66,
   "metadata": {},
   "outputs": [],
   "source": [
    "tmp = set()\n",
    "for x in df.able_services.values:\n",
    "    tmp.update(x)"
   ]
  },
  {
   "cell_type": "code",
   "execution_count": 67,
   "metadata": {},
   "outputs": [],
   "source": [
    "for service in tmp:\n",
    "    df[service] = df.able_services.apply(lambda x : 1 if service in x else 0)"
   ]
  },
  {
   "cell_type": "code",
   "execution_count": 68,
   "metadata": {},
   "outputs": [
    {
     "data": {
      "text/plain": [
       "의약품\n",
       "0    0.611581\n",
       "1    0.388419\n",
       "Name: count, dtype: float64"
      ]
     },
     "execution_count": 68,
     "metadata": {},
     "output_type": "execute_result"
    }
   ],
   "source": [
    "df.의약품.value_counts() / df.의약품.__len__()"
   ]
  },
  {
   "cell_type": "code",
   "execution_count": 69,
   "metadata": {},
   "outputs": [],
   "source": [
    "df.drop(['able_services'], axis=1,inplace=True)"
   ]
  },
  {
   "cell_type": "code",
   "execution_count": 87,
   "metadata": {},
   "outputs": [
    {
     "data": {
      "text/plain": [
       "array(['강원도', '강원특별자치도', '강원', '경기도', '경기', '경기도김포시하성면하성로297',\n",
       "       '경기도시흥시복지로', '경기도이천시부발읍', '경상남도', '경남', '경남창원시', '경상북도', '경북',\n",
       "       '경상북도영주시광복로', '광주광역시', '광주', '광주동구제봉로222번길', '대구광역시', '대구', '대구남구',\n",
       "       '대구시달서구월배로', '대구광역시달서구상인서로', '대구달서구', '대구광역시달서구달구벌대로', '대구시',\n",
       "       '대구시달성군', '대전광역시', '대전', '대전시', '대전광영시', '대전광역시유성구대학로137번길',\n",
       "       '부산광역시', '부산시', '부산', '서울특별시', '서울', '서울시', '서울특별실', '서울동대문구',\n",
       "       '서울트별시', '주소', '서울특별시송파구송파대로345송파헬리오시티', '울산광역시', '울산', '인천광역시',\n",
       "       '인천시', '인천', '전라남도', '전남', '전라북도', '전북', '전북특별자치도', '전라북도전주시',\n",
       "       '제주특별자치도', '제주', '제주도', '제주특별자치도서귀포시', '제주특별시도', '충남', '충청남도',\n",
       "       '충남논산시', '충청북도', '충북'], dtype=object)"
      ]
     },
     "execution_count": 87,
     "metadata": {},
     "output_type": "execute_result"
    }
   ],
   "source": [
    "df.address.apply(lambda x : x.split()[0]).unique()"
   ]
  },
  {
   "cell_type": "code",
   "execution_count": 133,
   "metadata": {},
   "outputs": [],
   "source": [
    "df['sido'] = df.address.apply(lambda x : ''.join(x.split()[:2]))"
   ]
  },
  {
   "cell_type": "code",
   "execution_count": 134,
   "metadata": {},
   "outputs": [],
   "source": [
    "import pandas as pd\n",
    "pd.set_option('display.max_rows', 100)"
   ]
  },
  {
   "cell_type": "code",
   "execution_count": 147,
   "metadata": {},
   "outputs": [],
   "source": [
    "sido_dict = {'경기':'경기도', '서울':'서울특별시',\\\n",
    "             '충청남도':'충청남도', '경상북도':'경상북도',\\\n",
    "                '인천':'인천광역시', '대구':'대구광역시','부산':'부산광역시',\\\n",
    "                    '광주':'광주광역시', '경남':'경상남도','경북':'경상북도','전남':'전라남도','충남':'충청남도','충북':'충청북도',\\\n",
    "                        '대전':'대전광역시','제주':'제주특별시','울산':'울산광역시','강원':'강원도', '전라북도':'전라북도','경상남도':'경상남도',\\\n",
    "                            '전북':'전라북도','충청북도':'충청북도','전라남도':'전라남도'}\n",
    "for x in sido_dict:\n",
    "    df.loc[df['sido'].str.find(x) > -1,'sido']= sido_dict[x]"
   ]
  },
  {
   "cell_type": "code",
   "execution_count": 171,
   "metadata": {},
   "outputs": [],
   "source": [
    "type(df.sido == '주소')\n",
    "seven_df = df"
   ]
  },
  {
   "cell_type": "code",
   "execution_count": 183,
   "metadata": {},
   "outputs": [],
   "source": [
    "seven_df['company'] = 'seven'"
   ]
  },
  {
   "cell_type": "code",
   "execution_count": 184,
   "metadata": {},
   "outputs": [
    {
     "data": {
      "text/html": [
       "<div>\n",
       "<style scoped>\n",
       "    .dataframe tbody tr th:only-of-type {\n",
       "        vertical-align: middle;\n",
       "    }\n",
       "\n",
       "    .dataframe tbody tr th {\n",
       "        vertical-align: top;\n",
       "    }\n",
       "\n",
       "    .dataframe thead th {\n",
       "        text-align: right;\n",
       "    }\n",
       "</style>\n",
       "<table border=\"1\" class=\"dataframe\">\n",
       "  <thead>\n",
       "    <tr style=\"text-align: right;\">\n",
       "      <th></th>\n",
       "      <th>name</th>\n",
       "      <th>address</th>\n",
       "      <th>치킨</th>\n",
       "      <th>고구마·붕어빵</th>\n",
       "      <th>무인락커</th>\n",
       "      <th>소프트아이스크림</th>\n",
       "      <th>페덱스서비스</th>\n",
       "      <th>ATM</th>\n",
       "      <th>시디</th>\n",
       "      <th>무인택배접수</th>\n",
       "      <th>스마트픽</th>\n",
       "      <th>의약품</th>\n",
       "      <th>24시간</th>\n",
       "      <th>베이커리</th>\n",
       "      <th>카페</th>\n",
       "      <th>토토</th>\n",
       "      <th>예약주문</th>\n",
       "      <th>sido</th>\n",
       "      <th>company</th>\n",
       "    </tr>\n",
       "  </thead>\n",
       "  <tbody>\n",
       "    <tr>\n",
       "      <th>0</th>\n",
       "      <td>강릉5주공점</td>\n",
       "      <td>강원도 강릉시 월대산로 43</td>\n",
       "      <td>0</td>\n",
       "      <td>0</td>\n",
       "      <td>0</td>\n",
       "      <td>0</td>\n",
       "      <td>1</td>\n",
       "      <td>0</td>\n",
       "      <td>1</td>\n",
       "      <td>1</td>\n",
       "      <td>0</td>\n",
       "      <td>1</td>\n",
       "      <td>0</td>\n",
       "      <td>0</td>\n",
       "      <td>0</td>\n",
       "      <td>0</td>\n",
       "      <td>0</td>\n",
       "      <td>강원도</td>\n",
       "      <td>seven</td>\n",
       "    </tr>\n",
       "    <tr>\n",
       "      <th>1</th>\n",
       "      <td>강릉강문스타점</td>\n",
       "      <td>강원도 강릉시 창해로350번길 21 (강문동)</td>\n",
       "      <td>0</td>\n",
       "      <td>0</td>\n",
       "      <td>0</td>\n",
       "      <td>0</td>\n",
       "      <td>1</td>\n",
       "      <td>0</td>\n",
       "      <td>0</td>\n",
       "      <td>1</td>\n",
       "      <td>0</td>\n",
       "      <td>0</td>\n",
       "      <td>0</td>\n",
       "      <td>0</td>\n",
       "      <td>0</td>\n",
       "      <td>0</td>\n",
       "      <td>0</td>\n",
       "      <td>강원도</td>\n",
       "      <td>seven</td>\n",
       "    </tr>\n",
       "    <tr>\n",
       "      <th>2</th>\n",
       "      <td>강릉강문점</td>\n",
       "      <td>강원도 강릉시 해안로 298-7 B블록 101호, 102호(강문동)</td>\n",
       "      <td>0</td>\n",
       "      <td>0</td>\n",
       "      <td>0</td>\n",
       "      <td>0</td>\n",
       "      <td>1</td>\n",
       "      <td>0</td>\n",
       "      <td>0</td>\n",
       "      <td>1</td>\n",
       "      <td>1</td>\n",
       "      <td>1</td>\n",
       "      <td>1</td>\n",
       "      <td>0</td>\n",
       "      <td>1</td>\n",
       "      <td>0</td>\n",
       "      <td>0</td>\n",
       "      <td>강원도</td>\n",
       "      <td>seven</td>\n",
       "    </tr>\n",
       "    <tr>\n",
       "      <th>3</th>\n",
       "      <td>강릉강변로점</td>\n",
       "      <td>강원도 강릉시 강변로 262</td>\n",
       "      <td>0</td>\n",
       "      <td>0</td>\n",
       "      <td>0</td>\n",
       "      <td>0</td>\n",
       "      <td>1</td>\n",
       "      <td>0</td>\n",
       "      <td>0</td>\n",
       "      <td>1</td>\n",
       "      <td>0</td>\n",
       "      <td>0</td>\n",
       "      <td>0</td>\n",
       "      <td>0</td>\n",
       "      <td>0</td>\n",
       "      <td>0</td>\n",
       "      <td>0</td>\n",
       "      <td>강원도</td>\n",
       "      <td>seven</td>\n",
       "    </tr>\n",
       "    <tr>\n",
       "      <th>4</th>\n",
       "      <td>강릉경포그린점</td>\n",
       "      <td>강원도 강릉시 경포로463번길 37, 제2호</td>\n",
       "      <td>0</td>\n",
       "      <td>0</td>\n",
       "      <td>0</td>\n",
       "      <td>1</td>\n",
       "      <td>1</td>\n",
       "      <td>0</td>\n",
       "      <td>0</td>\n",
       "      <td>1</td>\n",
       "      <td>0</td>\n",
       "      <td>0</td>\n",
       "      <td>0</td>\n",
       "      <td>0</td>\n",
       "      <td>0</td>\n",
       "      <td>0</td>\n",
       "      <td>0</td>\n",
       "      <td>강원도</td>\n",
       "      <td>seven</td>\n",
       "    </tr>\n",
       "    <tr>\n",
       "      <th>...</th>\n",
       "      <td>...</td>\n",
       "      <td>...</td>\n",
       "      <td>...</td>\n",
       "      <td>...</td>\n",
       "      <td>...</td>\n",
       "      <td>...</td>\n",
       "      <td>...</td>\n",
       "      <td>...</td>\n",
       "      <td>...</td>\n",
       "      <td>...</td>\n",
       "      <td>...</td>\n",
       "      <td>...</td>\n",
       "      <td>...</td>\n",
       "      <td>...</td>\n",
       "      <td>...</td>\n",
       "      <td>...</td>\n",
       "      <td>...</td>\n",
       "      <td>...</td>\n",
       "      <td>...</td>\n",
       "    </tr>\n",
       "    <tr>\n",
       "      <th>12867</th>\n",
       "      <td>충주터미널점</td>\n",
       "      <td>충청북도 충주시 봉계1길 49</td>\n",
       "      <td>0</td>\n",
       "      <td>0</td>\n",
       "      <td>0</td>\n",
       "      <td>0</td>\n",
       "      <td>1</td>\n",
       "      <td>0</td>\n",
       "      <td>0</td>\n",
       "      <td>1</td>\n",
       "      <td>0</td>\n",
       "      <td>0</td>\n",
       "      <td>0</td>\n",
       "      <td>0</td>\n",
       "      <td>0</td>\n",
       "      <td>0</td>\n",
       "      <td>0</td>\n",
       "      <td>충청북도</td>\n",
       "      <td>seven</td>\n",
       "    </tr>\n",
       "    <tr>\n",
       "      <th>12868</th>\n",
       "      <td>충주푸르지오점</td>\n",
       "      <td>충청북도 충주시 봉계8길 2 , 1층</td>\n",
       "      <td>0</td>\n",
       "      <td>0</td>\n",
       "      <td>0</td>\n",
       "      <td>0</td>\n",
       "      <td>1</td>\n",
       "      <td>0</td>\n",
       "      <td>0</td>\n",
       "      <td>1</td>\n",
       "      <td>0</td>\n",
       "      <td>0</td>\n",
       "      <td>0</td>\n",
       "      <td>0</td>\n",
       "      <td>0</td>\n",
       "      <td>0</td>\n",
       "      <td>0</td>\n",
       "      <td>충청북도</td>\n",
       "      <td>seven</td>\n",
       "    </tr>\n",
       "    <tr>\n",
       "      <th>12869</th>\n",
       "      <td>충주호암점</td>\n",
       "      <td>충청북도 충주시 호암중앙2로 32 101호(호암동)</td>\n",
       "      <td>1</td>\n",
       "      <td>0</td>\n",
       "      <td>0</td>\n",
       "      <td>0</td>\n",
       "      <td>1</td>\n",
       "      <td>0</td>\n",
       "      <td>1</td>\n",
       "      <td>1</td>\n",
       "      <td>1</td>\n",
       "      <td>1</td>\n",
       "      <td>1</td>\n",
       "      <td>0</td>\n",
       "      <td>1</td>\n",
       "      <td>0</td>\n",
       "      <td>1</td>\n",
       "      <td>충청북도</td>\n",
       "      <td>seven</td>\n",
       "    </tr>\n",
       "    <tr>\n",
       "      <th>12870</th>\n",
       "      <td>충주호암LH점</td>\n",
       "      <td>충청북도 충주시 호암수청2로 56</td>\n",
       "      <td>0</td>\n",
       "      <td>0</td>\n",
       "      <td>0</td>\n",
       "      <td>0</td>\n",
       "      <td>1</td>\n",
       "      <td>0</td>\n",
       "      <td>0</td>\n",
       "      <td>1</td>\n",
       "      <td>0</td>\n",
       "      <td>0</td>\n",
       "      <td>0</td>\n",
       "      <td>0</td>\n",
       "      <td>0</td>\n",
       "      <td>0</td>\n",
       "      <td>0</td>\n",
       "      <td>충청북도</td>\n",
       "      <td>seven</td>\n",
       "    </tr>\n",
       "    <tr>\n",
       "      <th>12871</th>\n",
       "      <td>충주힐스테이트점</td>\n",
       "      <td>충청북도 충주시 호암수청1로 29 (호암동, LH힐스테이트)</td>\n",
       "      <td>0</td>\n",
       "      <td>0</td>\n",
       "      <td>0</td>\n",
       "      <td>0</td>\n",
       "      <td>1</td>\n",
       "      <td>0</td>\n",
       "      <td>0</td>\n",
       "      <td>1</td>\n",
       "      <td>0</td>\n",
       "      <td>0</td>\n",
       "      <td>0</td>\n",
       "      <td>0</td>\n",
       "      <td>0</td>\n",
       "      <td>0</td>\n",
       "      <td>0</td>\n",
       "      <td>충청북도</td>\n",
       "      <td>seven</td>\n",
       "    </tr>\n",
       "  </tbody>\n",
       "</table>\n",
       "<p>12417 rows × 19 columns</p>\n",
       "</div>"
      ],
      "text/plain": [
       "           name                                address  치킨  고구마·붕어빵  무인락커  \\\n",
       "0        강릉5주공점                        강원도 강릉시 월대산로 43   0        0     0   \n",
       "1       강릉강문스타점              강원도 강릉시 창해로350번길 21 (강문동)   0        0     0   \n",
       "2         강릉강문점  강원도 강릉시 해안로 298-7 B블록 101호, 102호(강문동)   0        0     0   \n",
       "3        강릉강변로점                        강원도 강릉시 강변로 262   0        0     0   \n",
       "4       강릉경포그린점               강원도 강릉시 경포로463번길 37, 제2호   0        0     0   \n",
       "...         ...                                    ...  ..      ...   ...   \n",
       "12867    충주터미널점                       충청북도 충주시 봉계1길 49   0        0     0   \n",
       "12868   충주푸르지오점                   충청북도 충주시 봉계8길 2 , 1층   0        0     0   \n",
       "12869     충주호암점           충청북도 충주시 호암중앙2로 32 101호(호암동)   1        0     0   \n",
       "12870   충주호암LH점                     충청북도 충주시 호암수청2로 56   0        0     0   \n",
       "12871  충주힐스테이트점      충청북도 충주시 호암수청1로 29 (호암동, LH힐스테이트)   0        0     0   \n",
       "\n",
       "       소프트아이스크림  페덱스서비스  ATM  시디  무인택배접수  스마트픽  의약품  24시간  베이커리  카페  토토  예약주문  \\\n",
       "0             0       1    0   1       1     0    1     0     0   0   0     0   \n",
       "1             0       1    0   0       1     0    0     0     0   0   0     0   \n",
       "2             0       1    0   0       1     1    1     1     0   1   0     0   \n",
       "3             0       1    0   0       1     0    0     0     0   0   0     0   \n",
       "4             1       1    0   0       1     0    0     0     0   0   0     0   \n",
       "...         ...     ...  ...  ..     ...   ...  ...   ...   ...  ..  ..   ...   \n",
       "12867         0       1    0   0       1     0    0     0     0   0   0     0   \n",
       "12868         0       1    0   0       1     0    0     0     0   0   0     0   \n",
       "12869         0       1    0   1       1     1    1     1     0   1   0     1   \n",
       "12870         0       1    0   0       1     0    0     0     0   0   0     0   \n",
       "12871         0       1    0   0       1     0    0     0     0   0   0     0   \n",
       "\n",
       "       sido company  \n",
       "0       강원도   seven  \n",
       "1       강원도   seven  \n",
       "2       강원도   seven  \n",
       "3       강원도   seven  \n",
       "4       강원도   seven  \n",
       "...     ...     ...  \n",
       "12867  충청북도   seven  \n",
       "12868  충청북도   seven  \n",
       "12869  충청북도   seven  \n",
       "12870  충청북도   seven  \n",
       "12871  충청북도   seven  \n",
       "\n",
       "[12417 rows x 19 columns]"
      ]
     },
     "execution_count": 184,
     "metadata": {},
     "output_type": "execute_result"
    }
   ],
   "source": [
    "seven_df"
   ]
  },
  {
   "cell_type": "code",
   "execution_count": 189,
   "metadata": {},
   "outputs": [],
   "source": [
    "seven_melt = pd.melt(seven_df,id_vars=['company','name','sido','address'])"
   ]
  },
  {
   "cell_type": "markdown",
   "metadata": {},
   "source": [
    "GS25 start"
   ]
  },
  {
   "cell_type": "code",
   "execution_count": 173,
   "metadata": {},
   "outputs": [],
   "source": [
    "with open('./gs25.pkl','rb') as f:\n",
    "    gs25_df = pickle.load(f)"
   ]
  },
  {
   "cell_type": "code",
   "execution_count": 193,
   "metadata": {},
   "outputs": [],
   "source": [
    "gs25_df= gs25_df[~gs25_df.shopName.duplicated()]"
   ]
  },
  {
   "cell_type": "markdown",
   "metadata": {},
   "source": []
  },
  {
   "cell_type": "code",
   "execution_count": 210,
   "metadata": {},
   "outputs": [],
   "source": [
    "gs25_df = gs25_df[['shopName','address','offeringService', 'shopCode', 'longs', 'lat']]"
   ]
  },
  {
   "cell_type": "code",
   "execution_count": 211,
   "metadata": {},
   "outputs": [],
   "source": [
    "gs25_df['sido'] = gs25_df['address'].apply(lambda x : x.split()[0])"
   ]
  },
  {
   "cell_type": "code",
   "execution_count": 212,
   "metadata": {},
   "outputs": [],
   "source": [
    "for key, values in sido_dict.items():\n",
    "    gs25_df.sido = gs25_df.sido.apply(lambda x : values if key in x else x)"
   ]
  },
  {
   "cell_type": "code",
   "execution_count": 224,
   "metadata": {},
   "outputs": [],
   "source": [
    "gs25_df = gs25_df.rename(columns={'shopName':'name'})"
   ]
  },
  {
   "cell_type": "code",
   "execution_count": 219,
   "metadata": {},
   "outputs": [],
   "source": [
    "gs25_df['company'] = 'gs25'"
   ]
  },
  {
   "cell_type": "code",
   "execution_count": 241,
   "metadata": {},
   "outputs": [],
   "source": [
    "gs_servelit = set()\n",
    "for x in gs25_df['offeringService']:\n",
    "    if type(x) != float:\n",
    "        gs_servelit.update(x)"
   ]
  },
  {
   "cell_type": "code",
   "execution_count": 248,
   "metadata": {},
   "outputs": [],
   "source": [
    "for service in gs_servelit:\n",
    "    gs25_df[service] = gs25_df.offeringService.apply(lambda x: 1 if type(x) != float and service in x else 0) "
   ]
  },
  {
   "cell_type": "code",
   "execution_count": 249,
   "metadata": {},
   "outputs": [
    {
     "data": {
      "text/html": [
       "<div>\n",
       "<style scoped>\n",
       "    .dataframe tbody tr th:only-of-type {\n",
       "        vertical-align: middle;\n",
       "    }\n",
       "\n",
       "    .dataframe tbody tr th {\n",
       "        vertical-align: top;\n",
       "    }\n",
       "\n",
       "    .dataframe thead th {\n",
       "        text-align: right;\n",
       "    }\n",
       "</style>\n",
       "<table border=\"1\" class=\"dataframe\">\n",
       "  <thead>\n",
       "    <tr style=\"text-align: right;\">\n",
       "      <th></th>\n",
       "      <th>name</th>\n",
       "      <th>address</th>\n",
       "      <th>offeringService</th>\n",
       "      <th>shopCode</th>\n",
       "      <th>longs</th>\n",
       "      <th>lat</th>\n",
       "      <th>sido</th>\n",
       "      <th>company</th>\n",
       "      <th>parcel_service</th>\n",
       "      <th>post</th>\n",
       "      <th>...</th>\n",
       "      <th>smart_atm</th>\n",
       "      <th>toto</th>\n",
       "      <th>potatoes</th>\n",
       "      <th>self_cook</th>\n",
       "      <th>cafe25</th>\n",
       "      <th>drug</th>\n",
       "      <th>withdrawal</th>\n",
       "      <th>tax</th>\n",
       "      <th>cardiac_defi</th>\n",
       "      <th>fish_shaped_bun</th>\n",
       "    </tr>\n",
       "  </thead>\n",
       "  <tbody>\n",
       "    <tr>\n",
       "      <th>0</th>\n",
       "      <td>GS252테크노파크점</td>\n",
       "      <td>경기 부천시 오정구 석천로345,  300동 114호(삼정동 365)</td>\n",
       "      <td>[toto, cafe25, post, withdrawal, parcel_service]</td>\n",
       "      <td>V3414</td>\n",
       "      <td>37.51826292</td>\n",
       "      <td>126.76388845</td>\n",
       "      <td>경기도</td>\n",
       "      <td>gs25</td>\n",
       "      <td>1</td>\n",
       "      <td>1</td>\n",
       "      <td>...</td>\n",
       "      <td>0</td>\n",
       "      <td>1</td>\n",
       "      <td>0</td>\n",
       "      <td>0</td>\n",
       "      <td>1</td>\n",
       "      <td>0</td>\n",
       "      <td>1</td>\n",
       "      <td>0</td>\n",
       "      <td>0</td>\n",
       "      <td>0</td>\n",
       "    </tr>\n",
       "    <tr>\n",
       "      <th>1</th>\n",
       "      <td>GS2538선휴게소점</td>\n",
       "      <td>강원 양양군 현북면 동해대로1242, 38선휴게소 (잔교리 41-10, 38휴게소)</td>\n",
       "      <td>[cafe25, drug, post, atm, withdrawal, smart_at...</td>\n",
       "      <td>VX815</td>\n",
       "      <td>38.00414846</td>\n",
       "      <td>128.73283627</td>\n",
       "      <td>강원도</td>\n",
       "      <td>gs25</td>\n",
       "      <td>1</td>\n",
       "      <td>1</td>\n",
       "      <td>...</td>\n",
       "      <td>1</td>\n",
       "      <td>0</td>\n",
       "      <td>0</td>\n",
       "      <td>0</td>\n",
       "      <td>1</td>\n",
       "      <td>1</td>\n",
       "      <td>1</td>\n",
       "      <td>0</td>\n",
       "      <td>0</td>\n",
       "      <td>0</td>\n",
       "    </tr>\n",
       "    <tr>\n",
       "      <th>2</th>\n",
       "      <td>GS25CBS점</td>\n",
       "      <td>서울 양천구 목동서로159-1 (목1동 917-1, CBS방송국1층)</td>\n",
       "      <td>[post, parcel_service]</td>\n",
       "      <td>VQ037</td>\n",
       "      <td>37.52831065</td>\n",
       "      <td>126.87486792</td>\n",
       "      <td>서울특별시</td>\n",
       "      <td>gs25</td>\n",
       "      <td>1</td>\n",
       "      <td>1</td>\n",
       "      <td>...</td>\n",
       "      <td>0</td>\n",
       "      <td>0</td>\n",
       "      <td>0</td>\n",
       "      <td>0</td>\n",
       "      <td>0</td>\n",
       "      <td>0</td>\n",
       "      <td>0</td>\n",
       "      <td>0</td>\n",
       "      <td>0</td>\n",
       "      <td>0</td>\n",
       "    </tr>\n",
       "    <tr>\n",
       "      <th>3</th>\n",
       "      <td>GS25CJ대전HUB점</td>\n",
       "      <td>대전 대덕구 대덕대로1447번길39, 1층 (문평동 140)</td>\n",
       "      <td>[cafe25, potatoes, fish_shaped_bun]</td>\n",
       "      <td>V7W76</td>\n",
       "      <td>36.44932895</td>\n",
       "      <td>127.40708036</td>\n",
       "      <td>대전광역시</td>\n",
       "      <td>gs25</td>\n",
       "      <td>0</td>\n",
       "      <td>0</td>\n",
       "      <td>...</td>\n",
       "      <td>0</td>\n",
       "      <td>0</td>\n",
       "      <td>1</td>\n",
       "      <td>0</td>\n",
       "      <td>1</td>\n",
       "      <td>0</td>\n",
       "      <td>0</td>\n",
       "      <td>0</td>\n",
       "      <td>0</td>\n",
       "      <td>1</td>\n",
       "    </tr>\n",
       "    <tr>\n",
       "      <th>4</th>\n",
       "      <td>GS25CJ덕양SUB점</td>\n",
       "      <td>경기 고양시 일산동구 성현로615 (사리현동 151-1, CJ대한통운)</td>\n",
       "      <td>NaN</td>\n",
       "      <td>V6Z47</td>\n",
       "      <td>37.69488283</td>\n",
       "      <td>126.84958684</td>\n",
       "      <td>경기도</td>\n",
       "      <td>gs25</td>\n",
       "      <td>0</td>\n",
       "      <td>0</td>\n",
       "      <td>...</td>\n",
       "      <td>0</td>\n",
       "      <td>0</td>\n",
       "      <td>0</td>\n",
       "      <td>0</td>\n",
       "      <td>0</td>\n",
       "      <td>0</td>\n",
       "      <td>0</td>\n",
       "      <td>0</td>\n",
       "      <td>0</td>\n",
       "      <td>0</td>\n",
       "    </tr>\n",
       "    <tr>\n",
       "      <th>...</th>\n",
       "      <td>...</td>\n",
       "      <td>...</td>\n",
       "      <td>...</td>\n",
       "      <td>...</td>\n",
       "      <td>...</td>\n",
       "      <td>...</td>\n",
       "      <td>...</td>\n",
       "      <td>...</td>\n",
       "      <td>...</td>\n",
       "      <td>...</td>\n",
       "      <td>...</td>\n",
       "      <td>...</td>\n",
       "      <td>...</td>\n",
       "      <td>...</td>\n",
       "      <td>...</td>\n",
       "      <td>...</td>\n",
       "      <td>...</td>\n",
       "      <td>...</td>\n",
       "      <td>...</td>\n",
       "      <td>...</td>\n",
       "      <td>...</td>\n",
       "    </tr>\n",
       "    <tr>\n",
       "      <th>74</th>\n",
       "      <td>S2상왕십리역점</td>\n",
       "      <td>서울 성동구 왕십리로지하 374, 207-02호  (하왕십리동 946-14, 상왕십리역)</td>\n",
       "      <td>NaN</td>\n",
       "      <td>V1880</td>\n",
       "      <td>37.56433789</td>\n",
       "      <td>127.02961475</td>\n",
       "      <td>서울특별시</td>\n",
       "      <td>gs25</td>\n",
       "      <td>0</td>\n",
       "      <td>0</td>\n",
       "      <td>...</td>\n",
       "      <td>0</td>\n",
       "      <td>0</td>\n",
       "      <td>0</td>\n",
       "      <td>0</td>\n",
       "      <td>0</td>\n",
       "      <td>0</td>\n",
       "      <td>0</td>\n",
       "      <td>0</td>\n",
       "      <td>0</td>\n",
       "      <td>0</td>\n",
       "    </tr>\n",
       "    <tr>\n",
       "      <th>75</th>\n",
       "      <td>S4동작역점</td>\n",
       "      <td>서울 동작구 현충로257, 431-02호 (동작동 327-1)</td>\n",
       "      <td>NaN</td>\n",
       "      <td>V1882</td>\n",
       "      <td>37.50287602</td>\n",
       "      <td>126.9802623</td>\n",
       "      <td>서울특별시</td>\n",
       "      <td>gs25</td>\n",
       "      <td>0</td>\n",
       "      <td>0</td>\n",
       "      <td>...</td>\n",
       "      <td>0</td>\n",
       "      <td>0</td>\n",
       "      <td>0</td>\n",
       "      <td>0</td>\n",
       "      <td>0</td>\n",
       "      <td>0</td>\n",
       "      <td>0</td>\n",
       "      <td>0</td>\n",
       "      <td>0</td>\n",
       "      <td>0</td>\n",
       "    </tr>\n",
       "    <tr>\n",
       "      <th>76</th>\n",
       "      <td>경희프라자점</td>\n",
       "      <td>서울 동대문구 경희대로23, 문화복지시설 101호 (회기동 1-5, 전면플라자)</td>\n",
       "      <td>[drug, post, withdrawal, tax, parcel_service]</td>\n",
       "      <td>VW993</td>\n",
       "      <td>37.59431984</td>\n",
       "      <td>127.05231488</td>\n",
       "      <td>서울특별시</td>\n",
       "      <td>gs25</td>\n",
       "      <td>1</td>\n",
       "      <td>1</td>\n",
       "      <td>...</td>\n",
       "      <td>0</td>\n",
       "      <td>0</td>\n",
       "      <td>0</td>\n",
       "      <td>0</td>\n",
       "      <td>0</td>\n",
       "      <td>1</td>\n",
       "      <td>1</td>\n",
       "      <td>1</td>\n",
       "      <td>0</td>\n",
       "      <td>0</td>\n",
       "    </tr>\n",
       "    <tr>\n",
       "      <th>77</th>\n",
       "      <td>나만의냉장고</td>\n",
       "      <td>서울 강남구 논현로508 (역삼동 679)</td>\n",
       "      <td>NaN</td>\n",
       "      <td>V1355</td>\n",
       "      <td>37.50208899</td>\n",
       "      <td>127.03678844</td>\n",
       "      <td>서울특별시</td>\n",
       "      <td>gs25</td>\n",
       "      <td>0</td>\n",
       "      <td>0</td>\n",
       "      <td>...</td>\n",
       "      <td>0</td>\n",
       "      <td>0</td>\n",
       "      <td>0</td>\n",
       "      <td>0</td>\n",
       "      <td>0</td>\n",
       "      <td>0</td>\n",
       "      <td>0</td>\n",
       "      <td>0</td>\n",
       "      <td>0</td>\n",
       "      <td>0</td>\n",
       "    </tr>\n",
       "    <tr>\n",
       "      <th>78</th>\n",
       "      <td>샛별이PPL점</td>\n",
       "      <td>경기 이천시 부발읍 죽당로286-90, 제이영상촬영소 (죽당리 98-11)</td>\n",
       "      <td>NaN</td>\n",
       "      <td>V9A20</td>\n",
       "      <td>37.2775307</td>\n",
       "      <td>127.52197076</td>\n",
       "      <td>경기도</td>\n",
       "      <td>gs25</td>\n",
       "      <td>0</td>\n",
       "      <td>0</td>\n",
       "      <td>...</td>\n",
       "      <td>0</td>\n",
       "      <td>0</td>\n",
       "      <td>0</td>\n",
       "      <td>0</td>\n",
       "      <td>0</td>\n",
       "      <td>0</td>\n",
       "      <td>0</td>\n",
       "      <td>0</td>\n",
       "      <td>0</td>\n",
       "      <td>0</td>\n",
       "    </tr>\n",
       "  </tbody>\n",
       "</table>\n",
       "<p>17361 rows × 23 columns</p>\n",
       "</div>"
      ],
      "text/plain": [
       "            name                                            address  \\\n",
       "0    GS252테크노파크점             경기 부천시 오정구 석천로345,  300동 114호(삼정동 365)   \n",
       "1    GS2538선휴게소점     강원 양양군 현북면 동해대로1242, 38선휴게소 (잔교리 41-10, 38휴게소)   \n",
       "2       GS25CBS점             서울 양천구 목동서로159-1 (목1동 917-1, CBS방송국1층)   \n",
       "3   GS25CJ대전HUB점                  대전 대덕구 대덕대로1447번길39, 1층 (문평동 140)   \n",
       "4   GS25CJ덕양SUB점            경기 고양시 일산동구 성현로615 (사리현동 151-1, CJ대한통운)   \n",
       "..           ...                                                ...   \n",
       "74      S2상왕십리역점  서울 성동구 왕십리로지하 374, 207-02호  (하왕십리동 946-14, 상왕십리역)   \n",
       "75        S4동작역점                 서울 동작구 현충로257, 431-02호 (동작동 327-1)   \n",
       "76        경희프라자점       서울 동대문구 경희대로23, 문화복지시설 101호 (회기동 1-5, 전면플라자)   \n",
       "77        나만의냉장고                            서울 강남구 논현로508 (역삼동 679)   \n",
       "78       샛별이PPL점          경기 이천시 부발읍 죽당로286-90, 제이영상촬영소 (죽당리 98-11)   \n",
       "\n",
       "                                      offeringService shopCode        longs  \\\n",
       "0    [toto, cafe25, post, withdrawal, parcel_service]    V3414  37.51826292   \n",
       "1   [cafe25, drug, post, atm, withdrawal, smart_at...    VX815  38.00414846   \n",
       "2                              [post, parcel_service]    VQ037  37.52831065   \n",
       "3                 [cafe25, potatoes, fish_shaped_bun]    V7W76  36.44932895   \n",
       "4                                                 NaN    V6Z47  37.69488283   \n",
       "..                                                ...      ...          ...   \n",
       "74                                                NaN    V1880  37.56433789   \n",
       "75                                                NaN    V1882  37.50287602   \n",
       "76      [drug, post, withdrawal, tax, parcel_service]    VW993  37.59431984   \n",
       "77                                                NaN    V1355  37.50208899   \n",
       "78                                                NaN    V9A20   37.2775307   \n",
       "\n",
       "             lat   sido company  parcel_service  post  ...  smart_atm  toto  \\\n",
       "0   126.76388845    경기도    gs25               1     1  ...          0     1   \n",
       "1   128.73283627    강원도    gs25               1     1  ...          1     0   \n",
       "2   126.87486792  서울특별시    gs25               1     1  ...          0     0   \n",
       "3   127.40708036  대전광역시    gs25               0     0  ...          0     0   \n",
       "4   126.84958684    경기도    gs25               0     0  ...          0     0   \n",
       "..           ...    ...     ...             ...   ...  ...        ...   ...   \n",
       "74  127.02961475  서울특별시    gs25               0     0  ...          0     0   \n",
       "75   126.9802623  서울특별시    gs25               0     0  ...          0     0   \n",
       "76  127.05231488  서울특별시    gs25               1     1  ...          0     0   \n",
       "77  127.03678844  서울특별시    gs25               0     0  ...          0     0   \n",
       "78  127.52197076    경기도    gs25               0     0  ...          0     0   \n",
       "\n",
       "    potatoes  self_cook  cafe25  drug  withdrawal  tax  cardiac_defi  \\\n",
       "0          0          0       1     0           1    0             0   \n",
       "1          0          0       1     1           1    0             0   \n",
       "2          0          0       0     0           0    0             0   \n",
       "3          1          0       1     0           0    0             0   \n",
       "4          0          0       0     0           0    0             0   \n",
       "..       ...        ...     ...   ...         ...  ...           ...   \n",
       "74         0          0       0     0           0    0             0   \n",
       "75         0          0       0     0           0    0             0   \n",
       "76         0          0       0     1           1    1             0   \n",
       "77         0          0       0     0           0    0             0   \n",
       "78         0          0       0     0           0    0             0   \n",
       "\n",
       "    fish_shaped_bun  \n",
       "0                 0  \n",
       "1                 0  \n",
       "2                 0  \n",
       "3                 1  \n",
       "4                 0  \n",
       "..              ...  \n",
       "74                0  \n",
       "75                0  \n",
       "76                0  \n",
       "77                0  \n",
       "78                0  \n",
       "\n",
       "[17361 rows x 23 columns]"
      ]
     },
     "execution_count": 249,
     "metadata": {},
     "output_type": "execute_result"
    }
   ],
   "source": [
    "gs25_df"
   ]
  },
  {
   "cell_type": "code",
   "execution_count": 225,
   "metadata": {},
   "outputs": [],
   "source": [
    "gs25_melt = pd.melt(gs25_df,id_vars=['company','name','sido','address'])"
   ]
  },
  {
   "cell_type": "code",
   "execution_count": 59,
   "metadata": {},
   "outputs": [],
   "source": [
    "import pymysql\n",
    "host='192.168.90.103'\n",
    "user='david'\n",
    "password='392766'\n",
    "db='encore'\n",
    "charset='utf8'\n",
    "con =pymysql.connect(host=host,user=user,password=password,db=db,charset=charset)\n",
    "cur = con.cursor()"
   ]
  },
  {
   "cell_type": "code",
   "execution_count": 58,
   "metadata": {},
   "outputs": [],
   "source": [
    "import sqlalchemy\n",
    "from urllib import parse\n",
    "user = 'david'\n",
    "password = '392766'\n",
    "host='192.168.90.103'\n",
    "port = 3306\n",
    "database = 'encore'\n",
    "password = parse.quote_plus(password)\n",
    "\n",
    "engine = sqlalchemy.create_engine(f\"mysql://{user}:{password}@{host}:{port}/{database}\")"
   ]
  },
  {
   "cell_type": "code",
   "execution_count": 44,
   "metadata": {},
   "outputs": [],
   "source": [
    "import pickle\n",
    "with open('./conveni_total_df.pkl','rb') as f:\n",
    "    total_df = pickle.load(f)"
   ]
  },
  {
   "cell_type": "code",
   "execution_count": 45,
   "metadata": {},
   "outputs": [],
   "source": [
    "total_df.store_tel = total_df.store_tel.replace(\"\",None)\n"
   ]
  },
  {
   "cell_type": "code",
   "execution_count": 48,
   "metadata": {},
   "outputs": [],
   "source": [
    "total_df.where(pd.notnull(total_df), None,inplace=True)"
   ]
  },
  {
   "cell_type": "code",
   "execution_count": 50,
   "metadata": {},
   "outputs": [],
   "source": [
    "total_df.available = total_df.available.astype(int)"
   ]
  },
  {
   "cell_type": "code",
   "execution_count": 75,
   "metadata": {},
   "outputs": [
    {
     "data": {
      "text/plain": [
       "array([[ True]])"
      ]
     },
     "execution_count": 75,
     "metadata": {},
     "output_type": "execute_result"
    }
   ],
   "source": [
    "pd.DataFrame([True]).values"
   ]
  },
  {
   "cell_type": "code",
   "execution_count": 67,
   "metadata": {},
   "outputs": [
    {
     "data": {
      "text/plain": [
       "array(['CU', '가평군청점', '경기도', '0315817570', None, None, None, None,\n",
       "       '경기도 가평군 가평읍 석봉로 175, (읍내리) 1호', 'coffee', 1], dtype=object)"
      ]
     },
     "execution_count": 67,
     "metadata": {},
     "output_type": "execute_result"
    }
   ],
   "source": [
    "total_df.iloc[0].values"
   ]
  },
  {
   "cell_type": "code",
   "execution_count": 60,
   "metadata": {},
   "outputs": [],
   "source": [
    "sql = \"INSERT INTO store VALUES (%s, %s, %s, %s, %s, %s, %s, %s, %s, %s, %s)\""
   ]
  },
  {
   "cell_type": "code",
   "execution_count": 53,
   "metadata": {},
   "outputs": [
    {
     "data": {
      "text/plain": [
       "1"
      ]
     },
     "execution_count": 53,
     "metadata": {},
     "output_type": "execute_result"
    }
   ],
   "source": [
    "cur.execute(sql,total_df.iloc[0].values.tolist())"
   ]
  },
  {
   "cell_type": "code",
   "execution_count": null,
   "metadata": {},
   "outputs": [],
   "source": []
  },
  {
   "cell_type": "code",
   "execution_count": 61,
   "metadata": {},
   "outputs": [
    {
     "name": "stderr",
     "output_type": "stream",
     "text": [
      "640498it [03:50, 2779.17it/s]\n"
     ]
    }
   ],
   "source": [
    "from tqdm import tqdm\n",
    "for idx, row in tqdm(total_df.iterrows()):\n",
    "    cur.execute(sql,row.tolist())"
   ]
  },
  {
   "cell_type": "code",
   "execution_count": 63,
   "metadata": {},
   "outputs": [],
   "source": [
    "con.commit()"
   ]
  },
  {
   "cell_type": "code",
   "execution_count": 13,
   "metadata": {},
   "outputs": [
    {
     "data": {
      "text/html": [
       "<div>\n",
       "<style scoped>\n",
       "    .dataframe tbody tr th:only-of-type {\n",
       "        vertical-align: middle;\n",
       "    }\n",
       "\n",
       "    .dataframe tbody tr th {\n",
       "        vertical-align: top;\n",
       "    }\n",
       "\n",
       "    .dataframe thead th {\n",
       "        text-align: right;\n",
       "    }\n",
       "</style>\n",
       "<table border=\"1\" class=\"dataframe\">\n",
       "  <thead>\n",
       "    <tr style=\"text-align: right;\">\n",
       "      <th></th>\n",
       "      <th>brand</th>\n",
       "      <th>store_name</th>\n",
       "      <th>sido</th>\n",
       "      <th>store_tel</th>\n",
       "      <th>store_code</th>\n",
       "      <th>lat</th>\n",
       "      <th>longs</th>\n",
       "      <th>open_time</th>\n",
       "      <th>store_address</th>\n",
       "      <th>service</th>\n",
       "      <th>available</th>\n",
       "    </tr>\n",
       "  </thead>\n",
       "  <tbody>\n",
       "    <tr>\n",
       "      <th>0</th>\n",
       "      <td>True</td>\n",
       "      <td>True</td>\n",
       "      <td>True</td>\n",
       "      <td>True</td>\n",
       "      <td>False</td>\n",
       "      <td>False</td>\n",
       "      <td>False</td>\n",
       "      <td>False</td>\n",
       "      <td>True</td>\n",
       "      <td>True</td>\n",
       "      <td>True</td>\n",
       "    </tr>\n",
       "    <tr>\n",
       "      <th>1</th>\n",
       "      <td>True</td>\n",
       "      <td>True</td>\n",
       "      <td>True</td>\n",
       "      <td>True</td>\n",
       "      <td>False</td>\n",
       "      <td>False</td>\n",
       "      <td>False</td>\n",
       "      <td>False</td>\n",
       "      <td>True</td>\n",
       "      <td>True</td>\n",
       "      <td>True</td>\n",
       "    </tr>\n",
       "    <tr>\n",
       "      <th>2</th>\n",
       "      <td>True</td>\n",
       "      <td>True</td>\n",
       "      <td>True</td>\n",
       "      <td>True</td>\n",
       "      <td>False</td>\n",
       "      <td>False</td>\n",
       "      <td>False</td>\n",
       "      <td>False</td>\n",
       "      <td>True</td>\n",
       "      <td>True</td>\n",
       "      <td>True</td>\n",
       "    </tr>\n",
       "    <tr>\n",
       "      <th>3</th>\n",
       "      <td>True</td>\n",
       "      <td>True</td>\n",
       "      <td>True</td>\n",
       "      <td>True</td>\n",
       "      <td>False</td>\n",
       "      <td>False</td>\n",
       "      <td>False</td>\n",
       "      <td>False</td>\n",
       "      <td>True</td>\n",
       "      <td>True</td>\n",
       "      <td>True</td>\n",
       "    </tr>\n",
       "    <tr>\n",
       "      <th>4</th>\n",
       "      <td>True</td>\n",
       "      <td>True</td>\n",
       "      <td>True</td>\n",
       "      <td>True</td>\n",
       "      <td>False</td>\n",
       "      <td>False</td>\n",
       "      <td>False</td>\n",
       "      <td>False</td>\n",
       "      <td>True</td>\n",
       "      <td>True</td>\n",
       "      <td>True</td>\n",
       "    </tr>\n",
       "    <tr>\n",
       "      <th>...</th>\n",
       "      <td>...</td>\n",
       "      <td>...</td>\n",
       "      <td>...</td>\n",
       "      <td>...</td>\n",
       "      <td>...</td>\n",
       "      <td>...</td>\n",
       "      <td>...</td>\n",
       "      <td>...</td>\n",
       "      <td>...</td>\n",
       "      <td>...</td>\n",
       "      <td>...</td>\n",
       "    </tr>\n",
       "    <tr>\n",
       "      <th>186115</th>\n",
       "      <td>True</td>\n",
       "      <td>True</td>\n",
       "      <td>True</td>\n",
       "      <td>False</td>\n",
       "      <td>False</td>\n",
       "      <td>True</td>\n",
       "      <td>True</td>\n",
       "      <td>True</td>\n",
       "      <td>True</td>\n",
       "      <td>True</td>\n",
       "      <td>True</td>\n",
       "    </tr>\n",
       "    <tr>\n",
       "      <th>186116</th>\n",
       "      <td>True</td>\n",
       "      <td>True</td>\n",
       "      <td>True</td>\n",
       "      <td>False</td>\n",
       "      <td>False</td>\n",
       "      <td>True</td>\n",
       "      <td>True</td>\n",
       "      <td>True</td>\n",
       "      <td>True</td>\n",
       "      <td>True</td>\n",
       "      <td>True</td>\n",
       "    </tr>\n",
       "    <tr>\n",
       "      <th>186117</th>\n",
       "      <td>True</td>\n",
       "      <td>True</td>\n",
       "      <td>True</td>\n",
       "      <td>False</td>\n",
       "      <td>False</td>\n",
       "      <td>True</td>\n",
       "      <td>True</td>\n",
       "      <td>True</td>\n",
       "      <td>True</td>\n",
       "      <td>True</td>\n",
       "      <td>True</td>\n",
       "    </tr>\n",
       "    <tr>\n",
       "      <th>186118</th>\n",
       "      <td>True</td>\n",
       "      <td>True</td>\n",
       "      <td>True</td>\n",
       "      <td>False</td>\n",
       "      <td>False</td>\n",
       "      <td>True</td>\n",
       "      <td>True</td>\n",
       "      <td>True</td>\n",
       "      <td>True</td>\n",
       "      <td>True</td>\n",
       "      <td>True</td>\n",
       "    </tr>\n",
       "    <tr>\n",
       "      <th>186119</th>\n",
       "      <td>True</td>\n",
       "      <td>True</td>\n",
       "      <td>True</td>\n",
       "      <td>False</td>\n",
       "      <td>False</td>\n",
       "      <td>True</td>\n",
       "      <td>True</td>\n",
       "      <td>True</td>\n",
       "      <td>True</td>\n",
       "      <td>True</td>\n",
       "      <td>True</td>\n",
       "    </tr>\n",
       "  </tbody>\n",
       "</table>\n",
       "<p>640498 rows × 11 columns</p>\n",
       "</div>"
      ],
      "text/plain": [
       "        brand  store_name  sido  store_tel  store_code    lat  longs  \\\n",
       "0        True        True  True       True       False  False  False   \n",
       "1        True        True  True       True       False  False  False   \n",
       "2        True        True  True       True       False  False  False   \n",
       "3        True        True  True       True       False  False  False   \n",
       "4        True        True  True       True       False  False  False   \n",
       "...       ...         ...   ...        ...         ...    ...    ...   \n",
       "186115   True        True  True      False       False   True   True   \n",
       "186116   True        True  True      False       False   True   True   \n",
       "186117   True        True  True      False       False   True   True   \n",
       "186118   True        True  True      False       False   True   True   \n",
       "186119   True        True  True      False       False   True   True   \n",
       "\n",
       "        open_time  store_address  service  available  \n",
       "0           False           True     True       True  \n",
       "1           False           True     True       True  \n",
       "2           False           True     True       True  \n",
       "3           False           True     True       True  \n",
       "4           False           True     True       True  \n",
       "...           ...            ...      ...        ...  \n",
       "186115       True           True     True       True  \n",
       "186116       True           True     True       True  \n",
       "186117       True           True     True       True  \n",
       "186118       True           True     True       True  \n",
       "186119       True           True     True       True  \n",
       "\n",
       "[640498 rows x 11 columns]"
      ]
     },
     "execution_count": 13,
     "metadata": {},
     "output_type": "execute_result"
    }
   ],
   "source": [
    "import pandas as pd\n",
    "pd.notnull(total_df)"
   ]
  },
  {
   "cell_type": "code",
   "execution_count": 10,
   "metadata": {},
   "outputs": [
    {
     "data": {
      "text/plain": [
       "['CU',\n",
       " '가평군청점',\n",
       " '경기도',\n",
       " '0315817570',\n",
       " nan,\n",
       " nan,\n",
       " nan,\n",
       " nan,\n",
       " '경기도 가평군 가평읍 석봉로 175, (읍내리) 1호',\n",
       " 'coffee',\n",
       " True]"
      ]
     },
     "execution_count": 10,
     "metadata": {},
     "output_type": "execute_result"
    }
   ],
   "source": []
  },
  {
   "cell_type": "code",
   "execution_count": null,
   "metadata": {},
   "outputs": [],
   "source": []
  }
 ],
 "metadata": {
  "kernelspec": {
   "display_name": "Python 3",
   "language": "python",
   "name": "python3"
  },
  "language_info": {
   "codemirror_mode": {
    "name": "ipython",
    "version": 3
   },
   "file_extension": ".py",
   "mimetype": "text/x-python",
   "name": "python",
   "nbconvert_exporter": "python",
   "pygments_lexer": "ipython3",
   "version": "3.10.12"
  }
 },
 "nbformat": 4,
 "nbformat_minor": 2
}
