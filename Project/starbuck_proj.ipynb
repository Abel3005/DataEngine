{
 "cells": [
  {
   "cell_type": "markdown",
   "metadata": {},
   "source": [
    "# 스타벅스 분석\n",
    "\n",
    "**사용 라이브러리**\n",
    ">   - requests"
   ]
  },
  {
   "cell_type": "markdown",
   "metadata": {},
   "source": [
    "### 스타벅스 개점한 요일에 대한 정보 찾기\n",
    "\n",
    "1. 스타벅스 각 지점에 대한 정보 받아오기\n",
    "2. 오픈한 날짜 정보가 있는 지 탐색\n",
    ">    - 있을 경우 3번으로 진행\n",
    ">    - 없을 경우 1번부터 진행\n",
    "3. 오픈한 날짜에 대해서 날짜 관련 객체로 반환\n",
    "4. 객체를 순차적으로 탐색하며 집계 차트 완성 "
   ]
  },
  {
   "cell_type": "code",
   "execution_count": 2,
   "metadata": {},
   "outputs": [],
   "source": [
    "import requests\n",
    "\n",
    "#정보를 받아올 url 주소\n",
    "url = \"https://www.starbucks.co.kr/store/getStore.do?r=EXRPGE2OU7\"\n",
    "\n",
    "# POST 통신에 필요한 데이터 전송\n",
    "payload = {\"in_biz_cds\" : \"0\",\"in_scodes\" : \"0\",\"ins_lat\" : \"37.4947\",\"ins_lng\" : \"127.0493\",\"search_text\" : \"\",\"p_sido_cd\" : \"01\",\"p_gugun_cd\" : \"\",\"isError\" : \"true\",\"in_distance\" : \"0\",\"in_biz_cd\" : \"\",\"iend\" : \"1000\",\"searchType\" : \"C\",\"set_date\" : \"\",\"rndCod\" : \"N92GB828NC\",\"all_store\" : \"0\",\"T03\" : \"0\",\"T01\" : \"0\",\"T27\" : \"0\",\"T12\" : \"0\",\"T09\" : \"0\",\"T30\" : \"0\",\"T05\" : \"0\",\"T22\" : \"0\",\"T21\" : \"0\",\"T10\" : \"0\",\"T36\" : \"0\",\"T43\" : \"0\",\"T48\" : \"0\",\"Z9999\" : \"0\",\"P02\" : \"0\",\"P10\" : \"0\",\"P50\" : \"0\",\"P20\" : \"0\",\"P60\" : \"0\",\"P30\" : \"0\",\"P70\" : \"0\",\"P40\" : \"0\",\"P80\" : \"0\",\"whcroad_yn\" : \"0\",\"P90\" : \"0\",\"P01\" : \"0\",\"new_bool\" : \"0\",}\n",
    "r = requests.post(url, data=payload)"
   ]
  },
  {
   "cell_type": "code",
   "execution_count": 15,
   "metadata": {},
   "outputs": [
    {
     "data": {
      "text/plain": [
       "dict_keys(['list'])"
      ]
     },
     "metadata": {},
     "output_type": "display_data"
    },
    {
     "data": {
      "text/plain": [
       "dict_keys(['seq', 'sido_cd', 'sido_nm', 'gugun_cd', 'gugun_nm', 'code_order', 'view_yn', 'store_num', 'sido', 'gugun', 'address', 'new_img_nm', 'p_pro_seq', 'p_view_yn', 'p_sido_cd', 'p_gugun_cd', 'p_store_nm', 'p_theme_cd', 'p_wireless_yn', 'p_smoking_yn', 'p_book_yn', 'p_music_yn', 'p_terrace_yn', 'p_table_yn', 'p_takeout_yn', 'p_parking_yn', 'p_dollar_assent', 'p_card_recharge', 'p_subway_yn', 'stb_store_file_renew', 'stb_store_theme_renew', 'stb_store_time_renew', 'stb_store_lsm', 's_code', 's_name', 'tel', 'fax', 'sido_code', 'sido_name', 'gugun_code', 'gugun_name', 'addr', 'park_info', 'new_state', 'theme_state', 'new_bool', 'search_text', 'ins_lat', 'ins_lng', 'in_distance', 'out_distance', 'all_search_cnt', 'addr_search_cnt', 'store_search_cnt', 'rowCount', 'store_nm', 'store_cd', 's_biz_code', 'new_icon', 'set_user', 'favorites', 'map_desc', 'notice', 'defaultimage', 'etcimage', 'in_biz_cd', 'in_store_cd', 'in_favorites', 'in_user_id', 'in_biz_cds', 'in_biz_arr', 'in_biz_arrdata', 'in_scodes', 'in_scode_arr', 'in_scode_arrdata', 'disp', 'set_date', 'hlytag', 'hlytag_msg', 'vSal', 'istart', 'iend', 'open_dt', 'gold_card', 'ip_lat', 'ip_long', 'espresso', 'new_store', 'premiere_food', 'doro_address', 'cold_blew', 'my_siren_order_store_yn', 'whcroad_yn', 'skuNo', 'skuName', 'skuImgUrl', 'stock_count', 'store_area_name', 'store_area_code', 'is_open', 'ev_open_yn', 'option', 'gift_stock_yn', 'lat', 'lot', 't20', 't04', 't03', 't01', 't12', 't09', 't06', 't10', 'p10', 'p50', 'p20', 'p60', 'p30', 'p70', 'p40', 'p80', 't22', 't21', 'p90', 'p01', 't05', 't30', 't36', 't27', 't29', 't43', 't48', 'z9999', 'p02'])"
      ]
     },
     "metadata": {},
     "output_type": "display_data"
    },
    {
     "data": {
      "text/plain": [
       "'20190613'"
      ]
     },
     "metadata": {},
     "output_type": "display_data"
    }
   ],
   "source": [
    "display(r.json().keys())\n",
    "display(r.json()['list'][0].keys())\n",
    "display(r.json()['list'][0]['open_dt'])\n"
   ]
  },
  {
   "cell_type": "code",
   "execution_count": 25,
   "metadata": {},
   "outputs": [
    {
     "data": {
      "text/plain": [
       "datetime.datetime(2019, 6, 13, 0, 0)"
      ]
     },
     "metadata": {},
     "output_type": "display_data"
    },
    {
     "data": {
      "text/plain": [
       "3"
      ]
     },
     "metadata": {},
     "output_type": "display_data"
    },
    {
     "data": {
      "text/plain": [
       "datetime.datetime(2018, 11, 23, 0, 0)"
      ]
     },
     "metadata": {},
     "output_type": "display_data"
    },
    {
     "data": {
      "text/plain": [
       "4"
      ]
     },
     "metadata": {},
     "output_type": "display_data"
    }
   ],
   "source": [
    "from datetime import datetime, date\n",
    "\n",
    "\n",
    "open_day1 = datetime.strptime(r.json()['list'][0]['open_dt'], \"%Y%m%d\")\n",
    "open_day2 = datetime.strptime(r.json()['list'][1]['open_dt'], \"%Y%m%d\")\n",
    "display(open_day1, open_day1.weekday(), open_day2, open_day2.weekday())"
   ]
  },
  {
   "attachments": {
    "image.png": {
     "image/png": "[encoded data removed]"
    }
   },
   "cell_type": "markdown",
   "metadata": {},
   "source": [
    "![image.png](attachment:image.png)"
   ]
  },
  {
   "attachments": {
    "image.png": {
     "image/png": "[encoded data removed]"
    }
   },
   "cell_type": "markdown",
   "metadata": {},
   "source": [
    "![image.png](attachment:image.png)"
   ]
  },
  {
   "cell_type": "code",
   "execution_count": 29,
   "metadata": {},
   "outputs": [
    {
     "data": {
      "text/plain": [
       "{'월': 47, '화': 125, '수': 120, '목': 167, '금': 143, '토': 6, '일': 2}"
      ]
     },
     "metadata": {},
     "output_type": "display_data"
    },
    {
     "name": "stdout",
     "output_type": "stream",
     "text": [
      "가장 많이 개점한 요일은 목요일 입니다\n"
     ]
    }
   ],
   "source": [
    "int_week = dict(zip(list(range(7)),\"월화수목금토일\"))\n",
    "week_counts = dict(zip(\"월화수목금토일\", [0]*7))\n",
    "\n",
    "for info in r.json()['list']:\n",
    "    open_week = datetime.strptime(info['open_dt'],\"%Y%m%d\").weekday()\n",
    "    week_counts[int_week[open_week]] +=1\n",
    "\n",
    "display(week_counts)\n",
    "\n",
    "print(f'가장 많이 개점한 요일은 {max(week_counts, key=lambda x : week_counts[x])}요일 입니다')"
   ]
  },
  {
   "cell_type": "markdown",
   "metadata": {},
   "source": [
    "### 스타벅스 개점한 지역 분석\n",
    "\n",
    "1. 스타벅스 각 지점에 대한 정보 받아오기\n",
    "2. 개점한 지역정보가 있는 지 탐색\n",
    ">    - 있을 경우 3번으로 진행\n",
    ">    - 없을 경우 1번부터 진행\n",
    "3. 데이터 전처리 \n",
    "4. 데이터를 순차적으로 탐색하며 집계 함수 작성\n"
   ]
  },
  {
   "cell_type": "code",
   "execution_count": 39,
   "metadata": {},
   "outputs": [
    {
     "data": {
      "text/plain": [
       "dict_keys(['seq', 'sido_cd', 'sido_nm', 'gugun_cd', 'gugun_nm', 'code_order', 'view_yn', 'store_num', 'sido', 'gugun', 'address', 'new_img_nm', 'p_pro_seq', 'p_view_yn', 'p_sido_cd', 'p_gugun_cd', 'p_store_nm', 'p_theme_cd', 'p_wireless_yn', 'p_smoking_yn', 'p_book_yn', 'p_music_yn', 'p_terrace_yn', 'p_table_yn', 'p_takeout_yn', 'p_parking_yn', 'p_dollar_assent', 'p_card_recharge', 'p_subway_yn', 'stb_store_file_renew', 'stb_store_theme_renew', 'stb_store_time_renew', 'stb_store_lsm', 's_code', 's_name', 'tel', 'fax', 'sido_code', 'sido_name', 'gugun_code', 'gugun_name', 'addr', 'park_info', 'new_state', 'theme_state', 'new_bool', 'search_text', 'ins_lat', 'ins_lng', 'in_distance', 'out_distance', 'all_search_cnt', 'addr_search_cnt', 'store_search_cnt', 'rowCount', 'store_nm', 'store_cd', 's_biz_code', 'new_icon', 'set_user', 'favorites', 'map_desc', 'notice', 'defaultimage', 'etcimage', 'in_biz_cd', 'in_store_cd', 'in_favorites', 'in_user_id', 'in_biz_cds', 'in_biz_arr', 'in_biz_arrdata', 'in_scodes', 'in_scode_arr', 'in_scode_arrdata', 'disp', 'set_date', 'hlytag', 'hlytag_msg', 'vSal', 'istart', 'iend', 'open_dt', 'gold_card', 'ip_lat', 'ip_long', 'espresso', 'new_store', 'premiere_food', 'doro_address', 'cold_blew', 'my_siren_order_store_yn', 'whcroad_yn', 'skuNo', 'skuName', 'skuImgUrl', 'stock_count', 'store_area_name', 'store_area_code', 'is_open', 'ev_open_yn', 'option', 'gift_stock_yn', 'lat', 'lot', 't20', 't04', 't03', 't01', 't12', 't09', 't06', 't10', 'p10', 'p50', 'p20', 'p60', 'p30', 'p70', 'p40', 'p80', 't22', 't21', 'p90', 'p01', 't05', 't30', 't36', 't27', 't29', 't43', 't48', 'z9999', 'p02'])"
      ]
     },
     "metadata": {},
     "output_type": "display_data"
    },
    {
     "data": {
      "text/plain": [
       "'서울특별시 강남구 역삼동 721-13 아레나빌딩'"
      ]
     },
     "metadata": {},
     "output_type": "display_data"
    }
   ],
   "source": [
    "display(r.json()['list'][0].keys())\n",
    "display(r.json()['list'][0]['addr'])"
   ]
  },
  {
   "cell_type": "code",
   "execution_count": 40,
   "metadata": {},
   "outputs": [
    {
     "data": {
      "text/plain": [
       "{'강남구',\n",
       " '강동구',\n",
       " '강북구',\n",
       " '강서구',\n",
       " '관악구',\n",
       " '광진구',\n",
       " '구로구',\n",
       " '금천구',\n",
       " '노원구',\n",
       " '도봉구',\n",
       " '동대문구',\n",
       " '동작구',\n",
       " '마포구',\n",
       " '서대문구',\n",
       " '서초구',\n",
       " '성동구',\n",
       " '성북구',\n",
       " '송파구',\n",
       " '양천구',\n",
       " '영등포구',\n",
       " '용산구',\n",
       " '은평구',\n",
       " '종로구',\n",
       " '중구',\n",
       " '중랑구'}"
      ]
     },
     "metadata": {},
     "output_type": "display_data"
    }
   ],
   "source": [
    "unique = set()\n",
    "for info in r.json()['list']:\n",
    "    unique.add(info['addr'].split(' ')[1])\n",
    "display(unique)"
   ]
  },
  {
   "cell_type": "code",
   "execution_count": 44,
   "metadata": {},
   "outputs": [
    {
     "data": {
      "text/plain": [
       "{'강남구': 91,\n",
       " '용산구': 24,\n",
       " '중구': 53,\n",
       " '성동구': 14,\n",
       " '도봉구': 7,\n",
       " '금천구': 13,\n",
       " '영등포구': 41,\n",
       " '서초구': 47,\n",
       " '노원구': 14,\n",
       " '종로구': 39,\n",
       " '서대문구': 22,\n",
       " '강동구': 17,\n",
       " '중랑구': 8,\n",
       " '양천구': 17,\n",
       " '동작구': 11,\n",
       " '관악구': 12,\n",
       " '동대문구': 13,\n",
       " '강서구': 27,\n",
       " '마포구': 36,\n",
       " '송파구': 36,\n",
       " '광진구': 19,\n",
       " '구로구': 14,\n",
       " '은평구': 14,\n",
       " '강북구': 6,\n",
       " '성북구': 15}"
      ]
     },
     "metadata": {},
     "output_type": "display_data"
    }
   ],
   "source": [
    "gu_counts = dict(zip(unique,[0]*len(unique)))\n",
    "\n",
    "for info in r.json()['list']:\n",
    "    gu_counts[info['addr'].split(' ')[1]] +=1\n",
    "\n",
    "display(gu_counts)"
   ]
  },
  {
   "cell_type": "code",
   "execution_count": null,
   "metadata": {},
   "outputs": [],
   "source": []
  }
 ],
 "metadata": {
  "kernelspec": {
   "display_name": "Python 3",
   "language": "python",
   "name": "python3"
  },
  "language_info": {
   "codemirror_mode": {
    "name": "ipython",
    "version": 3
   },
   "file_extension": ".py",
   "mimetype": "text/x-python",
   "name": "python",
   "nbconvert_exporter": "python",
   "pygments_lexer": "ipython3",
   "version": "3.10.12"
  }
 },
 "nbformat": 4,
 "nbformat_minor": 2
}
